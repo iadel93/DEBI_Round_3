{
 "cells": [
  {
   "cell_type": "markdown",
   "id": "caa3733f",
   "metadata": {},
   "source": [
    "# Pandas session1 recap"
   ]
  },
  {
   "cell_type": "code",
   "execution_count": 13,
   "id": "818338ed",
   "metadata": {},
   "outputs": [
    {
     "name": "stdout",
     "output_type": "stream",
     "text": [
      "   A  B  C\n",
      "0  1  4  7\n",
      "1  2  5  8\n",
      "2  3  6  9\n",
      "<class 'pandas.core.frame.DataFrame'>\n"
     ]
    }
   ],
   "source": [
    "import pandas as pd\n",
    "\n",
    "data = pd.DataFrame({\n",
    "    'A': [1, 2, 3],\n",
    "    'B': [4, 5, 6],\n",
    "    'C': [7, 8, 9]\n",
    "})\n",
    "\n",
    "print(data)\n",
    "\n",
    "print(type(data))"
   ]
  },
  {
   "cell_type": "code",
   "execution_count": 2,
   "id": "965d9667",
   "metadata": {},
   "outputs": [
    {
     "name": "stdout",
     "output_type": "stream",
     "text": [
      "<class 'pandas.core.frame.DataFrame'>\n",
      "RangeIndex: 3 entries, 0 to 2\n",
      "Data columns (total 3 columns):\n",
      " #   Column  Non-Null Count  Dtype\n",
      "---  ------  --------------  -----\n",
      " 0   A       3 non-null      int64\n",
      " 1   B       3 non-null      int64\n",
      " 2   C       3 non-null      int64\n",
      "dtypes: int64(3)\n",
      "memory usage: 204.0 bytes\n",
      "None\n"
     ]
    }
   ],
   "source": [
    "print(data.info())"
   ]
  },
  {
   "cell_type": "code",
   "execution_count": 3,
   "id": "52ae6abf",
   "metadata": {},
   "outputs": [
    {
     "name": "stdout",
     "output_type": "stream",
     "text": [
      "         A    B    C\n",
      "count  3.0  3.0  3.0\n",
      "mean   2.0  5.0  8.0\n",
      "std    1.0  1.0  1.0\n",
      "min    1.0  4.0  7.0\n",
      "25%    1.5  4.5  7.5\n",
      "50%    2.0  5.0  8.0\n",
      "75%    2.5  5.5  8.5\n",
      "max    3.0  6.0  9.0\n"
     ]
    }
   ],
   "source": [
    "print(data.describe())"
   ]
  },
  {
   "cell_type": "code",
   "execution_count": null,
   "id": "939d7acf",
   "metadata": {},
   "outputs": [
    {
     "name": "stdout",
     "output_type": "stream",
     "text": [
      "0    1\n",
      "1    2\n",
      "2    3\n",
      "Name: A, dtype: int64\n",
      "A    2\n",
      "B    5\n",
      "C    8\n",
      "Name: 1, dtype: int64\n",
      "<class 'pandas.core.series.Series'>\n"
     ]
    }
   ],
   "source": [
    "# Slicing\n",
    "\n",
    "print(data['A'])  # column\n",
    "\n",
    "print(data.iloc[1]) # row\n",
    "print(type(data.iloc[1]))"
   ]
  },
  {
   "cell_type": "code",
   "execution_count": 8,
   "id": "2142d58c",
   "metadata": {},
   "outputs": [
    {
     "name": "stdout",
     "output_type": "stream",
     "text": [
      "8\n",
      "5\n"
     ]
    }
   ],
   "source": [
    "# single value\n",
    "print(data.iloc[1, 2])\n",
    "print(data['B'][1])"
   ]
  },
  {
   "cell_type": "code",
   "execution_count": 20,
   "id": "ed202a1b",
   "metadata": {},
   "outputs": [
    {
     "name": "stdout",
     "output_type": "stream",
     "text": [
      "   A  B  C\n",
      "x  1  4  7\n",
      "y  2  5  8\n",
      "z  3  6  9\n"
     ]
    }
   ],
   "source": [
    "# Change index\n",
    "data.index = ['x', 'y', 'z']\n",
    "print(data)\n"
   ]
  },
  {
   "cell_type": "code",
   "execution_count": 19,
   "id": "48a82ea0",
   "metadata": {},
   "outputs": [
    {
     "name": "stdout",
     "output_type": "stream",
     "text": [
      "   B  C\n",
      "A      \n",
      "1  4  7\n",
      "2  5  8\n",
      "3  6  9\n"
     ]
    }
   ],
   "source": [
    "data_indexed = data.set_index('A', drop=True)\n",
    "# data_indexed.columns.name = 'Columns'\n",
    "print(data_indexed)"
   ]
  },
  {
   "cell_type": "code",
   "execution_count": 25,
   "id": "e641a590",
   "metadata": {},
   "outputs": [
    {
     "name": "stdout",
     "output_type": "stream",
     "text": [
      "____Data Before Melt____\n",
      "     Names  Cairo  Alex  Age\n",
      "0    Alice      1     0   25\n",
      "1      Bob      0     1   30\n",
      "2  Charlie      1     0   35\n",
      "____Data After Melt____\n",
      "     Names  Age   City  Visited\n",
      "0    Alice   25  Cairo        1\n",
      "1      Bob   30  Cairo        0\n",
      "2  Charlie   35  Cairo        1\n",
      "3    Alice   25   Alex        0\n",
      "4      Bob   30   Alex        1\n",
      "5  Charlie   35   Alex        0\n"
     ]
    }
   ],
   "source": [
    "# Reshaping the dataframes\n",
    "\n",
    "# Melt Example\n",
    "data = pd.DataFrame(\n",
    "    {\n",
    "        'Names': ['Alice', 'Bob', 'Charlie'],\n",
    "        'Cairo': [1, 0, 1],\n",
    "        'Alex': [0, 1, 0],\n",
    "        'Age': [25, 30, 35]\n",
    "    }\n",
    ")\n",
    "\n",
    "print(\"____Data Before Melt____\")\n",
    "print(data)\n",
    "\n",
    "data_melted = pd.melt(data, id_vars=['Names', 'Age'], var_name='City', value_name='Visited')\n",
    "print(\"____Data After Melt____\")\n",
    "print(data_melted)"
   ]
  },
  {
   "cell_type": "code",
   "execution_count": 30,
   "id": "9c0a2b80",
   "metadata": {},
   "outputs": [
    {
     "name": "stdout",
     "output_type": "stream",
     "text": [
      "____Data After Pivot____\n",
      "City         Alex  Cairo\n",
      "Names   Age             \n",
      "Alice   25      0      1\n",
      "Bob     30      1      0\n",
      "Charlie 35      0      1\n"
     ]
    }
   ],
   "source": [
    "# Pivot Example\n",
    "data_pivoted = data_melted.pivot(index=['Names', 'Age'], columns='City', values='Visited')\n",
    "print(\"____Data After Pivot____\")\n",
    "print(data_pivoted)"
   ]
  },
  {
   "cell_type": "code",
   "execution_count": 33,
   "id": "d11db758",
   "metadata": {},
   "outputs": [
    {
     "name": "stdout",
     "output_type": "stream",
     "text": [
      "____Concatenated Data____\n",
      "   ID     Name\n",
      "0   1    Alice\n",
      "1   2      Bob\n",
      "2   3  Charlie\n",
      "3   4    David\n",
      "4   5      Eva\n",
      "5   6    Frank\n"
     ]
    }
   ],
   "source": [
    "# Concatenation and Merging\n",
    "data1 = pd.DataFrame({\n",
    "    'ID': [1, 2, 3],\n",
    "    'Name': ['Alice', 'Bob', 'Charlie']\n",
    "})\n",
    "data2 = pd.DataFrame({\n",
    "    'ID': [4, 5, 6],\n",
    "    'Name': ['David', 'Eva', 'Frank']\n",
    "})\n",
    "data_concat = pd.concat([data1, data2], ignore_index=True)\n",
    "print(\"____Concatenated Data____\")\n",
    "print(data_concat)"
   ]
  },
  {
   "cell_type": "code",
   "execution_count": 35,
   "id": "c0dd05ec",
   "metadata": {},
   "outputs": [
    {
     "name": "stdout",
     "output_type": "stream",
     "text": [
      "____Data After Adding Age Column____\n",
      "   ID     Name  Age\n",
      "0   1    Alice   25\n",
      "1   2      Bob   30\n",
      "2   3  Charlie   35\n",
      "3   4    David   40\n",
      "4   5      Eva   28\n",
      "5   6    Frank   33\n"
     ]
    }
   ],
   "source": [
    "# Adding more columns\n",
    "data_concat['Age'] = [25, 30, 35, 40, 28, 33]\n",
    "print(\"____Data After Adding Age Column____\")\n",
    "print(data_concat)"
   ]
  },
  {
   "cell_type": "code",
   "execution_count": 36,
   "id": "ac1c33aa",
   "metadata": {},
   "outputs": [
    {
     "name": "stdout",
     "output_type": "stream",
     "text": [
      "____Adult Data____\n",
      "   ID     Name  Age\n",
      "1   2      Bob   30\n",
      "2   3  Charlie   35\n",
      "3   4    David   40\n",
      "5   6    Frank   33\n"
     ]
    }
   ],
   "source": [
    "# Selections based on conditions\n",
    "adults = data_concat[data_concat['Age'] >= 30]\n",
    "print(\"____Adult Data____\")\n",
    "print(adults)"
   ]
  },
  {
   "cell_type": "code",
   "execution_count": null,
   "id": "b5e4e454",
   "metadata": {},
   "outputs": [],
   "source": []
  }
 ],
 "metadata": {
  "kernelspec": {
   "display_name": "base",
   "language": "python",
   "name": "python3"
  },
  "language_info": {
   "codemirror_mode": {
    "name": "ipython",
    "version": 3
   },
   "file_extension": ".py",
   "mimetype": "text/x-python",
   "name": "python",
   "nbconvert_exporter": "python",
   "pygments_lexer": "ipython3",
   "version": "3.12.3"
  }
 },
 "nbformat": 4,
 "nbformat_minor": 5
}
