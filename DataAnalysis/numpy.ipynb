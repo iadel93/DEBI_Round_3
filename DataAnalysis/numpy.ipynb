{
 "cells": [
  {
   "cell_type": "code",
   "execution_count": 2,
   "id": "3be927f7",
   "metadata": {},
   "outputs": [
    {
     "name": "stdout",
     "output_type": "stream",
     "text": [
      "[[1. 2. 3.]\n",
      " [4. 5. 6.]]\n",
      "2 (2, 3) float32\n"
     ]
    }
   ],
   "source": [
    "import numpy as np\n",
    "a = np.array([[1,2,3],[4,5,6]],dtype=np.float32)\n",
    "print(a)\n",
    "print(a.ndim, a.shape, a.dtype )"
   ]
  },
  {
   "cell_type": "code",
   "execution_count": 5,
   "id": "88888be4",
   "metadata": {},
   "outputs": [
    {
     "name": "stdout",
     "output_type": "stream",
     "text": [
      "[[1. 1. 1. 1.]\n",
      " [1. 1. 1. 1.]\n",
      " [1. 1. 1. 1.]]\n",
      "[[0. 0. 0.]\n",
      " [0. 0. 0.]\n",
      " [0. 0. 0.]]\n",
      "[[1. 0. 0.]\n",
      " [0. 1. 0.]\n",
      " [0. 0. 1.]]\n"
     ]
    }
   ],
   "source": [
    "b = np.ones((3,4))\n",
    "print(b)\n",
    "\n",
    "c = np.zeros((3,3))\n",
    "print(c)\n",
    "\n",
    "d = np.eye(3)\n",
    "print(d)\n"
   ]
  },
  {
   "cell_type": "code",
   "execution_count": 6,
   "id": "a060c21a",
   "metadata": {},
   "outputs": [
    {
     "name": "stdout",
     "output_type": "stream",
     "text": [
      "[[0.13176092 0.64319773]\n",
      " [0.03472609 0.52973709]]\n",
      "[[1 0 3]\n",
      " [5 0 5]\n",
      " [8 7 6]]\n",
      "[[ 0.32145451 -1.02288297 -1.98186431]\n",
      " [-0.43692064 -1.65891435 -0.58620824]\n",
      " [-0.90795149  0.90569056  0.00987461]]\n",
      "-0.5953024802697232 0.7576920789609081 0.8704550987620833\n"
     ]
    }
   ],
   "source": [
    "f = np.random.random((2,2))\n",
    "print(f)\n",
    "\n",
    "g = np.random.randint(0,10,(3,3))\n",
    "print(g)\n",
    "\n",
    "j = np.random.normal(0,1,(3,3))\n",
    "print(j)\n",
    "print(j.mean(), j.var(), j.std())"
   ]
  },
  {
   "cell_type": "code",
   "execution_count": 9,
   "id": "a350a138",
   "metadata": {},
   "outputs": [
    {
     "name": "stdout",
     "output_type": "stream",
     "text": [
      "[[2. 2. 2.]\n",
      " [2. 2. 2.]]\n"
     ]
    }
   ],
   "source": [
    "A = np.ones((2,3))\n",
    "B = np.ones((2,3))\n",
    "C = A + B\n",
    "print(C)"
   ]
  },
  {
   "cell_type": "code",
   "execution_count": null,
   "id": "aef9d4e1",
   "metadata": {},
   "outputs": [
    {
     "name": "stdout",
     "output_type": "stream",
     "text": [
      "[[1 2 3]\n",
      " [4 5 6]]\n",
      "(2, 3)\n",
      "[[1 2]\n",
      " [3 4]\n",
      " [5 6]]\n",
      "[1 2 3 4 5 6]\n",
      "(6,)\n",
      "[[1 2 3 4 5 6]]\n",
      "(1, 6)\n"
     ]
    }
   ],
   "source": [
    "d = np.array([[1,2,3],[4,5,6]])\n",
    "print(d)\n",
    "print(d.shape)\n",
    "\n",
    "d = d.reshape((3,2))\n",
    "print(d)\n",
    "\n",
    "# d = d.reshape((3,3))   # ERROR because total number of elements do not match\n",
    "# print(d)\n",
    "\n",
    "d = d.flatten()\n",
    "print(d)\n",
    "print(d.shape)\n",
    "d = d.reshape((1,-1))\n",
    "print(d)\n",
    "print(d.shape)"
   ]
  },
  {
   "cell_type": "code",
   "execution_count": 19,
   "id": "25bc8a8c",
   "metadata": {},
   "outputs": [
    {
     "name": "stdout",
     "output_type": "stream",
     "text": [
      "[[6 7 1 3]\n",
      " [4 2 8 2]\n",
      " [9 4 3 2]]\n",
      "[[6 4 9]\n",
      " [7 2 4]\n",
      " [1 8 3]\n",
      " [3 2 2]]\n"
     ]
    }
   ],
   "source": [
    "v = np.random.randint(0,10,(3,4))\n",
    "print(v)\n",
    "\n",
    "v_t = v.T\n",
    "print(v_t)"
   ]
  },
  {
   "cell_type": "markdown",
   "id": "edfde81a",
   "metadata": {},
   "source": [
    "# Arithmetic Operations using matrcies"
   ]
  },
  {
   "cell_type": "code",
   "execution_count": 20,
   "id": "4a3ff7c0",
   "metadata": {},
   "outputs": [
    {
     "name": "stdout",
     "output_type": "stream",
     "text": [
      "[[ 6  8]\n",
      " [10 12]]\n",
      "[[-4 -4]\n",
      " [-4 -4]]\n",
      "[[ 5 12]\n",
      " [21 32]]\n",
      "[[0.2        0.33333333]\n",
      " [0.42857143 0.5       ]]\n"
     ]
    }
   ],
   "source": [
    "# Arithmetic Operations using matrcies\n",
    "x = np.array([[1,2],[3,4]])\n",
    "y = np.array([[5,6],[7,8]])\n",
    "print(x+y)\n",
    "print(x-y)\n",
    "print(x*y)\n",
    "print(x/y)"
   ]
  },
  {
   "cell_type": "code",
   "execution_count": 25,
   "id": "16be1d29",
   "metadata": {},
   "outputs": [
    {
     "name": "stdout",
     "output_type": "stream",
     "text": [
      "(2, 2) (2, 2)\n",
      "[[19 22]\n",
      " [43 50]]\n"
     ]
    }
   ],
   "source": [
    "# Matrix Multiplication\n",
    "x = np.array([[1,2],[3,4]])\n",
    "y = np.array([[5,6],[7,8]])\n",
    "print(x.shape, y.shape)\n",
    "z = x.dot(y)\n",
    "print(z)"
   ]
  },
  {
   "cell_type": "code",
   "execution_count": 27,
   "id": "d0c94534",
   "metadata": {},
   "outputs": [
    {
     "name": "stdout",
     "output_type": "stream",
     "text": [
      "[[False  True]\n",
      " [ True  True]]\n",
      "[22 43 50]\n"
     ]
    }
   ],
   "source": [
    "# Logical Operations\n",
    "print(z > 20)\n",
    "print(z[z > 20])"
   ]
  },
  {
   "cell_type": "code",
   "execution_count": 28,
   "id": "e3bb68fa",
   "metadata": {},
   "outputs": [
    {
     "name": "stdout",
     "output_type": "stream",
     "text": [
      "[[19 22]\n",
      " [43 50]]\n",
      "[[29 32]\n",
      " [53 60]]\n"
     ]
    }
   ],
   "source": [
    "# Scalar Operations\n",
    "print(z)\n",
    "print(z + 10)"
   ]
  },
  {
   "cell_type": "code",
   "execution_count": 30,
   "id": "cec61e96",
   "metadata": {},
   "outputs": [
    {
     "name": "stdout",
     "output_type": "stream",
     "text": [
      "[[ 0.14987721 -0.00885131]\n",
      " [-0.83177474 -0.26237485]]\n",
      "[[ 0.98870462 -0.99996083]\n",
      " [ 0.5551133   0.96496603]]\n",
      "[[ 0.15158947  0.00885166]\n",
      " [-1.49838734 -0.27190061]]\n",
      "[[2.94443898 3.09104245]\n",
      " [3.76120012 3.91202301]]\n",
      "[[1.78482301e+08 3.58491285e+09]\n",
      " [4.72783947e+18 5.18470553e+21]]\n",
      "[[4.35889894 4.69041576]\n",
      " [6.55743852 7.07106781]]\n"
     ]
    }
   ],
   "source": [
    "# Mathematical Functions\n",
    "print(np.sin(z))\n",
    "print(np.cos(z))\n",
    "print(np.tan(z))\n",
    "\n",
    "print(np.log(z))\n",
    "print(np.exp(z))\n",
    "print(np.sqrt(z))"
   ]
  },
  {
   "cell_type": "markdown",
   "id": "3bddf35b",
   "metadata": {},
   "source": [
    "# Slicing"
   ]
  },
  {
   "cell_type": "code",
   "execution_count": 33,
   "id": "6a1f5e2f",
   "metadata": {},
   "outputs": [
    {
     "name": "stdout",
     "output_type": "stream",
     "text": [
      "[[1 2 3]\n",
      " [4 5 6]\n",
      " [7 8 9]]\n",
      "[1 2 3]\n",
      "[1 4 7]\n",
      "5\n",
      "[6 7 8 9]\n"
     ]
    }
   ],
   "source": [
    "A = np.array([[1,2,3],[4,5,6],[7,8,9]])\n",
    "print(A)\n",
    "\n",
    "# Slicing\n",
    "print(A[0, :])   # First Row\n",
    "print(A[:, 0])   # First Column\n",
    "print(A[1, 1])   # Element at Second Row, Second Column\n",
    "\n",
    "print(A[A > 5])   # Elements greater than 5"
   ]
  },
  {
   "cell_type": "markdown",
   "id": "74d28483",
   "metadata": {},
   "source": [
    "# Broadcasting"
   ]
  },
  {
   "cell_type": "code",
   "execution_count": 39,
   "id": "8fb64f14",
   "metadata": {},
   "outputs": [
    {
     "name": "stdout",
     "output_type": "stream",
     "text": [
      "(5, 5, 3)\n",
      "(3,)\n",
      "[[[ 13  -9  11]\n",
      "  [ 12  -9  19]\n",
      "  [ 16  -2  17]\n",
      "  [ 16  -5  15]\n",
      "  [ 14  -3  12]]\n",
      "\n",
      " [[ 13  -2  19]\n",
      "  [ 13  -2  12]\n",
      "  [ 16  -2  11]\n",
      "  [ 15 -10  11]\n",
      "  [ 19  -4  13]]\n",
      "\n",
      " [[ 16  -3  12]\n",
      "  [ 13  -6  12]\n",
      "  [ 11  -4  16]\n",
      "  [ 13  -7  15]\n",
      "  [ 17  -6  15]]\n",
      "\n",
      " [[ 13  -5  18]\n",
      "  [ 12  -1  15]\n",
      "  [ 19  -7  13]\n",
      "  [ 18  -5  18]\n",
      "  [ 17 -10  16]]\n",
      "\n",
      " [[ 15  -2  18]\n",
      "  [ 16  -4  17]\n",
      "  [ 18  -1  14]\n",
      "  [ 16  -7  10]\n",
      "  [ 14  -6  16]]]\n",
      "(5, 5, 3)\n"
     ]
    }
   ],
   "source": [
    "A = np.random.randint(0,10,(5,5,3))\n",
    "print(A.shape)\n",
    "\n",
    "B = np.array([10,-10,10])\n",
    "print(B.shape)\n",
    "\n",
    "C = A + B\n",
    "print(C)\n",
    "print(C.shape)\n"
   ]
  },
  {
   "cell_type": "code",
   "execution_count": null,
   "id": "0772e53a",
   "metadata": {},
   "outputs": [],
   "source": []
  }
 ],
 "metadata": {
  "kernelspec": {
   "display_name": "base",
   "language": "python",
   "name": "python3"
  },
  "language_info": {
   "codemirror_mode": {
    "name": "ipython",
    "version": 3
   },
   "file_extension": ".py",
   "mimetype": "text/x-python",
   "name": "python",
   "nbconvert_exporter": "python",
   "pygments_lexer": "ipython3",
   "version": "3.12.3"
  }
 },
 "nbformat": 4,
 "nbformat_minor": 5
}
