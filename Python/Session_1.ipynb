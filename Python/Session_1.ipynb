{
 "cells": [
  {
   "cell_type": "code",
   "execution_count": 1,
   "id": "479905e9",
   "metadata": {},
   "outputs": [
    {
     "name": "stdout",
     "output_type": "stream",
     "text": [
      "Hello, World!\n"
     ]
    }
   ],
   "source": [
    "print(\"Hello, World!\")"
   ]
  },
  {
   "cell_type": "markdown",
   "id": "50a9214c",
   "metadata": {},
   "source": [
    "# Basic Data Types"
   ]
  },
  {
   "cell_type": "code",
   "execution_count": 3,
   "id": "dcfbda00",
   "metadata": {},
   "outputs": [
    {
     "name": "stdout",
     "output_type": "stream",
     "text": [
      "<class 'int'>\n",
      "5\n",
      "<class 'float'>\n",
      "3.14\n",
      "<class 'str'>\n",
      "Alice\n",
      "<class 'bool'>\n",
      "True\n"
     ]
    }
   ],
   "source": [
    "# Basic Data Types\n",
    "# int, float, str, bool\n",
    "\n",
    "x = 5\n",
    "y = 3.14\n",
    "name = \"Alice\"\n",
    "is_student = True\n",
    "\n",
    "print(type(x))  # <class 'int'>\n",
    "print(x)\n",
    "print(type(y))  # <class 'float'>\n",
    "print(y)\n",
    "print(type(name))  # <class 'str'>\n",
    "print(name)\n",
    "print(type(is_student))  # <class 'bool'>  \n",
    "print(is_student)"
   ]
  },
  {
   "cell_type": "markdown",
   "id": "d968dd49",
   "metadata": {},
   "source": [
    "# Arithmetic Operations"
   ]
  },
  {
   "cell_type": "code",
   "execution_count": 4,
   "id": "19320ef1",
   "metadata": {},
   "outputs": [
    {
     "name": "stdout",
     "output_type": "stream",
     "text": [
      "13\n",
      "7\n",
      "30\n",
      "3.3333333333333335\n",
      "3\n",
      "1\n",
      "1000\n"
     ]
    }
   ],
   "source": [
    "# + , - , * , /, //, %, **\n",
    "\n",
    "# Arithmetic Operations\n",
    "a = 10\n",
    "b = 3\n",
    "\n",
    "print(a + b)  # Addition\n",
    "print(a - b)  # Subtraction\n",
    "print(a * b)  # Multiplication\n",
    "print(a / b)  # Division\n",
    "print(a // b)  # Floor Division\n",
    "print(a % b)  # Modulus\n",
    "print(a ** b)  # Exponentiation"
   ]
  },
  {
   "cell_type": "markdown",
   "id": "d9f9618d",
   "metadata": {},
   "source": [
    "# Comparison Operations"
   ]
  },
  {
   "cell_type": "code",
   "execution_count": 5,
   "id": "50b4e66c",
   "metadata": {},
   "outputs": [
    {
     "name": "stdout",
     "output_type": "stream",
     "text": [
      "True\n",
      "False\n",
      "True\n",
      "False\n",
      "False\n",
      "True\n"
     ]
    }
   ],
   "source": [
    "# > , <, >=, <=, ==, !=\n",
    "# Comparison Operations\n",
    "\n",
    "print(a > b)   # Greater than\n",
    "print(a < b)   # Less than  \n",
    "print(a >= b)  # Greater than or equal to\n",
    "print(a <= b)  # Less than or equal to\n",
    "print(a == b)  # Equal to\n",
    "print(a != b)  # Not equal to\n",
    "\n"
   ]
  },
  {
   "cell_type": "markdown",
   "id": "0babec1a",
   "metadata": {},
   "source": [
    "# Logical OPerations"
   ]
  },
  {
   "cell_type": "code",
   "execution_count": null,
   "id": "21182bc7",
   "metadata": {},
   "outputs": [
    {
     "name": "stdout",
     "output_type": "stream",
     "text": [
      "True\n",
      "True\n",
      "False\n",
      "True\n"
     ]
    }
   ],
   "source": [
    "# and, or, not\n",
    "# Logical Operations\n",
    "print(a > 5 and b < 5)  # True if both conditions are true\n",
    "print(a > 5 or b > 5)   # True if at least one condition is true\n",
    "print(not (a > 5))      # True if the condition is false\n",
    "print((a > 5) and (b < 5))  # True if both conditions are true"
   ]
  },
  {
   "cell_type": "markdown",
   "id": "3c06a1c9",
   "metadata": {},
   "source": [
    "# String"
   ]
  },
  {
   "cell_type": "code",
   "execution_count": 11,
   "id": "53026953",
   "metadata": {},
   "outputs": [
    {
     "name": "stdout",
     "output_type": "stream",
     "text": [
      "Islam\n",
      "I\n",
      "sl\n",
      "IslamIslamIslam\n",
      "Islam is a student\n"
     ]
    }
   ],
   "source": [
    "name = \"Islam\"\n",
    "\n",
    "print(name)  # Output: Islam\n",
    "\n",
    "# Slicing\n",
    "print(name[0])  # Output: I\n",
    "print(name[1:3])  # Output: sl\n",
    "\n",
    "print(name * 3)\n",
    "print(name + \" is a student\")  # Output: Islam is a student"
   ]
  },
  {
   "cell_type": "markdown",
   "id": "89a07c1d",
   "metadata": {},
   "source": [
    "# Input"
   ]
  },
  {
   "cell_type": "code",
   "execution_count": 12,
   "id": "668cd797",
   "metadata": {},
   "outputs": [
    {
     "name": "stdout",
     "output_type": "stream",
     "text": [
      "Hello, Islam!\n"
     ]
    }
   ],
   "source": [
    "data = input(\"Enter your name: \")\n",
    "print(\"Hello, \" + data + \"!\")  # Output: Hello, [user's\n"
   ]
  },
  {
   "cell_type": "code",
   "execution_count": 16,
   "id": "a982842d",
   "metadata": {},
   "outputs": [
    {
     "name": "stdout",
     "output_type": "stream",
     "text": [
      "33333\n"
     ]
    }
   ],
   "source": [
    "number = input(\"Enter a number: \")\n",
    "print(number * 5)"
   ]
  },
  {
   "cell_type": "code",
   "execution_count": 15,
   "id": "3a94fb35",
   "metadata": {},
   "outputs": [
    {
     "name": "stdout",
     "output_type": "stream",
     "text": [
      "15\n"
     ]
    }
   ],
   "source": [
    "# Casting is needed , int(), float(), str()\n",
    "number = int(input(\"Enter a number: \"))\n",
    "print(number * 5)"
   ]
  },
  {
   "cell_type": "markdown",
   "id": "79760251",
   "metadata": {},
   "source": [
    "# Control Flow"
   ]
  },
  {
   "cell_type": "code",
   "execution_count": null,
   "id": "3a63c8fc",
   "metadata": {},
   "outputs": [],
   "source": [
    "# conidtional: if, elif, else\n",
    "# loops: for, while"
   ]
  },
  {
   "cell_type": "code",
   "execution_count": 20,
   "id": "84c7f0db",
   "metadata": {},
   "outputs": [
    {
     "name": "stdout",
     "output_type": "stream",
     "text": [
      "X is equal to zero\n"
     ]
    }
   ],
   "source": [
    "# If statement\n",
    "# if (condition):\n",
    "#  statement_1  --> statment 1 is executed when the condition is true\n",
    "# elif (Condition_2):\n",
    "#   statemtn_2 --> statement 2 is executed then cond.1 is False and cond.2 is True\n",
    "# else:\n",
    "#  Statment_3 --> statment 3 is executed only if all previous conditions are False\n",
    "x = 0\n",
    "if x > 0:\n",
    "    print(\"X is larger than zero\")\n",
    "elif x <0:\n",
    "    print(\"X is smaller than zero\")\n",
    "else:\n",
    "    print(\"X is equal to zero\")\n"
   ]
  },
  {
   "cell_type": "code",
   "execution_count": 21,
   "id": "6a57323c",
   "metadata": {},
   "outputs": [
    {
     "name": "stdout",
     "output_type": "stream",
     "text": [
      "A\n",
      "B\n",
      "C\n",
      "D\n"
     ]
    }
   ],
   "source": [
    "grade = 90\n",
    "\n",
    "if grade>85:\n",
    "    print(\"A\")\n",
    "if grade>75:\n",
    "    print(\"B\")\n",
    "if grade>65:\n",
    "    print(\"C\")\n",
    "if grade>55:\n",
    "    print(\"D\")\n"
   ]
  },
  {
   "cell_type": "code",
   "execution_count": 22,
   "id": "0484e1d8",
   "metadata": {},
   "outputs": [
    {
     "name": "stdout",
     "output_type": "stream",
     "text": [
      "A\n"
     ]
    }
   ],
   "source": [
    "grade = 90\n",
    "\n",
    "if grade>85:\n",
    "    print(\"A\")\n",
    "elif grade>75:\n",
    "    print(\"B\")\n",
    "elif grade>65:\n",
    "    print(\"C\")\n",
    "elif grade>55:\n",
    "    print(\"D\")"
   ]
  },
  {
   "cell_type": "code",
   "execution_count": null,
   "id": "4f40531f",
   "metadata": {},
   "outputs": [
    {
     "ename": "SyntaxError",
     "evalue": "invalid syntax (2127597041.py, line 13)",
     "output_type": "error",
     "traceback": [
      "\u001b[1;36m  Cell \u001b[1;32mIn[24], line 13\u001b[1;36m\u001b[0m\n\u001b[1;33m    else:\u001b[0m\n\u001b[1;37m    ^\u001b[0m\n\u001b[1;31mSyntaxError\u001b[0m\u001b[1;31m:\u001b[0m invalid syntax\n"
     ]
    }
   ],
   "source": [
    "grade = 40\n",
    "\n",
    "if grade>85:\n",
    "    print(\"A\")\n",
    "elif grade>75:\n",
    "    print(\"B\")\n",
    "elif grade>65:\n",
    "    print(\"C\")\n",
    "elif grade>55:\n",
    "    print(\"D\")\n",
    "else:\n",
    "    pass\n",
    "# else:\n",
    "#     print('Name not known')\n",
    "    # Code with some other condtions\n",
    "\n",
    "if name == \"Ahmed\":\n",
    "    print(\"Welcome\")\n",
    "\n"
   ]
  },
  {
   "cell_type": "markdown",
   "id": "fb944e8d",
   "metadata": {},
   "source": [
    "Create a function that takes a number as input and returns True if the sum of its digits has the same parity as the entire number. Otherwise, return False."
   ]
  },
  {
   "cell_type": "code",
   "execution_count": 27,
   "id": "5051c32d",
   "metadata": {},
   "outputs": [
    {
     "ename": "IndexError",
     "evalue": "string index out of range",
     "output_type": "error",
     "traceback": [
      "\u001b[1;31m---------------------------------------------------------------------------\u001b[0m",
      "\u001b[1;31mIndexError\u001b[0m                                Traceback (most recent call last)",
      "Cell \u001b[1;32mIn[27], line 2\u001b[0m\n\u001b[0;32m      1\u001b[0m number \u001b[38;5;241m=\u001b[39m \u001b[38;5;28minput\u001b[39m(\u001b[38;5;124m\"\u001b[39m\u001b[38;5;124mPlease enter a number\u001b[39m\u001b[38;5;124m\"\u001b[39m)\n\u001b[1;32m----> 2\u001b[0m digits_sum \u001b[38;5;241m=\u001b[39m \u001b[38;5;28mint\u001b[39m(number[\u001b[38;5;241m0\u001b[39m]) \u001b[38;5;241m+\u001b[39m \u001b[38;5;28mint\u001b[39m(\u001b[43mnumber\u001b[49m\u001b[43m[\u001b[49m\u001b[38;5;241;43m1\u001b[39;49m\u001b[43m]\u001b[49m)\n\u001b[0;32m      3\u001b[0m digits_parity \u001b[38;5;241m=\u001b[39m digits_sum\u001b[38;5;241m%\u001b[39m\u001b[38;5;241m2\u001b[39m\n\u001b[0;32m      4\u001b[0m number_parity \u001b[38;5;241m=\u001b[39m \u001b[38;5;28mint\u001b[39m(number)\u001b[38;5;241m%\u001b[39m\u001b[38;5;241m2\u001b[39m\n",
      "\u001b[1;31mIndexError\u001b[0m: string index out of range"
     ]
    }
   ],
   "source": [
    "number = input(\"Please enter a number\")\n",
    "digits_sum = int(number[0]) + int(number[1])\n",
    "digits_parity = digits_sum%2\n",
    "number_parity = int(number)%2\n",
    "\n",
    "if digits_parity == number_parity:\n",
    "    print(True)\n",
    "else:\n",
    "    print(False)"
   ]
  },
  {
   "cell_type": "code",
   "execution_count": null,
   "id": "ba2585ec",
   "metadata": {},
   "outputs": [],
   "source": []
  }
 ],
 "metadata": {
  "kernelspec": {
   "display_name": "base",
   "language": "python",
   "name": "python3"
  },
  "language_info": {
   "codemirror_mode": {
    "name": "ipython",
    "version": 3
   },
   "file_extension": ".py",
   "mimetype": "text/x-python",
   "name": "python",
   "nbconvert_exporter": "python",
   "pygments_lexer": "ipython3",
   "version": "3.12.3"
  }
 },
 "nbformat": 4,
 "nbformat_minor": 5
}
