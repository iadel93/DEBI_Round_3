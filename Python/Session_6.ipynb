{
 "cells": [
  {
   "cell_type": "markdown",
   "id": "f0384110",
   "metadata": {},
   "source": [
    "Override vs Overload"
   ]
  },
  {
   "cell_type": "code",
   "execution_count": 1,
   "id": "c0e059a2",
   "metadata": {},
   "outputs": [
    {
     "name": "stdout",
     "output_type": "stream",
     "text": [
      "Hello, my name is Ahmed and I am 20 years old. My student ID is S12345.\n"
     ]
    }
   ],
   "source": [
    "class person:\n",
    "    def __init__(self, name, age):\n",
    "        self.name = name\n",
    "        self.age = age\n",
    "\n",
    "    def greet(self):\n",
    "        return f\"Hello, my name is {self.name} and I am {self.age} years old.\"\n",
    "    \n",
    "class student(person):\n",
    "    def __init__(self, name, age, student_id): # Overloading the constructor\n",
    "        super().__init__(name, age)\n",
    "        self.student_id = student_id\n",
    "\n",
    "    def greet(self): # Overriding the greet method\n",
    "        return f\"{super().greet()} My student ID is {self.student_id}.\"\n",
    "    \n",
    "ahmed = student(\"Ahmed\", 20, \"S12345\")\n",
    "print(ahmed.greet())  # Output: Hello, my name is Ahmed and I am 20 years old. My student ID is S12345."
   ]
  },
  {
   "cell_type": "markdown",
   "id": "3e86ee6b",
   "metadata": {},
   "source": [
    "Create a function which takes a list of objects from the class IceCream and returns the sweetness value of the sweetest ice cream."
   ]
  },
  {
   "cell_type": "code",
   "execution_count": 4,
   "id": "15775ceb",
   "metadata": {},
   "outputs": [],
   "source": [
    "class IceCream():\n",
    "    def __init__(self, flavour, num_sprinkles):\n",
    "        self.flavour = flavour\n",
    "        self.num_sprinkles = num_sprinkles\n",
    "\n",
    "sweet_values ={\n",
    "    \"Plain\":0,\n",
    "    \"Vanilla\":5,\n",
    "    \"ChocolateChip\":5,\n",
    "    \"Strawberry\": 10,\n",
    "    \"Chocolate\": 10\n",
    "}\n",
    "\n",
    "def sweetest_ice_cream(ice_creams):\n",
    "    max_sweet = 0\n",
    "    for ice_cream in ice_creams:\n",
    "        vlaue = sweet_values[ice_cream.flavour] + ice_cream.num_sprinkles\n",
    "\n",
    "        if vlaue > max_sweet:\n",
    "            max_sweet = vlaue\n",
    "\n",
    "    return max_sweet\n",
    "\n",
    "ice1 = IceCream(\"Chocolate\", 13)         # value of 23\n",
    "ice2 = IceCream(\"Vanilla\", 0)           # value of 5\n",
    "ice3 = IceCream(\"Strawberry\", 7)         # value of 17\n",
    "ice4 = IceCream(\"Plain\", 18)             # value of 18\n",
    "ice5 = IceCream(\"ChocolateChip\", 3)      # value of 8"
   ]
  },
  {
   "cell_type": "code",
   "execution_count": 5,
   "id": "a28b743d",
   "metadata": {},
   "outputs": [
    {
     "data": {
      "text/plain": [
       "23"
      ]
     },
     "execution_count": 5,
     "metadata": {},
     "output_type": "execute_result"
    }
   ],
   "source": [
    "sweetest_ice_cream([ice1, ice2, ice3, ice4, ice5])"
   ]
  },
  {
   "cell_type": "markdown",
   "id": "1d3b066c",
   "metadata": {},
   "source": [
    "# Lambda"
   ]
  },
  {
   "cell_type": "code",
   "execution_count": 6,
   "id": "b8f1b331",
   "metadata": {},
   "outputs": [
    {
     "name": "stdout",
     "output_type": "stream",
     "text": [
      "7\n"
     ]
    }
   ],
   "source": [
    "def add(x,y):\n",
    "    return x+y\n",
    "\n",
    "print(add(3,4))"
   ]
  },
  {
   "cell_type": "code",
   "execution_count": 8,
   "id": "d4038580",
   "metadata": {},
   "outputs": [
    {
     "name": "stdout",
     "output_type": "stream",
     "text": [
      "6\n"
     ]
    }
   ],
   "source": [
    "add = lambda x,y: x+y\n",
    "\n",
    "print(add(3,3))\n",
    "#  Lambda is an anonymous function"
   ]
  },
  {
   "cell_type": "code",
   "execution_count": 10,
   "id": "06ad4262",
   "metadata": {},
   "outputs": [
    {
     "data": {
      "text/plain": [
       "True"
      ]
     },
     "execution_count": 10,
     "metadata": {},
     "output_type": "execute_result"
    }
   ],
   "source": [
    "# Function that checks wether even or odd\n",
    "def is_even(x):\n",
    "    if x%2 == 0:\n",
    "        return True\n",
    "    else:\n",
    "        return False\n",
    "\n",
    "is_even(6)"
   ]
  },
  {
   "cell_type": "code",
   "execution_count": 11,
   "id": "52681f6a",
   "metadata": {},
   "outputs": [
    {
     "name": "stdout",
     "output_type": "stream",
     "text": [
      "True\n"
     ]
    }
   ],
   "source": [
    "is_even = lambda x: True if x%2 ==0 else False\n",
    "print(is_even(6))"
   ]
  },
  {
   "cell_type": "code",
   "execution_count": null,
   "id": "7868e4d7",
   "metadata": {},
   "outputs": [
    {
     "name": "stdout",
     "output_type": "stream",
     "text": [
      "Positive\n",
      "Negative\n",
      "zero\n"
     ]
    }
   ],
   "source": [
    "def check_number(x):\n",
    "    if x > 0:\n",
    "        return \"Positive\"\n",
    "    else: \n",
    "        if x< 0:\n",
    "            return \"negative\"\n",
    "        else:\n",
    "            return \"zero\"\n",
    "\n",
    "check_number = lambda x: \"Positive\" if x > 0 else \"Negative\" if x < 0 else \"zero\"\n",
    "\n",
    "print(check_number(12))\n",
    "print(check_number(-2))\n",
    "print(check_number(0))"
   ]
  },
  {
   "cell_type": "markdown",
   "id": "9114c554",
   "metadata": {},
   "source": [
    "# List statement"
   ]
  },
  {
   "cell_type": "code",
   "execution_count": null,
   "id": "0b79cbf7",
   "metadata": {},
   "outputs": [
    {
     "name": "stdout",
     "output_type": "stream",
     "text": [
      "[1, 2, 3, 4, 5, 6, 7, 8, 9, 10]\n"
     ]
    }
   ],
   "source": [
    "numbers = []\n",
    "for i in range(1,11):\n",
    "    numbers.append(i)\n",
    "\n",
    "print(numbers)"
   ]
  },
  {
   "cell_type": "code",
   "execution_count": 14,
   "id": "655f34dd",
   "metadata": {},
   "outputs": [
    {
     "name": "stdout",
     "output_type": "stream",
     "text": [
      "[1, 2, 3, 4, 5, 6, 7, 8, 9, 10]\n"
     ]
    }
   ],
   "source": [
    "numbers = [i for i in range(1,11)]\n",
    "print(numbers)"
   ]
  },
  {
   "cell_type": "code",
   "execution_count": 16,
   "id": "2a0aeb35",
   "metadata": {},
   "outputs": [
    {
     "name": "stdout",
     "output_type": "stream",
     "text": [
      "Hello\n",
      "Hello\n",
      "Hello\n",
      "Hello\n",
      "Hello\n"
     ]
    }
   ],
   "source": [
    "def say_hello_n(n):\n",
    "    for i in range(n):\n",
    "        print(\"Hello\")\n",
    "\n",
    "say_hello_n(5)"
   ]
  },
  {
   "cell_type": "code",
   "execution_count": 17,
   "id": "f93f6f64",
   "metadata": {},
   "outputs": [
    {
     "name": "stdout",
     "output_type": "stream",
     "text": [
      "Hello\n",
      "Hello\n",
      "Hello\n"
     ]
    },
    {
     "data": {
      "text/plain": [
       "[None, None, None]"
      ]
     },
     "execution_count": 17,
     "metadata": {},
     "output_type": "execute_result"
    }
   ],
   "source": [
    "say_hello_n = lambda n: [print(\"Hello\") for i in range(n)]\n",
    "\n",
    "say_hello_n(3)"
   ]
  },
  {
   "cell_type": "markdown",
   "id": "99fffc58",
   "metadata": {},
   "source": [
    "A Collatz sequence is generated like this. Start with a positive number. If it's even, halve it. If it's odd, multiply it by three and add one. Repeat the process with the resulting number. The Collatz Conjecture is that every sequence eventually reaches 1 (continuing past 1 just results in an endless repeat of the sequence 4, 2, 1).\n",
    "\n",
    "The length of the sequence from starting number to 1 varies widely.\n",
    "\n",
    "Create a function that takes a number as an argument and returns a tuple of two elements — the number of steps in the Collatz sequence of the number, and the highest number reached."
   ]
  },
  {
   "cell_type": "code",
   "execution_count": 22,
   "id": "08e5ec4a",
   "metadata": {},
   "outputs": [
    {
     "name": "stdout",
     "output_type": "stream",
     "text": [
      "[3, 10, 5, 16, 8, 4, 2, 1]\n"
     ]
    },
    {
     "data": {
      "text/plain": [
       "(8, 16)"
      ]
     },
     "execution_count": 22,
     "metadata": {},
     "output_type": "execute_result"
    }
   ],
   "source": [
    "def collatz(n):\n",
    "    steps = 1\n",
    "    max_number = 0\n",
    "    collatz_sequence = [n]\n",
    "\n",
    "    while True:\n",
    "        if n%2 == 0:\n",
    "            n = n//2\n",
    "        else:\n",
    "            n = (n*3)+1\n",
    "        collatz_sequence.append(n)\n",
    "        steps +=1\n",
    "\n",
    "        if n > max_number:\n",
    "            max_number = n\n",
    "\n",
    "        if n == 1 :\n",
    "            break\n",
    "    print(collatz_sequence)\n",
    "    return steps,max_number\n",
    "\n",
    "collatz(3)\n"
   ]
  },
  {
   "cell_type": "markdown",
   "id": "cf487643",
   "metadata": {},
   "source": [
    "# generators"
   ]
  },
  {
   "cell_type": "code",
   "execution_count": 27,
   "id": "e3430313",
   "metadata": {},
   "outputs": [],
   "source": [
    "def return_numbers(n):\n",
    "    numbers = []\n",
    "    for i in range(1,n):\n",
    "        numbers.append(i)\n",
    "\n",
    "    return numbers\n",
    "\n",
    "x = return_numbers(100000000)[:10]"
   ]
  },
  {
   "cell_type": "code",
   "execution_count": 30,
   "id": "71dab17b",
   "metadata": {},
   "outputs": [
    {
     "name": "stdout",
     "output_type": "stream",
     "text": [
      "<generator object return_numbers at 0x0000018D31317AC0>\n"
     ]
    }
   ],
   "source": [
    "def return_numbers(n):\n",
    "    for i in range(1,n):\n",
    "        yield i\n",
    "\n",
    "x = return_numbers(100000000)\n",
    "print(x)"
   ]
  },
  {
   "cell_type": "code",
   "execution_count": 34,
   "id": "5b0ffd59",
   "metadata": {},
   "outputs": [
    {
     "data": {
      "text/plain": [
       "4"
      ]
     },
     "execution_count": 34,
     "metadata": {},
     "output_type": "execute_result"
    }
   ],
   "source": [
    "next(x)"
   ]
  },
  {
   "cell_type": "code",
   "execution_count": 35,
   "id": "9677f214",
   "metadata": {},
   "outputs": [
    {
     "name": "stdout",
     "output_type": "stream",
     "text": [
      "5\n",
      "6\n",
      "7\n",
      "8\n",
      "9\n",
      "10\n",
      "11\n",
      "12\n",
      "13\n",
      "14\n",
      "15\n",
      "16\n",
      "17\n",
      "18\n",
      "19\n",
      "20\n"
     ]
    }
   ],
   "source": [
    "for c in x:\n",
    "    print(c)\n",
    "    if c == 20:\n",
    "        break"
   ]
  },
  {
   "cell_type": "code",
   "execution_count": 36,
   "id": "eb3f4ff6",
   "metadata": {},
   "outputs": [
    {
     "data": {
      "text/plain": [
       "21"
      ]
     },
     "execution_count": 36,
     "metadata": {},
     "output_type": "execute_result"
    }
   ],
   "source": [
    "next(x)"
   ]
  },
  {
   "cell_type": "code",
   "execution_count": 37,
   "id": "1a0d67c3",
   "metadata": {},
   "outputs": [
    {
     "name": "stdout",
     "output_type": "stream",
     "text": [
      "[2, 4, 6, 8]\n"
     ]
    }
   ],
   "source": [
    "# map\n",
    "nums = [1,2,3,4]\n",
    "for i in range(len(nums)):\n",
    "    nums[i] = nums[i] * 2\n",
    "\n",
    "print(nums)"
   ]
  },
  {
   "cell_type": "code",
   "execution_count": 40,
   "id": "1e44df2b",
   "metadata": {},
   "outputs": [
    {
     "name": "stdout",
     "output_type": "stream",
     "text": [
      "[2, 4, 6, 8]\n"
     ]
    }
   ],
   "source": [
    "nums = [1,2,3,4]\n",
    "# def double(x):\n",
    "#     return x*2\n",
    "# nums = list(map(double, nums))\n",
    "nums = list(map(lambda x:x*2, nums))\n",
    "print(nums)"
   ]
  },
  {
   "cell_type": "code",
   "execution_count": 41,
   "id": "413f888d",
   "metadata": {},
   "outputs": [
    {
     "name": "stdout",
     "output_type": "stream",
     "text": [
      "[12, 46, 4, 46, 68, 34, 12]\n"
     ]
    }
   ],
   "source": [
    "# fiter \n",
    "\n",
    "nums = [12,43,46,4,46,68,34,23,65,87,9,12]\n",
    "evens = []\n",
    "for i in nums:\n",
    "    if i %2 == 0:\n",
    "        evens.append(i)\n",
    "\n",
    "print(evens)"
   ]
  },
  {
   "cell_type": "code",
   "execution_count": 42,
   "id": "b4cac750",
   "metadata": {},
   "outputs": [
    {
     "name": "stdout",
     "output_type": "stream",
     "text": [
      "[12, 46, 4, 46, 68, 34, 12]\n"
     ]
    }
   ],
   "source": [
    "evens = list(filter(lambda x: True if x%2 == 0 else False, nums))\n",
    "print(evens)"
   ]
  },
  {
   "cell_type": "code",
   "execution_count": null,
   "id": "66935013",
   "metadata": {},
   "outputs": [
    {
     "name": "stdout",
     "output_type": "stream",
     "text": [
      "336\n"
     ]
    }
   ],
   "source": [
    "# reduce\n",
    "from functools import reduce\n",
    "\n",
    "nums = [12,43,45,34,65,7,34,34,62]\n",
    "my_sum = reduce(lambda x,y: x+y , nums)\n",
    "print(my_sum)"
   ]
  },
  {
   "cell_type": "code",
   "execution_count": 44,
   "id": "e57ba117",
   "metadata": {},
   "outputs": [
    {
     "data": {
      "text/plain": [
       "336"
      ]
     },
     "execution_count": 44,
     "metadata": {},
     "output_type": "execute_result"
    }
   ],
   "source": [
    "sum(nums)"
   ]
  },
  {
   "cell_type": "code",
   "execution_count": 45,
   "id": "a0e31c5b",
   "metadata": {},
   "outputs": [
    {
     "name": "stdout",
     "output_type": "stream",
     "text": [
      "-312\n"
     ]
    }
   ],
   "source": [
    "nums = [12,43,45,34,65,7,34,34,62]\n",
    "my_sub = reduce(lambda x,y: x-y , nums)\n",
    "print(my_sub)"
   ]
  },
  {
   "cell_type": "code",
   "execution_count": 47,
   "id": "e827cc75",
   "metadata": {},
   "outputs": [
    {
     "name": "stdout",
     "output_type": "stream",
     "text": [
      "[(1, 'Ahmed'), (3, 'Kamal'), (5, 'Salma')]\n"
     ]
    }
   ],
   "source": [
    "# zip\n",
    "nums = [1,3,5,7]\n",
    "names = [\"Ahmed\",\"Kamal\",\"Salma\"]\n",
    "print(list(zip(nums,names)))"
   ]
  },
  {
   "cell_type": "code",
   "execution_count": 51,
   "id": "60d27866",
   "metadata": {},
   "outputs": [
    {
     "name": "stdout",
     "output_type": "stream",
     "text": [
      "[(0, 'Stop'), (1, 'Start'), (2, 'Restart')]\n",
      "0 Stop\n",
      "1 Start\n",
      "2 Restart\n"
     ]
    }
   ],
   "source": [
    "# enum\n",
    "states = [\"Stop\", \"Start\", \"Restart\"]\n",
    "print(list(enumerate(states)))\n",
    "\n",
    "for i,j in enumerate(states):\n",
    "    print(i,j)"
   ]
  },
  {
   "cell_type": "code",
   "execution_count": 60,
   "id": "9d618ee3",
   "metadata": {},
   "outputs": [],
   "source": [
    "data = [\n",
    "    {\"name\": \"Zak\", \"age\": 30},\n",
    "    {\"name\": \"Ahmed\", \"age\": 25},\n",
    "    {\"name\": \"Hany\", \"age\": 22},\n",
    "    {\"name\": \"Islam\", \"age\": 32},\n",
    "    {\"name\": \"Salma\", \"age\": 28},\n",
    "    {\"name\": \"Mona\", \"age\": 27},\n",
    "    {\"name\": \"Youssef\", \"age\": 24},\n",
    "    {\"name\": \"Laila\", \"age\": 29}\n",
    "]\n",
    "\n",
    "# print(sorted(data))\n"
   ]
  },
  {
   "cell_type": "code",
   "execution_count": 61,
   "id": "79798505",
   "metadata": {},
   "outputs": [
    {
     "data": {
      "text/plain": [
       "[{'name': 'Ahmed', 'age': 25},\n",
       " {'name': 'Hany', 'age': 22},\n",
       " {'name': 'Islam', 'age': 32},\n",
       " {'name': 'Laila', 'age': 29},\n",
       " {'name': 'Mona', 'age': 27},\n",
       " {'name': 'Salma', 'age': 28},\n",
       " {'name': 'Youssef', 'age': 24},\n",
       " {'name': 'Zak', 'age': 30}]"
      ]
     },
     "execution_count": 61,
     "metadata": {},
     "output_type": "execute_result"
    }
   ],
   "source": [
    "sorted(data, key= lambda x: x['name'])"
   ]
  },
  {
   "cell_type": "code",
   "execution_count": 66,
   "id": "f802854c",
   "metadata": {},
   "outputs": [
    {
     "name": "stdout",
     "output_type": "stream",
     "text": [
      "  hello, world!  \n",
      "  hello, world!  \n",
      "******  Hello, World!  *******\n",
      "3\n",
      "b'\\xff\\xfe\\x00\\x00 \\x00\\x00\\x00 \\x00\\x00\\x00H\\x00\\x00\\x00e\\x00\\x00\\x00l\\x00\\x00\\x00l\\x00\\x00\\x00o\\x00\\x00\\x00,\\x00\\x00\\x00 \\x00\\x00\\x00W\\x00\\x00\\x00o\\x00\\x00\\x00r\\x00\\x00\\x00l\\x00\\x00\\x00d\\x00\\x00\\x00!\\x00\\x00\\x00 \\x00\\x00\\x00 \\x00\\x00\\x00'\n",
      "True\n",
      "Hello   World\n",
      "9\n",
      "My name is Ahmed\n",
      "Ahmed is 20\n"
     ]
    }
   ],
   "source": [
    "# Examples of all string methods in Python\n",
    "\n",
    "s = \"  Hello, World!  \"\n",
    "t = \"hello\"\n",
    "u = \"123\"\n",
    "v = \"hello123\"\n",
    "w = \"HELLO\"\n",
    "x = \"hello world\"\n",
    "y = \"Hello\\nWorld\"\n",
    "z = \"apple,banana,cherry\"\n",
    "\n",
    "# 1. capitalize\n",
    "print(s.capitalize())  # '  hello, world!  '\n",
    "\n",
    "# 2. casefold\n",
    "print(s.casefold())  # '  hello, world!  '\n",
    "\n",
    "# 3. center\n",
    "print(s.center(30, '*'))  # '******  Hello, World!  ******'\n",
    "\n",
    "# 4. count\n",
    "print(s.count('l'))  # 3\n",
    "\n",
    "# 5. encode\n",
    "print(s.encode('utf-32'))  # b'  Hello, World!  '\n",
    "\n",
    "# 6. endswith\n",
    "print(s.endswith('!  '))  # True\n",
    "\n",
    "# 7. expandtabs\n",
    "tab_str = \"Hello\\tWorld\"\n",
    "print(tab_str.expandtabs(4))  # 'Hello   World'\n",
    "\n",
    "# 8. find\n",
    "print(s.find('World'))  # 9\n",
    "\n",
    "# 9. format\n",
    "print(\"My name is {}\".format(\"Ahmed\"))  # 'My name is Ahmed'\n",
    "\n",
    "# 10. format_map\n",
    "print(\"{name} is {age}\".format_map({'name': 'Ahmed', 'age': 20}))  # 'Ahmed is 20'\n"
   ]
  },
  {
   "cell_type": "code",
   "execution_count": null,
   "id": "d7e45838",
   "metadata": {},
   "outputs": [
    {
     "name": "stdout",
     "output_type": "stream",
     "text": [
      "9\n",
      "True\n",
      "True\n",
      "True\n",
      "True\n",
      "True\n",
      "False\n",
      "True\n",
      "True\n",
      "True\n",
      "True\n",
      "True\n"
     ]
    }
   ],
   "source": [
    "# 11. index\n",
    "print(s.index('World'))  # 9\n",
    "\n",
    "# 12. isalnum\n",
    "print(v.isalnum())  # True\n",
    "\n",
    "# 13. isalpha\n",
    "print(t.isalpha())  # True\n",
    "\n",
    "# 14. isascii\n",
    "print(s.isascii())  # True\n",
    "\n",
    "# 15. isdecimal\n",
    "print(u.isdecimal())  # True\n",
    "\n",
    "# 16. isdigit\n",
    "print(u.isdigit())  # True\n",
    "\n",
    "# 17. isidentifier\n",
    "print(\"my_var\".isidentifier())  # True\n",
    "\n",
    "# 18. islower\n",
    "print(t.islower())  # True\n",
    "\n",
    "# 19. isnumeric\n",
    "print(u.isnumeric())  # True\n",
    "\n",
    "# 20. isprintable\n",
    "print(s.isprintable())  # True\n",
    "\n",
    "# 21. isspace\n",
    "print(\"   \".isspace())  # True\n",
    "\n",
    "# 22. istitle\n",
    "print(\"Hello World\".istitle())  # True\n",
    "\n"
   ]
  },
  {
   "cell_type": "code",
   "execution_count": 69,
   "id": "fb975efc",
   "metadata": {},
   "outputs": [
    {
     "name": "stdout",
     "output_type": "stream",
     "text": [
      "True\n",
      "a,b,c\n",
      "hello*****\n",
      "hello\n",
      "Hello, World!  \n",
      "  Jello, World!  \n",
      "('  Hello', ',', ' World!  ')\n",
      "  Hi, World!  \n",
      "12\n",
      "12\n",
      "*****hello\n",
      "('  Hello', ',', ' World!  ')\n",
      "['apple,banana', 'cherry']\n",
      "  Hello, World!\n",
      "['apple', 'banana', 'cherry']\n",
      "['Hello', 'World']\n",
      "True\n",
      "Hello, World!\n",
      "  hELLO, wORLD!  \n",
      "Hello World\n",
      "  Jello, World!  \n",
      "HELLO\n",
      "000123\n"
     ]
    }
   ],
   "source": [
    "# 23. isupper\n",
    "print(w.isupper())  # True\n",
    "\n",
    "# 24. join\n",
    "print(\",\".join([\"a\", \"b\", \"c\"]))  # 'a,b,c'\n",
    "\n",
    "# 25. ljust\n",
    "print(t.ljust(10, '*'))  # 'hello*****'\n",
    "\n",
    "# 26. lower\n",
    "print(w.lower())  # 'hello'\n",
    "\n",
    "# 27. lstrip\n",
    "print(s.lstrip())  # 'Hello, World!  '\n",
    "\n",
    "# 28. maketrans\n",
    "trans = str.maketrans(\"H\", \"J\")\n",
    "print(s.translate(trans))  # '  Jello, World!  '\n",
    "\n",
    "# 29. partition\n",
    "print(s.partition(','))  # ('  Hello', ',', ' World!  ')\n",
    "\n",
    "# 30. replace\n",
    "print(s.replace(\"Hello\", \"Hi\"))  # '  Hi, World!  '\n",
    "\n",
    "# 31. rfind\n",
    "print(s.rfind('l'))  # 11\n",
    "\n",
    "# 32. rindex\n",
    "print(s.rindex('l'))  # 11\n",
    "\n",
    "# 33. rjust\n",
    "print(t.rjust(10, '*'))  # '*****hello'\n",
    "\n",
    "# 34. rpartition\n",
    "print(s.rpartition(','))  # ('  Hello', ',', ' World!  ')\n",
    "\n",
    "# 35. rsplit\n",
    "print(z.rsplit(',', 1))  # ['apple,banana', 'cherry']\n",
    "\n",
    "# 36. rstrip\n",
    "print(s.rstrip())  # '  Hello, World!'\n",
    "\n",
    "# 37. split\n",
    "print(z.split(','))  # ['apple', 'banana', 'cherry']\n",
    "\n",
    "# 38. splitlines\n",
    "print(y.splitlines())  # ['Hello', 'World']\n",
    "\n",
    "# 39. startswith\n",
    "print(s.startswith('  He'))  # True\n",
    "\n",
    "# 40. strip\n",
    "print(s.strip())  # 'Hello, World!'\n",
    "\n",
    "# 41. swapcase\n",
    "print(s.swapcase())  # '  hELLO, wORLD!  '\n",
    "\n",
    "# 42. title\n",
    "print(x.title())  # 'Hello World'\n",
    "\n",
    "# 43. translate\n",
    "table = str.maketrans(\"H\", \"J\")\n",
    "print(s.translate(table))  # '  Jello, World!  '\n",
    "\n",
    "# 44. upper\n",
    "print(t.upper())  # 'HELLO'\n",
    "\n",
    "# 45. zfill\n",
    "print(u.zfill(6))  # '000123"
   ]
  },
  {
   "cell_type": "code",
   "execution_count": null,
   "id": "afb948f5",
   "metadata": {},
   "outputs": [],
   "source": []
  }
 ],
 "metadata": {
  "kernelspec": {
   "display_name": "base",
   "language": "python",
   "name": "python3"
  },
  "language_info": {
   "codemirror_mode": {
    "name": "ipython",
    "version": 3
   },
   "file_extension": ".py",
   "mimetype": "text/x-python",
   "name": "python",
   "nbconvert_exporter": "python",
   "pygments_lexer": "ipython3",
   "version": "3.12.3"
  }
 },
 "nbformat": 4,
 "nbformat_minor": 5
}
