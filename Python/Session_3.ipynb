{
 "cells": [
  {
   "cell_type": "markdown",
   "id": "7c58d333",
   "metadata": {},
   "source": [
    "Create a function that takes a number as an argument and returns True or False depending on whether the number is symmetrical or not. A number is symmetrical when it is the same as its reverse."
   ]
  },
  {
   "cell_type": "code",
   "execution_count": null,
   "id": "af1be4f2",
   "metadata": {},
   "outputs": [
    {
     "name": "stdout",
     "output_type": "stream",
     "text": [
      "False\n"
     ]
    }
   ],
   "source": [
    "number = input(\"Enter a number: \")\n",
    "\n",
    "if number == number[::-1]:\n",
    "    print(True)\n",
    "else:\n",
    "    print(False)"
   ]
  },
  {
   "cell_type": "code",
   "execution_count": 8,
   "id": "87b5a7a9",
   "metadata": {},
   "outputs": [
    {
     "name": "stdout",
     "output_type": "stream",
     "text": [
      "H\n",
      "o\n",
      "ll\n",
      "Hello\n",
      "Hlo\n",
      "olleH\n"
     ]
    }
   ],
   "source": [
    "data = \"Hello\"\n",
    "print(data[0])\n",
    "print(data[-1])\n",
    "print(data[2:4])\n",
    "print(data[:])\n",
    "print(data[::2])\n",
    "print(data[::-1])"
   ]
  },
  {
   "cell_type": "markdown",
   "id": "e00ac798",
   "metadata": {},
   "source": [
    "# Loops\n",
    "- for loop\n",
    "- while loop"
   ]
  },
  {
   "cell_type": "code",
   "execution_count": null,
   "id": "e2d87116",
   "metadata": {},
   "outputs": [
    {
     "name": "stdout",
     "output_type": "stream",
     "text": [
      "Hello\n",
      "12\n",
      "Hello\n",
      "43\n",
      "Hello\n",
      "31\n",
      "Hello\n",
      "34\n"
     ]
    }
   ],
   "source": [
    "# for loop\n",
    "# for <iterator> in <iterable>:\n",
    "#    <Code to be executed>\n",
    "# the number of iterations is determined by the length of the iterabel\n",
    "# the value of the iterator is determined by the items in the iterable\n",
    "\n",
    "for i in [12,43,31,34]:\n",
    "    print(\"Hello\")\n",
    "    print(i)"
   ]
  },
  {
   "cell_type": "code",
   "execution_count": 11,
   "id": "3a7f6831",
   "metadata": {},
   "outputs": [
    {
     "name": "stdout",
     "output_type": "stream",
     "text": [
      "5\n",
      "10\n",
      "15\n",
      "20\n",
      "25\n",
      "30\n",
      "35\n",
      "40\n",
      "45\n",
      "50\n"
     ]
    }
   ],
   "source": [
    "for i in [1,2,3,4,5,6,7,8,9,10]:\n",
    "    print(i*5)"
   ]
  },
  {
   "cell_type": "code",
   "execution_count": 16,
   "id": "70c9ab51",
   "metadata": {},
   "outputs": [
    {
     "name": "stdout",
     "output_type": "stream",
     "text": [
      "[0, 1, 2, 3, 4]\n",
      "[1, 2, 3, 4]\n",
      "[1, 3, 5, 7, 9]\n"
     ]
    }
   ],
   "source": [
    "# how iterate for longer time\n",
    "print(list(range(5)))\n",
    "print(list(range(1,5)))\n",
    "print(list(range(1,10,2)))"
   ]
  },
  {
   "cell_type": "code",
   "execution_count": 17,
   "id": "ca1a701f",
   "metadata": {},
   "outputs": [
    {
     "name": "stdout",
     "output_type": "stream",
     "text": [
      "5\n",
      "10\n",
      "15\n",
      "20\n",
      "25\n",
      "30\n",
      "35\n",
      "40\n",
      "45\n",
      "50\n"
     ]
    }
   ],
   "source": [
    "for i in range(1,11):\n",
    "    print(i * 5)"
   ]
  },
  {
   "cell_type": "code",
   "execution_count": 20,
   "id": "af566726",
   "metadata": {},
   "outputs": [
    {
     "name": "stdout",
     "output_type": "stream",
     "text": [
      "('Name', 'Ahmed Hamam')\n",
      "('Age', 30)\n"
     ]
    }
   ],
   "source": [
    "data = {\"Name\":\"Ahmed Hamam\", \"Age\":30}\n",
    "for item in data.items():\n",
    "    print(item)"
   ]
  },
  {
   "cell_type": "code",
   "execution_count": null,
   "id": "dc55d5b0",
   "metadata": {},
   "outputs": [
    {
     "name": "stdout",
     "output_type": "stream",
     "text": [
      "Name : Ahmed Hamam\n",
      "Age : 30\n"
     ]
    }
   ],
   "source": [
    "data = {\"Name\":\"Ahmed Hamam\", \"Age\":30}\n",
    "# unpacking\n",
    "for k,v in data.items():\n",
    "    print(k,\":\",v)"
   ]
  },
  {
   "cell_type": "markdown",
   "id": "3b2a94ea",
   "metadata": {},
   "source": [
    "Create a function that takes a list of strings and integers, and filters out the list so that it returns a list of integers only."
   ]
  },
  {
   "cell_type": "code",
   "execution_count": 29,
   "id": "2f3e35bb",
   "metadata": {},
   "outputs": [
    {
     "name": "stdout",
     "output_type": "stream",
     "text": [
      "[0, 1729]\n"
     ]
    }
   ],
   "source": [
    "items = [\"A\", 0, \"Edabit\", 1729, \"Python\", \"Hussein\", \"Ahmed\"]\n",
    "numbers_only = items.copy()\n",
    "for item in items:\n",
    "    if type(item) == str:\n",
    "        numbers_only.remove(item)\n",
    "print(numbers_only)"
   ]
  },
  {
   "cell_type": "code",
   "execution_count": 24,
   "id": "5bace82c",
   "metadata": {},
   "outputs": [
    {
     "data": {
      "text/plain": [
       "str"
      ]
     },
     "execution_count": 24,
     "metadata": {},
     "output_type": "execute_result"
    }
   ],
   "source": [
    "type(\"1729\")"
   ]
  },
  {
   "cell_type": "markdown",
   "id": "5003f7ac",
   "metadata": {},
   "source": [
    "while loop"
   ]
  },
  {
   "cell_type": "code",
   "execution_count": 32,
   "id": "0a6fc7ca",
   "metadata": {},
   "outputs": [
    {
     "name": "stdout",
     "output_type": "stream",
     "text": [
      "Hello\n",
      "5\n",
      "Hello\n",
      "4\n",
      "Hello\n",
      "3\n",
      "Hello\n",
      "2\n",
      "Hello\n",
      "1\n"
     ]
    }
   ],
   "source": [
    "# while loop\n",
    "# while <condition> :\n",
    "#       <code to be executed>\n",
    "# as long as the condition is True the code shall be executed\n",
    "# the condition should be eventually evaluated ot False to exit the Loop\n",
    "\n",
    "x = 5\n",
    "while x > 0:\n",
    "    print(\"Hello\")\n",
    "    print(x)\n",
    "    x -= 1"
   ]
  },
  {
   "cell_type": "code",
   "execution_count": 33,
   "id": "4cfd8359",
   "metadata": {},
   "outputs": [
    {
     "name": "stdout",
     "output_type": "stream",
     "text": [
      "5\n",
      "10\n",
      "15\n",
      "20\n",
      "25\n",
      "30\n",
      "35\n",
      "40\n",
      "45\n",
      "50\n"
     ]
    }
   ],
   "source": [
    "n = 1\n",
    "while n < 11:\n",
    "    print(n *5)\n",
    "    n += 1\n"
   ]
  },
  {
   "cell_type": "markdown",
   "id": "74274aeb",
   "metadata": {},
   "source": [
    "break , continue"
   ]
  },
  {
   "cell_type": "code",
   "execution_count": 38,
   "id": "aaeee41a",
   "metadata": {},
   "outputs": [
    {
     "name": "stdout",
     "output_type": "stream",
     "text": [
      "20\n",
      "19\n",
      "18\n",
      "17\n",
      "16\n",
      "15\n",
      "14\n",
      "13\n",
      "12\n",
      "11\n"
     ]
    }
   ],
   "source": [
    "# break it breaks out of the loop immediately \n",
    "x = 20\n",
    "while x > 0:\n",
    "    print(x)\n",
    "    x -= 1 \n",
    "    if x == 10:\n",
    "        break"
   ]
  },
  {
   "cell_type": "code",
   "execution_count": 41,
   "id": "7802922f",
   "metadata": {},
   "outputs": [
    {
     "name": "stdout",
     "output_type": "stream",
     "text": [
      "20\n",
      "19\n",
      "18\n",
      "17\n",
      "16\n",
      "15\n",
      "14\n",
      "13\n",
      "12\n",
      "11\n",
      "5\n",
      "4\n",
      "3\n",
      "2\n",
      "1\n"
     ]
    }
   ],
   "source": [
    "# continue skipe the execution of the iteration and re enters the loop again\n",
    "\n",
    "x = 20\n",
    "while x > 0:\n",
    "    if x<= 10 and x>5:\n",
    "        x -=1\n",
    "        continue\n",
    "    print(x)\n",
    "    x -= 1 "
   ]
  },
  {
   "cell_type": "code",
   "execution_count": 46,
   "id": "704cc167",
   "metadata": {},
   "outputs": [
    {
     "name": "stdout",
     "output_type": "stream",
     "text": [
      "5\n",
      "4\n",
      "3\n",
      "2\n",
      "1\n",
      "the loop has ended\n"
     ]
    }
   ],
   "source": [
    "# else\n",
    "\n",
    "x = 5\n",
    "while x > 0:\n",
    "    print(x)\n",
    "    x-=1\n",
    "    # if x == 3:\n",
    "    #     break\n",
    "    # would not make the else statement work\n",
    "        \n",
    "else:\n",
    "    print(\"the loop has ended\")"
   ]
  },
  {
   "cell_type": "markdown",
   "id": "0731456a",
   "metadata": {},
   "source": [
    "Write a function that takes a string and calculates the number of letters and digits within it. Return the result in a dictionary."
   ]
  },
  {
   "cell_type": "code",
   "execution_count": 50,
   "id": "137ae5ff",
   "metadata": {},
   "outputs": [
    {
     "data": {
      "text/plain": [
       "{'Chars': 7, 'Digits': 3}"
      ]
     },
     "execution_count": 50,
     "metadata": {},
     "output_type": "execute_result"
    }
   ],
   "source": [
    "data = \"H3ll0 W0rld\"\n",
    "info = {\"Chars\":0 , \"Digits\":0}\n",
    "for s in data:\n",
    "    if s.isdigit():\n",
    "        info[\"Digits\"] += 1\n",
    "    elif s.isalpha():\n",
    "        info['Chars'] +=1\n",
    "\n",
    "info\n"
   ]
  },
  {
   "cell_type": "markdown",
   "id": "cc0217f2",
   "metadata": {},
   "source": [
    "# Functions"
   ]
  },
  {
   "cell_type": "code",
   "execution_count": 54,
   "id": "dcabf19f",
   "metadata": {},
   "outputs": [
    {
     "name": "stdout",
     "output_type": "stream",
     "text": [
      "Hello\n",
      "Hello\n",
      "Hello\n"
     ]
    }
   ],
   "source": [
    "# function syntax\n",
    "# def <function_name>():\n",
    "#    <Block of code>\n",
    "# the code is exectued only when you call function\n",
    "\n",
    "def say_hello():\n",
    "    print(\"Hello\")\n",
    "\n",
    "say_hello()\n",
    "say_hello()\n",
    "say_hello()"
   ]
  },
  {
   "cell_type": "code",
   "execution_count": 59,
   "id": "d461d290",
   "metadata": {},
   "outputs": [
    {
     "name": "stdout",
     "output_type": "stream",
     "text": [
      "Hello, Islam\n",
      "Hello, Ahmed\n"
     ]
    }
   ],
   "source": [
    "# function syntax\n",
    "# def <function_name>(<Arguments>):\n",
    "#    <Block of code>\n",
    "# the code is exectued only when you call function\n",
    "# Arguments does have several usage inside the function\n",
    "def say_hello(name):\n",
    "    print(\"Hello,\", name)\n",
    "\n",
    "say_hello(\"Islam\")\n",
    "say_hello(\"Ahmed\")\n"
   ]
  },
  {
   "cell_type": "code",
   "execution_count": 61,
   "id": "6356774c",
   "metadata": {},
   "outputs": [
    {
     "name": "stdout",
     "output_type": "stream",
     "text": [
      "9\n"
     ]
    }
   ],
   "source": [
    "# function syntax\n",
    "# def <function_name>(<Arguments>):\n",
    "#    <Block of code>\n",
    "#    return <Object>\n",
    "# the code is exectued only when you call function\n",
    "# Arguments does have several usage inside the function\n",
    "# you can return from the function with one or multiple objects\n",
    "\n",
    "def add_numbers(x,y):\n",
    "    return x+y\n",
    "\n",
    "print(add_numbers(4,5))"
   ]
  },
  {
   "cell_type": "markdown",
   "id": "03f45b23",
   "metadata": {},
   "source": [
    "Create a function that takes a list and finds the integer which appears an odd number of times."
   ]
  },
  {
   "cell_type": "code",
   "execution_count": 62,
   "id": "aef3d065",
   "metadata": {},
   "outputs": [
    {
     "name": "stdout",
     "output_type": "stream",
     "text": [
      "[-1]\n"
     ]
    }
   ],
   "source": [
    "def get_odd_count(nums):\n",
    "    odd_count = []\n",
    "    for num in nums:\n",
    "        if nums.count(num)%2 == 1 and num not in odd_count:\n",
    "            odd_count.append(num)\n",
    "    \n",
    "    return odd_count\n",
    "\n",
    "print(get_odd_count([1, 1, 2, -2, 5, 2, 4, 4, -1, -2, 5]))"
   ]
  },
  {
   "cell_type": "code",
   "execution_count": 67,
   "id": "b4d8b80f",
   "metadata": {},
   "outputs": [
    {
     "name": "stdout",
     "output_type": "stream",
     "text": [
      "-1\n"
     ]
    }
   ],
   "source": [
    "def find_odd(l):\n",
    "    freq = dict()\n",
    "    for i in l:\n",
    "        if str(i) in freq.keys():\n",
    "            freq[str(i)] += 1 \n",
    "        else:\n",
    "            freq[str(i)] = 1 \n",
    "    for i in l:\n",
    "        if freq[str(i)] % 2 == 1:\n",
    "            return i\n",
    "my_list = [1, 1, 2, 5, 2, -1, 4, 4, 5]\n",
    "print(find_odd(my_list))"
   ]
  },
  {
   "cell_type": "markdown",
   "id": "8447586e",
   "metadata": {},
   "source": [
    "function return"
   ]
  },
  {
   "cell_type": "code",
   "execution_count": 69,
   "id": "48802d1c",
   "metadata": {},
   "outputs": [
    {
     "name": "stdout",
     "output_type": "stream",
     "text": [
      "(12, -6)\n"
     ]
    }
   ],
   "source": [
    "# return multiple Objects\n",
    "def calc(x,y):\n",
    "    return x+y, x-y\n",
    "\n",
    "print(calc(3,9))"
   ]
  },
  {
   "cell_type": "code",
   "execution_count": 70,
   "id": "4b89879a",
   "metadata": {},
   "outputs": [
    {
     "name": "stdout",
     "output_type": "stream",
     "text": [
      "12 -6\n"
     ]
    }
   ],
   "source": [
    "# unpacking\n",
    "add, sub = calc(3,9)\n",
    "print(add, sub)"
   ]
  },
  {
   "cell_type": "markdown",
   "id": "69c33e62",
   "metadata": {},
   "source": [
    "function arguments"
   ]
  },
  {
   "cell_type": "code",
   "execution_count": null,
   "id": "690c6bc6",
   "metadata": {},
   "outputs": [
    {
     "name": "stdout",
     "output_type": "stream",
     "text": [
      "11\n"
     ]
    }
   ],
   "source": [
    "# positional arguments\n",
    "# always required\n",
    "\n",
    "def add(x,y):\n",
    "    return x+y\n",
    "\n",
    "print(add(3,8))"
   ]
  },
  {
   "cell_type": "code",
   "execution_count": 78,
   "id": "de7115a8",
   "metadata": {},
   "outputs": [
    {
     "name": "stdout",
     "output_type": "stream",
     "text": [
      "11\n",
      "3\n"
     ]
    }
   ],
   "source": [
    "# default arguments\n",
    "# not reuired but optional\n",
    "\n",
    "def add(x,y=0):\n",
    "    return x+y\n",
    "\n",
    "print(add(3,8))\n",
    "print(add(3))"
   ]
  },
  {
   "cell_type": "code",
   "execution_count": 76,
   "id": "4f7d6891",
   "metadata": {},
   "outputs": [
    {
     "name": "stdout",
     "output_type": "stream",
     "text": [
      "Ahmed\n",
      "Ahmed Hello\n",
      "Ahmed Hello World\n"
     ]
    }
   ],
   "source": [
    "# how doe this work\n",
    "print(\"Ahmed\")\n",
    "print(\"Ahmed\", \"Hello\")\n",
    "print(\"Ahmed\", \"Hello\", \"World\")"
   ]
  },
  {
   "cell_type": "code",
   "execution_count": null,
   "id": "2c6b7224",
   "metadata": {},
   "outputs": [
    {
     "name": "stdout",
     "output_type": "stream",
     "text": [
      "(3, 8, 9, 10)\n",
      "None\n"
     ]
    }
   ],
   "source": [
    "# variable length arguments\n",
    "def add(*args):\n",
    "    print(args)\n",
    "\n",
    "add(3, 8, 9, 10)"
   ]
  },
  {
   "cell_type": "code",
   "execution_count": 80,
   "id": "6497a76f",
   "metadata": {},
   "outputs": [
    {
     "name": "stdout",
     "output_type": "stream",
     "text": [
      "12\n"
     ]
    }
   ],
   "source": [
    "def sum_integers(*args):\n",
    "    total = 0\n",
    "    for num in args:\n",
    "        if isinstance(num, int):\n",
    "            total += num\n",
    "    return total\n",
    "print(sum_integers(1, 2, 3, '4', 5.0, 6))  # Should return 21 (1+2+3+5+6)"
   ]
  },
  {
   "cell_type": "code",
   "execution_count": 82,
   "id": "84174a44",
   "metadata": {},
   "outputs": [
    {
     "name": "stdout",
     "output_type": "stream",
     "text": [
      "{'name': 'Ahmed', 'age': 30, 'city': 'Cairo'}\n"
     ]
    }
   ],
   "source": [
    "# keyword arguments\n",
    "def add(**kwargs):\n",
    "    print(kwargs)\n",
    "\n",
    "add(name=\"Ahmed\", age=30, city=\"Cairo\")"
   ]
  },
  {
   "cell_type": "code",
   "execution_count": null,
   "id": "cc603dc7",
   "metadata": {},
   "outputs": [],
   "source": []
  }
 ],
 "metadata": {
  "kernelspec": {
   "display_name": "base",
   "language": "python",
   "name": "python3"
  },
  "language_info": {
   "codemirror_mode": {
    "name": "ipython",
    "version": 3
   },
   "file_extension": ".py",
   "mimetype": "text/x-python",
   "name": "python",
   "nbconvert_exporter": "python",
   "pygments_lexer": "ipython3",
   "version": "3.12.3"
  }
 },
 "nbformat": 4,
 "nbformat_minor": 5
}
