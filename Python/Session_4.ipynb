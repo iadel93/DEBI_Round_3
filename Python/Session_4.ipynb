{
 "cells": [
  {
   "cell_type": "markdown",
   "id": "9f8a7399",
   "metadata": {},
   "source": [
    "Create a function that takes two numbers as arguments (num, length) and returns a list of multiples of num until the list length reaches length."
   ]
  },
  {
   "cell_type": "code",
   "execution_count": 8,
   "id": "55c6d53b",
   "metadata": {},
   "outputs": [
    {
     "data": {
      "text/plain": [
       "[5, 10, 15, 20, 25, 30, 35, 40, 45, 50]"
      ]
     },
     "execution_count": 8,
     "metadata": {},
     "output_type": "execute_result"
    }
   ],
   "source": [
    "def create_multiples(num , length):\n",
    "    nums = []\n",
    "    i = 1\n",
    "    while len(nums)< length:\n",
    "        nums.append(num*i)\n",
    "        i+=1\n",
    "    return nums\n",
    "\n",
    "create_multiples(5, 10)\n"
   ]
  },
  {
   "cell_type": "markdown",
   "id": "6b00e342",
   "metadata": {},
   "source": [
    "# Modules"
   ]
  },
  {
   "cell_type": "code",
   "execution_count": 1,
   "id": "53ee11a8",
   "metadata": {},
   "outputs": [
    {
     "name": "stdout",
     "output_type": "stream",
     "text": [
      "['c:\\\\Users\\\\engsm\\\\miniconda3\\\\python312.zip', 'c:\\\\Users\\\\engsm\\\\miniconda3\\\\DLLs', 'c:\\\\Users\\\\engsm\\\\miniconda3\\\\Lib', 'c:\\\\Users\\\\engsm\\\\miniconda3', '', 'c:\\\\Users\\\\engsm\\\\miniconda3\\\\Lib\\\\site-packages', 'c:\\\\Users\\\\engsm\\\\miniconda3\\\\Lib\\\\site-packages\\\\win32', 'c:\\\\Users\\\\engsm\\\\miniconda3\\\\Lib\\\\site-packages\\\\win32\\\\lib', 'c:\\\\Users\\\\engsm\\\\miniconda3\\\\Lib\\\\site-packages\\\\Pythonwin']\n"
     ]
    }
   ],
   "source": [
    "# in case you have modules in another folder\n",
    "# you should add it to path\n",
    "import sys\n",
    "print(sys.path)\n",
    "sys.path.append(\"D:\\\\CLS\\\\DEBI_Round_3\\\\DEBI_Round_3\")\n"
   ]
  },
  {
   "cell_type": "code",
   "execution_count": 3,
   "id": "7bdbf353",
   "metadata": {},
   "outputs": [
    {
     "data": {
      "text/plain": [
       "['c:\\\\Users\\\\engsm\\\\miniconda3\\\\python312.zip',\n",
       " 'c:\\\\Users\\\\engsm\\\\miniconda3\\\\DLLs',\n",
       " 'c:\\\\Users\\\\engsm\\\\miniconda3\\\\Lib',\n",
       " 'c:\\\\Users\\\\engsm\\\\miniconda3',\n",
       " '',\n",
       " 'c:\\\\Users\\\\engsm\\\\miniconda3\\\\Lib\\\\site-packages',\n",
       " 'c:\\\\Users\\\\engsm\\\\miniconda3\\\\Lib\\\\site-packages\\\\win32',\n",
       " 'c:\\\\Users\\\\engsm\\\\miniconda3\\\\Lib\\\\site-packages\\\\win32\\\\lib',\n",
       " 'c:\\\\Users\\\\engsm\\\\miniconda3\\\\Lib\\\\site-packages\\\\Pythonwin',\n",
       " 'D:\\\\CLS\\\\DEBI_Round_3\\\\DEBI_Round_3']"
      ]
     },
     "execution_count": 3,
     "metadata": {},
     "output_type": "execute_result"
    }
   ],
   "source": [
    "sys.path"
   ]
  },
  {
   "cell_type": "code",
   "execution_count": 4,
   "id": "07a579b7",
   "metadata": {},
   "outputs": [
    {
     "data": {
      "text/plain": [
       "[3, 6, 9, 12, 15, 18, 21, 24, 27, 30, 33]"
      ]
     },
     "execution_count": 4,
     "metadata": {},
     "output_type": "execute_result"
    }
   ],
   "source": [
    "import utils\n",
    "\n",
    "utils.create_multiples(3,10)"
   ]
  },
  {
   "cell_type": "code",
   "execution_count": 6,
   "id": "c7fcff68",
   "metadata": {},
   "outputs": [
    {
     "data": {
      "text/plain": [
       "[7, 14, 21, 28]"
      ]
     },
     "execution_count": 6,
     "metadata": {},
     "output_type": "execute_result"
    }
   ],
   "source": [
    "from utils import create_multiples\n",
    "\n",
    "create_multiples(7,3)"
   ]
  },
  {
   "cell_type": "code",
   "execution_count": 7,
   "id": "d3e43a9e",
   "metadata": {},
   "outputs": [
    {
     "data": {
      "text/plain": [
       "[3, 6, 9, 12]"
      ]
     },
     "execution_count": 7,
     "metadata": {},
     "output_type": "execute_result"
    }
   ],
   "source": [
    "from utils import *\n",
    "create_multiples(3,3)"
   ]
  },
  {
   "cell_type": "markdown",
   "id": "8bfe59cb",
   "metadata": {},
   "source": [
    "# Packages"
   ]
  },
  {
   "cell_type": "code",
   "execution_count": 9,
   "id": "468b9ed8",
   "metadata": {},
   "outputs": [
    {
     "name": "stdout",
     "output_type": "stream",
     "text": [
      "2.1.4\n"
     ]
    }
   ],
   "source": [
    "import pandas as pd\n",
    "\n",
    "print(pd.__version__)"
   ]
  },
  {
   "cell_type": "code",
   "execution_count": 10,
   "id": "52dd6c7c",
   "metadata": {},
   "outputs": [
    {
     "name": "stdout",
     "output_type": "stream",
     "text": [
      "    Name  Age\n",
      "0  ISlam   30\n",
      "1  Ahmed   24\n"
     ]
    }
   ],
   "source": [
    "data = pd.DataFrame(\n",
    "    {\n",
    "        \"Name\":[\"ISlam\",\"Ahmed\"],\n",
    "        \"Age\":[30,24]\n",
    "    }\n",
    ")\n",
    "\n",
    "print(data)"
   ]
  },
  {
   "cell_type": "code",
   "execution_count": 11,
   "id": "e40b0348",
   "metadata": {},
   "outputs": [
    {
     "name": "stdout",
     "output_type": "stream",
     "text": [
      "<class 'pandas.core.frame.DataFrame'>\n",
      "RangeIndex: 2 entries, 0 to 1\n",
      "Data columns (total 2 columns):\n",
      " #   Column  Non-Null Count  Dtype \n",
      "---  ------  --------------  ----- \n",
      " 0   Name    2 non-null      object\n",
      " 1   Age     2 non-null      int64 \n",
      "dtypes: int64(1), object(1)\n",
      "memory usage: 164.0+ bytes\n"
     ]
    }
   ],
   "source": [
    "data.info()"
   ]
  },
  {
   "cell_type": "code",
   "execution_count": 12,
   "id": "e5cc2362",
   "metadata": {},
   "outputs": [
    {
     "data": {
      "text/html": [
       "<div>\n",
       "<style scoped>\n",
       "    .dataframe tbody tr th:only-of-type {\n",
       "        vertical-align: middle;\n",
       "    }\n",
       "\n",
       "    .dataframe tbody tr th {\n",
       "        vertical-align: top;\n",
       "    }\n",
       "\n",
       "    .dataframe thead th {\n",
       "        text-align: right;\n",
       "    }\n",
       "</style>\n",
       "<table border=\"1\" class=\"dataframe\">\n",
       "  <thead>\n",
       "    <tr style=\"text-align: right;\">\n",
       "      <th></th>\n",
       "      <th>Age</th>\n",
       "    </tr>\n",
       "  </thead>\n",
       "  <tbody>\n",
       "    <tr>\n",
       "      <th>count</th>\n",
       "      <td>2.000000</td>\n",
       "    </tr>\n",
       "    <tr>\n",
       "      <th>mean</th>\n",
       "      <td>27.000000</td>\n",
       "    </tr>\n",
       "    <tr>\n",
       "      <th>std</th>\n",
       "      <td>4.242641</td>\n",
       "    </tr>\n",
       "    <tr>\n",
       "      <th>min</th>\n",
       "      <td>24.000000</td>\n",
       "    </tr>\n",
       "    <tr>\n",
       "      <th>25%</th>\n",
       "      <td>25.500000</td>\n",
       "    </tr>\n",
       "    <tr>\n",
       "      <th>50%</th>\n",
       "      <td>27.000000</td>\n",
       "    </tr>\n",
       "    <tr>\n",
       "      <th>75%</th>\n",
       "      <td>28.500000</td>\n",
       "    </tr>\n",
       "    <tr>\n",
       "      <th>max</th>\n",
       "      <td>30.000000</td>\n",
       "    </tr>\n",
       "  </tbody>\n",
       "</table>\n",
       "</div>"
      ],
      "text/plain": [
       "             Age\n",
       "count   2.000000\n",
       "mean   27.000000\n",
       "std     4.242641\n",
       "min    24.000000\n",
       "25%    25.500000\n",
       "50%    27.000000\n",
       "75%    28.500000\n",
       "max    30.000000"
      ]
     },
     "execution_count": 12,
     "metadata": {},
     "output_type": "execute_result"
    }
   ],
   "source": [
    "data.describe()"
   ]
  },
  {
   "cell_type": "code",
   "execution_count": null,
   "id": "00cdabe3",
   "metadata": {},
   "outputs": [
    {
     "name": "stdout",
     "output_type": "stream",
     "text": [
      "   sepal.length  sepal.width  petal.length  petal.width variety\n",
      "0           5.1          3.5           1.4          0.2  Setosa\n",
      "1           4.9          3.0           1.4          0.2  Setosa\n",
      "2           4.7          3.2           1.3          0.2  Setosa\n",
      "3           4.6          3.1           1.5          0.2  Setosa\n",
      "4           5.0          3.6           1.4          0.2  Setosa\n"
     ]
    }
   ],
   "source": [
    "iris_data = pd.read_csv(\"iris.csv\")\n",
    "print(iris_data.head())"
   ]
  },
  {
   "cell_type": "markdown",
   "id": "abbf2182",
   "metadata": {},
   "source": [
    "installing package from notbook"
   ]
  },
  {
   "cell_type": "code",
   "execution_count": 14,
   "id": "61ee8947",
   "metadata": {},
   "outputs": [
    {
     "name": "stdout",
     "output_type": "stream",
     "text": [
      "Looking in indexes: https://pypi.org/simple, https://pypi.ngc.nvidia.com\n",
      "Requirement already satisfied: matplotlib in c:\\users\\engsm\\miniconda3\\lib\\site-packages (3.7.5)\n",
      "Requirement already satisfied: contourpy>=1.0.1 in c:\\users\\engsm\\miniconda3\\lib\\site-packages (from matplotlib) (1.3.1)\n",
      "Requirement already satisfied: cycler>=0.10 in c:\\users\\engsm\\miniconda3\\lib\\site-packages (from matplotlib) (0.12.1)\n",
      "Requirement already satisfied: fonttools>=4.22.0 in c:\\users\\engsm\\miniconda3\\lib\\site-packages (from matplotlib) (4.55.3)\n",
      "Requirement already satisfied: kiwisolver>=1.0.1 in c:\\users\\engsm\\miniconda3\\lib\\site-packages (from matplotlib) (1.4.7)\n",
      "Requirement already satisfied: numpy<2,>=1.20 in c:\\users\\engsm\\miniconda3\\lib\\site-packages (from matplotlib) (1.26.4)\n",
      "Requirement already satisfied: packaging>=20.0 in c:\\users\\engsm\\miniconda3\\lib\\site-packages (from matplotlib) (23.2)\n",
      "Requirement already satisfied: pillow>=6.2.0 in c:\\users\\engsm\\miniconda3\\lib\\site-packages (from matplotlib) (10.4.0)\n",
      "Requirement already satisfied: pyparsing>=2.3.1 in c:\\users\\engsm\\miniconda3\\lib\\site-packages (from matplotlib) (3.1.4)\n",
      "Requirement already satisfied: python-dateutil>=2.7 in c:\\users\\engsm\\miniconda3\\lib\\site-packages (from matplotlib) (2.9.0)\n",
      "Requirement already satisfied: six>=1.5 in c:\\users\\engsm\\miniconda3\\lib\\site-packages (from python-dateutil>=2.7->matplotlib) (1.16.0)\n"
     ]
    }
   ],
   "source": [
    "!pip install matplotlib"
   ]
  },
  {
   "cell_type": "code",
   "execution_count": 17,
   "id": "6172b428",
   "metadata": {},
   "outputs": [
    {
     "name": "stderr",
     "output_type": "stream",
     "text": [
      "No artists with labels found to put in legend.  Note that artists whose label start with an underscore are ignored when legend() is called with no argument.\n"
     ]
    },
    {
     "data": {
      "image/png": "[encoded data removed]",
      "text/plain": [
       "<Figure size 640x480 with 1 Axes>"
      ]
     },
     "metadata": {},
     "output_type": "display_data"
    }
   ],
   "source": [
    "import matplotlib.pyplot as plt\n",
    "\n",
    "iris_data['sepal.length'].hist()\n",
    "plt.legend()\n",
    "plt.title(\"sebal lenght histogram\")\n",
    "plt.show()"
   ]
  },
  {
   "cell_type": "markdown",
   "id": "04d5d019",
   "metadata": {},
   "source": [
    "# Object Oriented Programming\n",
    "- Encapsulation\n",
    "- Inheritance\n",
    "- Abstraction\n",
    "- Polymorphism"
   ]
  },
  {
   "cell_type": "code",
   "execution_count": null,
   "id": "dbe0d0f4",
   "metadata": {},
   "outputs": [
    {
     "name": "stdout",
     "output_type": "stream",
     "text": [
      "<class '__main__.car'>\n",
      "<__main__.car object at 0x000002300A11B7D0>\n",
      "None\n",
      "Blue\n"
     ]
    }
   ],
   "source": [
    "# Encapsulation\n",
    "\n",
    "class car():\n",
    "\n",
    "    color = None  # attributes\n",
    "    brand = None\n",
    "    model = None\n",
    "\n",
    "bmw = car()\n",
    "print(type(bmw))\n",
    "print(bmw)\n",
    "\n",
    "print(bmw.color)\n",
    "bmw.color = \"Blue\"\n",
    "print(bmw.color)\n"
   ]
  },
  {
   "cell_type": "code",
   "execution_count": 23,
   "id": "03b6d16c",
   "metadata": {},
   "outputs": [
    {
     "name": "stdout",
     "output_type": "stream",
     "text": [
      "Brand: BMW\n"
     ]
    }
   ],
   "source": [
    "class car():\n",
    "\n",
    "    color = None  # attributes\n",
    "    brand = None\n",
    "    model = None\n",
    "\n",
    "    def get_brand(self): # method\n",
    "        print(\"Brand:\", self.brand)\n",
    "\n",
    "\n",
    "bmw = car()\n",
    "bmw.brand = \"BMW\"\n",
    "bmw.get_brand()   # --> bmw.get_brand(bmw)"
   ]
  },
  {
   "cell_type": "code",
   "execution_count": 24,
   "id": "c396c929",
   "metadata": {},
   "outputs": [
    {
     "name": "stdout",
     "output_type": "stream",
     "text": [
      "Brand: BMW\n",
      "0\n",
      "10\n"
     ]
    }
   ],
   "source": [
    "class car():\n",
    "\n",
    "    color = None  # attributes\n",
    "    brand = None\n",
    "    model = None\n",
    "    speed = 0\n",
    "\n",
    "    def get_brand(self): # method\n",
    "        print(\"Brand:\", self.brand)\n",
    "\n",
    "    def accelerate(self,speed):\n",
    "        self.speed += speed\n",
    "\n",
    "\n",
    "bmw = car()\n",
    "bmw.brand = \"BMW\"\n",
    "bmw.get_brand()   # --> bmw.get_brand(bmw)\n",
    "print(bmw.speed)\n",
    "bmw.accelerate(10)\n",
    "print(bmw.speed)"
   ]
  },
  {
   "cell_type": "markdown",
   "id": "6a4a0374",
   "metadata": {},
   "source": [
    "Create methods for the Calculator class that can do the following:\n",
    "\n",
    "Add two numbers.\n",
    "Subtract two numbers.\n",
    "Multiply two numbers.\n",
    "Divide two numbers."
   ]
  },
  {
   "cell_type": "code",
   "execution_count": 25,
   "id": "d7a08bf3",
   "metadata": {},
   "outputs": [
    {
     "name": "stdout",
     "output_type": "stream",
     "text": [
      "10\n"
     ]
    }
   ],
   "source": [
    "class caculator():\n",
    "    def add(self,x,y):\n",
    "        return x+y\n",
    "    def sub(self,x,y):\n",
    "        return x-y\n",
    "    def div(self,x,y):\n",
    "        return x/y\n",
    "    def mul(self,x,y):\n",
    "        return x*y\n",
    "    \n",
    "\n",
    "c = caculator()\n",
    "print(c.add(5,5))"
   ]
  },
  {
   "cell_type": "code",
   "execution_count": null,
   "id": "47f97f08",
   "metadata": {},
   "outputs": [],
   "source": []
  }
 ],
 "metadata": {
  "kernelspec": {
   "display_name": "base",
   "language": "python",
   "name": "python3"
  },
  "language_info": {
   "codemirror_mode": {
    "name": "ipython",
    "version": 3
   },
   "file_extension": ".py",
   "mimetype": "text/x-python",
   "name": "python",
   "nbconvert_exporter": "python",
   "pygments_lexer": "ipython3",
   "version": "3.12.3"
  }
 },
 "nbformat": 4,
 "nbformat_minor": 5
}
