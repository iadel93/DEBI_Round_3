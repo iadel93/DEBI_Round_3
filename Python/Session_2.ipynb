{
 "cells": [
  {
   "cell_type": "markdown",
   "id": "b313ee47",
   "metadata": {},
   "source": [
    "# Data structure\n",
    "- Sequential: List , Tuple\n",
    "- Non-sequential: Dictionary , Set"
   ]
  },
  {
   "cell_type": "code",
   "execution_count": 13,
   "id": "478b5ba3",
   "metadata": {},
   "outputs": [
    {
     "name": "stdout",
     "output_type": "stream",
     "text": [
      "[3, 4, 6, 7, 3, 7, 87, 34, 57, 89, 34, 'Hello']\n",
      "<class 'list'>\n",
      "7\n",
      "[7, 3, 7, 87, 34, 57]\n",
      "Hello\n",
      "34\n",
      "[3, 4, 6, 7, 3, 7, 87, 34, 57, 89, 70, 'Hello']\n",
      "[3, 4, 6, 7, 3, 7, 87, 34, 57, 89, 70, 'Hello', 100]\n",
      "[3, 4, 200, 6, 7, 3, 7, 87, 34, 57, 89, 70, 'Hello', 100]\n",
      "[3, 4, 200, 6, 7, 3, 7, 87, 34, 57, 89, 70, 'Hello', 100, 1, 2, 3]\n"
     ]
    }
   ],
   "source": [
    "tmp = [3,4,6,7,3,7,87,34,57,89,34, \"Hello\"]\n",
    "print(tmp)\n",
    "print(type(tmp))\n",
    "\n",
    "# Slicing\n",
    "print(tmp[3])\n",
    "print(tmp[3:9])\n",
    "print(tmp[-1])\n",
    "print(tmp[-2])\n",
    "\n",
    "# Modify elements\n",
    "tmp[-2] = 70\n",
    "print(tmp)\n",
    "\n",
    "# Cant call index out of range\n",
    "# print(tmp[100])  # This will raise an IndexError\n",
    "\n",
    "# Adding elements\n",
    "tmp.append(100)\n",
    "print(tmp)\n",
    "\n",
    "tmp.insert(2, 200)\n",
    "print(tmp)\n",
    "\n",
    "tmp_2 = [1, 2, 3]\n",
    "# tmp.append(tmp_2)\n",
    "tmp.extend(tmp_2)\n",
    "print(tmp)"
   ]
  },
  {
   "cell_type": "code",
   "execution_count": null,
   "id": "93aeb4bf",
   "metadata": {},
   "outputs": [
    {
     "name": "stdout",
     "output_type": "stream",
     "text": [
      "[3, 4, 6, 3, 7, 87, 34]\n",
      "[3, 4, 6, 3, 7, 87]\n",
      "[3, 4, 3, 7, 87]\n",
      "[3, 3, 4, 7, 87]\n",
      "[87, 7, 4, 3, 3]\n",
      "['Ahmed', 'Ali', 'Mohamed', 'Ziad']\n",
      "[3, 3, 4, 7, 87]\n",
      "5\n",
      "True\n",
      "0\n",
      "2\n"
     ]
    }
   ],
   "source": [
    "tmp = [3,4,6,7,3,7,87,34]\n",
    "\n",
    "# Removing elements\n",
    "tmp.remove(7)  # Removes the first occurrence of 7\n",
    "print(tmp)\n",
    "\n",
    "tmp.pop()  # Removes the last element\n",
    "print(tmp)\n",
    "\n",
    "tmp.pop(2)  # Removes the element at index 2\n",
    "print(tmp)\n",
    "\n",
    "# tmp.clear()  # Clears the list\n",
    "# print(tmp)\n",
    "\n",
    "# Sorting\n",
    "tmp.sort()\n",
    "print(tmp)\n",
    "\n",
    "tmp.sort(reverse=True)\n",
    "print(tmp)\n",
    "\n",
    "tmp_2 = [\"Ziad\", \"Ahmed\", \"Ali\", \"Mohamed\"]\n",
    "tmp_2.sort()\n",
    "print(tmp_2)\n",
    "\n",
    "# Reversing\n",
    "tmp.reverse()\n",
    "print(tmp)\n",
    "\n",
    "# Misc.\n",
    "print(len(tmp))  # Length of the list\n",
    "print(3 in tmp)  # Check if 3 is in the list\n",
    "print(tmp.index(3))  # Get the index of the first occurrence of 3\n",
    "print(tmp.count(3))  # Count occurrences of 3 in the list\n"
   ]
  },
  {
   "cell_type": "code",
   "execution_count": null,
   "id": "9fe16948",
   "metadata": {},
   "outputs": [
    {
     "name": "stdout",
     "output_type": "stream",
     "text": [
      "[1, 2, 3, 4]\n",
      "[1, 2, 3, 4]\n"
     ]
    }
   ],
   "source": [
    "# Shallow Copy\n",
    "a = [1, 2, 3]\n",
    "b = a  # b is a reference to the same list as a\n",
    "b.append(4)  # Modifying b will also modify a\n",
    "# b is alias of a\n",
    "print(a)\n",
    "print(b)"
   ]
  },
  {
   "cell_type": "code",
   "execution_count": null,
   "id": "2787e110",
   "metadata": {},
   "outputs": [
    {
     "name": "stdout",
     "output_type": "stream",
     "text": [
      "[1, 2, 3]\n",
      "[1, 2, 3, 4]\n"
     ]
    }
   ],
   "source": [
    "# Deep Copy\n",
    "a = [1, 2, 3]\n",
    "b = a.copy()  \n",
    "b.append(4)\n",
    "# b is alias of a\n",
    "print(a)    \n",
    "print(b)"
   ]
  },
  {
   "cell_type": "markdown",
   "id": "ad7983b8",
   "metadata": {},
   "source": [
    "Given a number, return a list containing the two halves of the number. If the number is odd, make the rightmost number higher."
   ]
  },
  {
   "cell_type": "code",
   "execution_count": 20,
   "id": "8d110212",
   "metadata": {},
   "outputs": [
    {
     "name": "stdout",
     "output_type": "stream",
     "text": [
      "[-5, -4]\n"
     ]
    }
   ],
   "source": [
    "number = int(input(\"Please enter a number:\"))\n",
    "if number%2 == 0:\n",
    "    splitted = [number//2,number//2]\n",
    "else:\n",
    "    splitted = [number//2, number//2 + 1]\n",
    "print(splitted)"
   ]
  },
  {
   "cell_type": "code",
   "execution_count": 24,
   "id": "b5b059e7",
   "metadata": {},
   "outputs": [
    {
     "name": "stdout",
     "output_type": "stream",
     "text": [
      "[-5, -4]\n"
     ]
    }
   ],
   "source": [
    "from math import ceil\n",
    "number = int(input(\"Please enter a number:\"))\n",
    "if number%2 == 0:\n",
    "    splitted = [number//2,number//2]\n",
    "else:\n",
    "    splitted = [number//2,ceil(number/2)]\n",
    "                \n",
    "print(splitted)"
   ]
  },
  {
   "cell_type": "code",
   "execution_count": 25,
   "id": "6cd54b25",
   "metadata": {},
   "outputs": [
    {
     "name": "stdout",
     "output_type": "stream",
     "text": [
      "[5, 6]\n"
     ]
    }
   ],
   "source": [
    "user_input = int(input(\"Enter a number: \"))\n",
    "left = user_input // 2\n",
    "right = user_input - left\n",
    "print([left, right])"
   ]
  },
  {
   "cell_type": "markdown",
   "id": "1e8173cd",
   "metadata": {},
   "source": [
    "# Tuple"
   ]
  },
  {
   "cell_type": "code",
   "execution_count": 31,
   "id": "66f7a997",
   "metadata": {},
   "outputs": [
    {
     "name": "stdout",
     "output_type": "stream",
     "text": [
      "(2, 4, 6, 2, 5, 34)\n",
      "<class 'tuple'>\n",
      "6\n",
      "2\n",
      "4\n"
     ]
    }
   ],
   "source": [
    "tmp = (2,4,6,2,5,34)\n",
    "\n",
    "print(tmp)\n",
    "print(type(tmp))\n",
    "\n",
    "print(tmp[2])\n",
    "\n",
    "# Cant be modified on any level\n",
    "# tmp[1] = 7 #Error\n",
    "\n",
    "print(tmp.count(2))\n",
    "print(tmp.index(5))"
   ]
  },
  {
   "cell_type": "markdown",
   "id": "e02d42a9",
   "metadata": {},
   "source": [
    "# Dict"
   ]
  },
  {
   "cell_type": "code",
   "execution_count": 45,
   "id": "c4ddbde2",
   "metadata": {},
   "outputs": [
    {
     "name": "stdout",
     "output_type": "stream",
     "text": [
      "{'Name': 'Islam Adel', 'Age': 123}\n",
      "<class 'dict'>\n",
      "Islam Adel\n",
      "123\n",
      "Not Mentioned\n",
      "{'Name': 'Islam Adel', 'Age': 456}\n",
      "{'Name': 'Islam Adel', 'Age': 456, 'Adress': '6 October'}\n",
      "{'Name': 'Islam Adel', 'Age': 456, 'Adress': 'Giza'}\n",
      "{'Name': 'Islam Adel', 'Age': 456, 'Adress': 'Giza', 'Degree': 'BsC'}\n",
      "{'Name': 'Islam Adel', 'Age': 456, 'Adress': 'Giza', 'Degree': 'BsC'}\n",
      "{'Name': 'Islam Adel', 'Age': 456, 'Adress': 'Giza', 'Degree': 'BsC', 1: 123, 2: 456}\n"
     ]
    }
   ],
   "source": [
    "# Key can be either int or str\n",
    "# value can be any object\n",
    "data = {\"Name\":\"Islam Adel\", \"Age\":123} # Key:Value\n",
    "\n",
    "print(data)\n",
    "print(type(data))\n",
    "\n",
    "# slicing\n",
    "print(data[\"Name\"])\n",
    "print(data.get(\"Age\"))\n",
    "print(data.get(\"Adress\",\"Not Mentioned\"))\n",
    "\n",
    "# Modifications\n",
    "data[\"Age\"] = 456\n",
    "print(data)\n",
    "\n",
    "# Addition\n",
    "data[\"Adress\"] = \"6 October\"\n",
    "print(data)\n",
    "data[\"Adress\"] = \"Giza\"\n",
    "print(data)\n",
    "\n",
    "data.setdefault(\"Degree\",\"BsC\")\n",
    "print(data)\n",
    "data.setdefault(\"Degree\",\"MsC\")\n",
    "print(data)\n",
    "\n",
    "tmp_dict = {1:123, 2:456}\n",
    "data.update(tmp_dict)\n",
    "print(data)\n"
   ]
  },
  {
   "cell_type": "code",
   "execution_count": 55,
   "id": "3a391248",
   "metadata": {},
   "outputs": [
    {
     "name": "stdout",
     "output_type": "stream",
     "text": [
      "{'Name': 'Islam Adel', 'Age': 123, 'Gender': 'Male'}\n",
      "{'Name': 'Islam Adel', 'Age': 123}\n",
      "dict_keys(['Name', 'Age'])\n",
      "dict_values(['Islam Adel', 123])\n",
      "dict_items([('Name', 'Islam Adel'), ('Age', 123)])\n"
     ]
    }
   ],
   "source": [
    "data = {\"Name\":\"Islam Adel\", \"Age\":123, \"Adress\":\"6 October\", \"Gender\":\"Male\"}\n",
    "\n",
    "# Remove items\n",
    "data.pop(\"Adress\")\n",
    "print(data)\n",
    "\n",
    "data.popitem()\n",
    "print(data)\n",
    "\n",
    "print(data.keys())\n",
    "print(data.values())\n",
    "print(data.items())"
   ]
  },
  {
   "cell_type": "code",
   "execution_count": 62,
   "id": "ad65c79c",
   "metadata": {},
   "outputs": [
    {
     "data": {
      "text/plain": [
       "True"
      ]
     },
     "execution_count": 62,
     "metadata": {},
     "output_type": "execute_result"
    }
   ],
   "source": [
    "123 in data.values()"
   ]
  },
  {
   "cell_type": "markdown",
   "id": "ace06334",
   "metadata": {},
   "source": [
    "# Set"
   ]
  },
  {
   "cell_type": "code",
   "execution_count": 66,
   "id": "3e0c89e5",
   "metadata": {},
   "outputs": [
    {
     "name": "stdout",
     "output_type": "stream",
     "text": [
      "{32, 65, 23, 43, 12, 45}\n",
      "<class 'set'>\n",
      "{32, 65, 43, 45}\n",
      "{32, 65, 33, 43, 12, 45, 54, 23}\n",
      "{12, 23}\n"
     ]
    }
   ],
   "source": [
    "numbers = {12,43,32,45,12,45,65,23} # only values\n",
    "\n",
    "print(numbers)\n",
    "print(type(numbers))\n",
    "\n",
    "print(numbers.difference({12,33,54,23}))\n",
    "print(numbers.union({12,33,54,23}))\n",
    "print(numbers.intersection({12,33,54,23}))\n",
    "\n"
   ]
  },
  {
   "cell_type": "code",
   "execution_count": null,
   "id": "ddff1c44",
   "metadata": {},
   "outputs": [],
   "source": []
  }
 ],
 "metadata": {
  "kernelspec": {
   "display_name": "base",
   "language": "python",
   "name": "python3"
  },
  "language_info": {
   "codemirror_mode": {
    "name": "ipython",
    "version": 3
   },
   "file_extension": ".py",
   "mimetype": "text/x-python",
   "name": "python",
   "nbconvert_exporter": "python",
   "pygments_lexer": "ipython3",
   "version": "3.12.3"
  }
 },
 "nbformat": 4,
 "nbformat_minor": 5
}
