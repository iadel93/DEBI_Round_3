{
 "cells": [
  {
   "cell_type": "markdown",
   "id": "f714f3d3",
   "metadata": {},
   "source": [
    "# Class constructor"
   ]
  },
  {
   "cell_type": "code",
   "execution_count": null,
   "id": "4ee6ec2e",
   "metadata": {},
   "outputs": [
    {
     "ename": "TypeError",
     "evalue": "unsupported operand type(s) for +: 'NoneType' and 'NoneType'",
     "output_type": "error",
     "traceback": [
      "\u001b[1;31m---------------------------------------------------------------------------\u001b[0m",
      "\u001b[1;31mTypeError\u001b[0m                                 Traceback (most recent call last)",
      "Cell \u001b[1;32mIn[2], line 21\u001b[0m\n\u001b[0;32m     17\u001b[0m c \u001b[38;5;241m=\u001b[39m calculator()\n\u001b[0;32m     18\u001b[0m \u001b[38;5;66;03m# c.x = 4\u001b[39;00m\n\u001b[0;32m     19\u001b[0m \u001b[38;5;66;03m# c.y = 2\u001b[39;00m\n\u001b[1;32m---> 21\u001b[0m \u001b[38;5;28mprint\u001b[39m(\u001b[43mc\u001b[49m\u001b[38;5;241;43m.\u001b[39;49m\u001b[43madd\u001b[49m\u001b[43m(\u001b[49m\u001b[43m)\u001b[49m)\n",
      "Cell \u001b[1;32mIn[2], line 6\u001b[0m, in \u001b[0;36mcalculator.add\u001b[1;34m(self)\u001b[0m\n\u001b[0;32m      5\u001b[0m \u001b[38;5;28;01mdef\u001b[39;00m \u001b[38;5;21madd\u001b[39m(\u001b[38;5;28mself\u001b[39m):\n\u001b[1;32m----> 6\u001b[0m     \u001b[38;5;28;01mreturn\u001b[39;00m \u001b[38;5;28;43mself\u001b[39;49m\u001b[38;5;241;43m.\u001b[39;49m\u001b[43mx\u001b[49m\u001b[43m \u001b[49m\u001b[38;5;241;43m+\u001b[39;49m\u001b[43m \u001b[49m\u001b[38;5;28;43mself\u001b[39;49m\u001b[38;5;241;43m.\u001b[39;49m\u001b[43my\u001b[49m\n",
      "\u001b[1;31mTypeError\u001b[0m: unsupported operand type(s) for +: 'NoneType' and 'NoneType'"
     ]
    }
   ],
   "source": [
    "class calculator:\n",
    "    x = None\n",
    "    y = None\n",
    "\n",
    "    def add(self):\n",
    "        return self.x + self.y\n",
    "    \n",
    "    def subtract(self):\n",
    "        return self.x - self.y\n",
    "\n",
    "    def multiply(self):\n",
    "        return self.x * self.y\n",
    "    \n",
    "    def divide(self):\n",
    "        return self.x / self.y\n",
    "\n",
    "c = calculator()\n",
    "# c.x = 4\n",
    "# c.y = 2\n",
    "# This should cause an issue because of x and y initialization\n",
    "print(c.add())"
   ]
  },
  {
   "cell_type": "code",
   "execution_count": 5,
   "id": "d64f29ee",
   "metadata": {},
   "outputs": [
    {
     "name": "stdout",
     "output_type": "stream",
     "text": [
      "A calculator have been created\n",
      "6\n"
     ]
    }
   ],
   "source": [
    "class calculator:\n",
    "    # class constructor\n",
    "    def __init__(self, x, y):\n",
    "        print(\"A calculator have been created\")\n",
    "        self.x = x\n",
    "        self.y = y\n",
    "\n",
    "    def add(self):\n",
    "        return self.x + self.y\n",
    "    \n",
    "    def subtract(self):\n",
    "        return self.x - self.y\n",
    "\n",
    "    def multiply(self):\n",
    "        return self.x * self.y\n",
    "    \n",
    "    def divide(self):\n",
    "        return self.x / self.y\n",
    "\n",
    "c = calculator(4,2)\n",
    "print(c.add())"
   ]
  },
  {
   "cell_type": "markdown",
   "id": "53bd9e0f",
   "metadata": {},
   "source": [
    "# Inheritance"
   ]
  },
  {
   "cell_type": "code",
   "execution_count": 8,
   "id": "ca4fbfe1",
   "metadata": {},
   "outputs": [
    {
     "name": "stdout",
     "output_type": "stream",
     "text": [
      "Meow..Meow\n",
      "Woof..Woof\n"
     ]
    }
   ],
   "source": [
    "class cat():\n",
    "    def __init__(self, name, color):\n",
    "        self.name = name\n",
    "        self.color = color\n",
    "\n",
    "    def speak(self):\n",
    "        print(\"Meow..Meow\")\n",
    "\n",
    "class dog():\n",
    "    def __init__(self, name, color):\n",
    "        self.name = name\n",
    "        self.color = color\n",
    "\n",
    "    def speak(self):\n",
    "        print(\"Woof..Woof\")\n",
    "\n",
    "\n",
    "tom = cat(\"Tom\", \"Grey\")\n",
    "spike = dog(\"Spike\", \"Grey\")\n",
    "\n",
    "tom.speak()\n",
    "spike.speak()\n",
    "\n"
   ]
  },
  {
   "cell_type": "code",
   "execution_count": null,
   "id": "c5f94e80",
   "metadata": {},
   "outputs": [
    {
     "name": "stdout",
     "output_type": "stream",
     "text": [
      "Meow .. Meow\n",
      "Woof .. Woof\n"
     ]
    }
   ],
   "source": [
    "class pet():\n",
    "    def __init__(self, name, color, voice):\n",
    "        self.name = name\n",
    "        self.color = color \n",
    "        self.voice = voice\n",
    "\n",
    "    def speak(self):\n",
    "        print(self.voice,\"..\",self.voice)\n",
    "\n",
    "class cat(pet):\n",
    "    def __init__(self, name, color):\n",
    "        super().__init__(name, color, \"Meow\")\n",
    "\n",
    "\n",
    "class dog(pet):\n",
    "    def __init__(self, name, color):\n",
    "        super().__init__(name, color, \"Woof\")\n",
    "\n",
    "\n",
    "tom = cat(\"Tom\", \"Grey\")\n",
    "spike = dog(\"Spike\", \"Grey\")\n",
    "\n",
    "tom.speak()\n",
    "spike.speak()"
   ]
  },
  {
   "cell_type": "code",
   "execution_count": 14,
   "id": "35333fc0",
   "metadata": {},
   "outputs": [
    {
     "name": "stdout",
     "output_type": "stream",
     "text": [
      "False\n",
      "Andorra  has a larger population density than Australia\n"
     ]
    }
   ],
   "source": [
    "class country():\n",
    "    def __init__(self, name, population, area):\n",
    "        self.name = name\n",
    "        self.area = area\n",
    "        self.population = population\n",
    "        if population > 250000000 or area > 3000000:\n",
    "            self.is_big = True\n",
    "\n",
    "        else:\n",
    "            self.is_big = False\n",
    "\n",
    "    def compare_pd(self, other):\n",
    "        x = self.population / self.area\n",
    "        y = other.population / other.area\n",
    "\n",
    "        if x > y :\n",
    "            print(self.name,\" has a larger population density than\",other.name)\n",
    "        else:\n",
    "            print(self.name,\" has a smaller population density than\",other.name)\n",
    "\n",
    "australia = country(\"Australia\", 23545500, 7692024)\n",
    "andorra = country(\"Andorra\", 76098, 468)\n",
    "\n",
    "print(andorra.is_big)\n",
    "andorra.compare_pd(australia)\n",
    "\n"
   ]
  },
  {
   "cell_type": "markdown",
   "id": "a352303e",
   "metadata": {},
   "source": [
    "# Abstraction"
   ]
  },
  {
   "cell_type": "code",
   "execution_count": null,
   "id": "c5f9f172",
   "metadata": {},
   "outputs": [
    {
     "name": "stdout",
     "output_type": "stream",
     "text": [
      "Meow .. Meow\n",
      "Woof .. Woof\n",
      "Protected\n"
     ]
    },
    {
     "ename": "AttributeError",
     "evalue": "'cat' object has no attribute '__A2'",
     "output_type": "error",
     "traceback": [
      "\u001b[1;31m---------------------------------------------------------------------------\u001b[0m",
      "\u001b[1;31mAttributeError\u001b[0m                            Traceback (most recent call last)",
      "Cell \u001b[1;32mIn[3], line 39\u001b[0m\n\u001b[0;32m     35\u001b[0m spike\u001b[38;5;241m.\u001b[39mspeak()\n\u001b[0;32m     37\u001b[0m \u001b[38;5;28mprint\u001b[39m(tom\u001b[38;5;241m.\u001b[39m_A1)\n\u001b[1;32m---> 39\u001b[0m \u001b[38;5;28mprint\u001b[39m(\u001b[43mtom\u001b[49m\u001b[38;5;241;43m.\u001b[39;49m\u001b[43m__A2\u001b[49m)\n",
      "\u001b[1;31mAttributeError\u001b[0m: 'cat' object has no attribute '__A2'"
     ]
    }
   ],
   "source": [
    "# each Attribute / Method in a class has three Levels of abstraction\n",
    "# - Public --> normal attribute can be accessed from inside / outside the class and can be inhertited\n",
    "# - Protected --> Attribute / method that should not be accessed outside the class  but visible\n",
    "#   to the class and its subclasses. It is a convention to use a single underscore before the name.\n",
    "# - Private --> Attribute / method that should not be accessed outside the class and not visible to subclasses.\n",
    "#   It is a convention to use a double underscore before the name.\n",
    "\n",
    "class pet():\n",
    "    def __init__(self, name, color, voice):\n",
    "        self.name = name # Public Attr.\n",
    "        self.color = color \n",
    "        self.voice = voice\n",
    "        \n",
    "        self._A1 = \"Protected\" # protected\n",
    "\n",
    "        self.__A2 = \"Private\"  # private, not visible to subclasses\n",
    "\n",
    "    def speak(self):\n",
    "        print(self.voice,\"..\",self.voice)\n",
    "\n",
    "class cat(pet):\n",
    "    def __init__(self, name, color):\n",
    "        super().__init__(name, color, \"Meow\")\n",
    "\n",
    "\n",
    "class dog(pet):\n",
    "    def __init__(self, name, color):\n",
    "        super().__init__(name, color, \"Woof\")\n",
    "\n",
    "\n",
    "tom = cat(\"Tom\", \"Grey\")\n",
    "spike = dog(\"Spike\", \"Grey\")\n",
    "\n",
    "tom.speak()\n",
    "spike.speak()\n",
    "\n",
    "print(tom._A1)\n",
    "\n",
    "# print(tom.__A2) # This will raise an AttributeError because __A2 is private and not accessible outside the class"
   ]
  },
  {
   "cell_type": "code",
   "execution_count": 5,
   "id": "4ad4e0a0",
   "metadata": {},
   "outputs": [
    {
     "name": "stdout",
     "output_type": "stream",
     "text": [
      "Meow .. Meow\n",
      "Woof .. Woof\n",
      "Protected\n",
      "Private\n",
      "New Private Value\n"
     ]
    }
   ],
   "source": [
    "# Setter and Getter for Private Attributes\n",
    "# This allows controlled access and modification of private attributes\n",
    "class pet():\n",
    "    def __init__(self, name, color, voice):\n",
    "        self.name = name # Public Attr.\n",
    "        self.color = color \n",
    "        self.voice = voice\n",
    "        \n",
    "        self._A1 = \"Protected\" # protected\n",
    "\n",
    "        self.__A2 = \"Private\"  # private, not visible to subclasses\n",
    "\n",
    "    def speak(self):\n",
    "        print(self.voice,\"..\",self.voice)\n",
    "\n",
    "    def get_A2(self):\n",
    "        # getter for private attribute\n",
    "        # This allows controlled access to the private attribute\n",
    "        return self.__A2\n",
    "    \n",
    "    def set_A2(self, value):\n",
    "        # setter for private attribute\n",
    "        # This allows controlled modification of the private attribute\n",
    "        if isinstance(value, str):\n",
    "            self.__A2 = value\n",
    "        else:\n",
    "            print(\"Value must be a string\")\n",
    "\n",
    "class cat(pet):\n",
    "    def __init__(self, name, color):\n",
    "        super().__init__(name, color, \"Meow\")\n",
    "\n",
    "\n",
    "class dog(pet):\n",
    "    def __init__(self, name, color):\n",
    "        super().__init__(name, color, \"Woof\")\n",
    "\n",
    "\n",
    "tom = cat(\"Tom\", \"Grey\")\n",
    "spike = dog(\"Spike\", \"Grey\")\n",
    "\n",
    "tom.speak()\n",
    "spike.speak()\n",
    "\n",
    "print(tom._A1)\n",
    "\n",
    "print(tom.get_A2())  # Accessing private attribute using getter\n",
    "tom.set_A2(\"New Private Value\")  # Modifying private attribute using setter\n",
    "print(tom.get_A2())  # Accessing modified private attribute using getter"
   ]
  },
  {
   "cell_type": "markdown",
   "id": "c5c346fa",
   "metadata": {},
   "source": [
    "# Abstract Class / Method"
   ]
  },
  {
   "cell_type": "code",
   "execution_count": 8,
   "id": "bf00e752",
   "metadata": {},
   "outputs": [
    {
     "name": "stdout",
     "output_type": "stream",
     "text": [
      "Woof..Woof\n"
     ]
    }
   ],
   "source": [
    "# Abstract Class / Method\n",
    "from abc import ABC, abstractmethod\n",
    "class Animal(ABC):\n",
    "    @abstractmethod\n",
    "    def speak(self):\n",
    "        pass\n",
    "\n",
    "class Dog(Animal):\n",
    "    def __init__(self):\n",
    "        super().__init__()\n",
    "    \n",
    "    def speak(self):\n",
    "        print(\"Woof..Woof\")\n",
    "\n",
    "\n",
    "spike = Dog()\n",
    "spike.speak()"
   ]
  },
  {
   "cell_type": "code",
   "execution_count": 9,
   "id": "c797b6da",
   "metadata": {},
   "outputs": [
    {
     "name": "stdout",
     "output_type": "stream",
     "text": [
      "Car engine started.\n",
      "Bike engine started.\n"
     ]
    }
   ],
   "source": [
    "from abc import ABC, abstractmethod\n",
    "\n",
    "# Abstract classes provide a blueprint for other classes.\n",
    "# They cannot be instantiated directly and require subclasses to implement abstract methods.\n",
    "\n",
    "\n",
    "class Vehicle(ABC):\n",
    "    @abstractmethod\n",
    "    def start_engine(self):\n",
    "        pass\n",
    "\n",
    "class Car(Vehicle):\n",
    "    def start_engine(self):\n",
    "        print(\"Car engine started.\")\n",
    "\n",
    "class Bike(Vehicle):\n",
    "    def start_engine(self):\n",
    "        print(\"Bike engine started.\")\n",
    "\n",
    "# The following line would raise an error:\n",
    "# v = Vehicle()  # TypeError: Can't instantiate abstract class Vehicle with abstract method start_engine\n",
    "\n",
    "car = Car()\n",
    "bike = Bike()\n",
    "car.start_engine()\n",
    "bike.start_engine()"
   ]
  },
  {
   "cell_type": "markdown",
   "id": "1ec16147",
   "metadata": {},
   "source": [
    "# Polymorphism"
   ]
  },
  {
   "cell_type": "code",
   "execution_count": null,
   "id": "7e24b4fd",
   "metadata": {},
   "outputs": [
    {
     "name": "stdout",
     "output_type": "stream",
     "text": [
      "78.5\n",
      "16\n"
     ]
    }
   ],
   "source": [
    "# polymorhism\n",
    "# is all about using the same interface for different data types.\n",
    "# It allows us to define a single interface and have multiple implementations of that interface.\n",
    "\n",
    "from abc import ABC, abstractmethod\n",
    "class Shape:\n",
    "    @abstractmethod # This is an abstract method that must be implemented by subclasses\n",
    "    def area(self):\n",
    "        pass\n",
    "\n",
    "class Circle(Shape):\n",
    "    def __init__(self, radius):\n",
    "        self.radius = radius\n",
    "\n",
    "    def area(self): # This is called polymorphism, as Circle implements the area method defined in Shape\n",
    "        #  Method overriding\n",
    "        return 3.14 * self.radius ** 2\n",
    "    \n",
    "class Square(Shape):\n",
    "    def __init__(self, side):\n",
    "        self.side = side\n",
    "\n",
    "    def area(self):\n",
    "        return self.side ** 2\n",
    "    \n",
    "shapes = [Circle(5), Square(4)]\n",
    "for shape in shapes:\n",
    "    print(shape.area())  # Calls the area method of each shape, demonstrating polymorphism"
   ]
  },
  {
   "cell_type": "code",
   "execution_count": 26,
   "id": "26f0231b",
   "metadata": {},
   "outputs": [
    {
     "name": "stdout",
     "output_type": "stream",
     "text": [
      "(2,3)\n",
      "(4,5)\n",
      "(6,8)\n"
     ]
    }
   ],
   "source": [
    "# Operators overloading\n",
    "# is a feature that allows us to define how operators behave for user-defined classes.\n",
    "\n",
    "class Vector:\n",
    "    def __init__(self, x, y):\n",
    "        self.x = x\n",
    "        self.y = y\n",
    "    \n",
    "    def __str__(self):\n",
    "        return \"(\"+str(self.x)+\",\"+str(self.y)+\")\"\n",
    "    \n",
    "    def __add__(self, other): # Operator overloading for the '+' operator\n",
    "        if isinstance(other, Vector):\n",
    "            return Vector(self.x + other.x, self.y + other.y)\n",
    "        else:\n",
    "            raise TypeError(\"Operand must be an instance of Vector\")\n",
    "\n",
    "v1 = Vector(2, 3)\n",
    "print(v1)\n",
    "\n",
    "v2 = Vector(4, 5)\n",
    "print(v2)\n",
    "\n",
    "print(v1 + v2)  # This will raise an error because we haven't defined the __add__ method yet"
   ]
  },
  {
   "cell_type": "code",
   "execution_count": 13,
   "id": "4c0803d1",
   "metadata": {},
   "outputs": [
    {
     "name": "stdout",
     "output_type": "stream",
     "text": [
      "[1, 2, 3]\n"
     ]
    }
   ],
   "source": [
    "t = [1,2,3]\n",
    "print(t)  # This will print the list [1, 2, 3]"
   ]
  },
  {
   "cell_type": "code",
   "execution_count": 21,
   "id": "a84c15a3",
   "metadata": {},
   "outputs": [
    {
     "name": "stdout",
     "output_type": "stream",
     "text": [
      "Hello World\n"
     ]
    }
   ],
   "source": [
    "s1 = \"Hello\"\n",
    "s2 = \"World\"\n",
    "print(s1 + \" \" + s2)  # This will print \"Hello World\""
   ]
  },
  {
   "cell_type": "code",
   "execution_count": 27,
   "id": "e0fa7fa7",
   "metadata": {},
   "outputs": [],
   "source": [
    "# Overloading VS Overriding\n",
    "# Overloading refers to defining multiple methods with the same name but different parameters.\n",
    "# Overriding refers to redefining a method in a subclass that already exists in the parent"
   ]
  },
  {
   "cell_type": "code",
   "execution_count": null,
   "id": "dfe0c819",
   "metadata": {},
   "outputs": [],
   "source": []
  }
 ],
 "metadata": {
  "kernelspec": {
   "display_name": "base",
   "language": "python",
   "name": "python3"
  },
  "language_info": {
   "codemirror_mode": {
    "name": "ipython",
    "version": 3
   },
   "file_extension": ".py",
   "mimetype": "text/x-python",
   "name": "python",
   "nbconvert_exporter": "python",
   "pygments_lexer": "ipython3",
   "version": "3.12.3"
  }
 },
 "nbformat": 4,
 "nbformat_minor": 5
}
