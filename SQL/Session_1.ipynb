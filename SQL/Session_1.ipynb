{
 "cells": [
  {
   "cell_type": "code",
   "execution_count": 4,
   "id": "c752a8d2",
   "metadata": {},
   "outputs": [
    {
     "name": "stdout",
     "output_type": "stream",
     "text": [
      "Looking in indexes: https://pypi.org/simple, https://pypi.ngc.nvidia.com\n",
      "Requirement already satisfied: mysql-connector-python in c:\\users\\engsm\\miniconda3\\lib\\site-packages (9.1.0)\n"
     ]
    }
   ],
   "source": [
    "!pip install mysql-connector-python"
   ]
  },
  {
   "cell_type": "code",
   "execution_count": 2,
   "id": "d4add533",
   "metadata": {},
   "outputs": [],
   "source": [
    "import mysql.connector\n",
    "\n",
    "# Replace with your actual MySQL connection details\n",
    "conn = mysql.connector.connect(\n",
    "    host='localhost',\n",
    "    user='root',\n",
    "    password='root',\n",
    "    database='mysql'\n",
    ")\n",
    "cursor = conn.cursor()"
   ]
  },
  {
   "cell_type": "code",
   "execution_count": 3,
   "id": "b72633e0",
   "metadata": {},
   "outputs": [
    {
     "name": "stdout",
     "output_type": "stream",
     "text": [
      "('columns_priv',)\n",
      "('component',)\n",
      "('db',)\n",
      "('default_roles',)\n",
      "('engine_cost',)\n",
      "('func',)\n",
      "('general_log',)\n",
      "('global_grants',)\n",
      "('gtid_executed',)\n",
      "('help_category',)\n",
      "('help_keyword',)\n",
      "('help_relation',)\n",
      "('help_topic',)\n",
      "('innodb_index_stats',)\n",
      "('innodb_table_stats',)\n",
      "('ndb_binlog_index',)\n",
      "('password_history',)\n",
      "('plugin',)\n",
      "('procs_priv',)\n",
      "('proxies_priv',)\n",
      "('replication_asynchronous_connection_failover',)\n",
      "('replication_asynchronous_connection_failover_managed',)\n",
      "('replication_group_configuration_version',)\n",
      "('replication_group_member_actions',)\n",
      "('role_edges',)\n",
      "('server_cost',)\n",
      "('servers',)\n",
      "('slave_master_info',)\n",
      "('slave_relay_log_info',)\n",
      "('slave_worker_info',)\n",
      "('slow_log',)\n",
      "('tables_priv',)\n",
      "('time_zone',)\n",
      "('time_zone_leap_second',)\n",
      "('time_zone_name',)\n",
      "('time_zone_transition',)\n",
      "('time_zone_transition_type',)\n",
      "('user',)\n"
     ]
    }
   ],
   "source": [
    "# list all tables in the database\n",
    "cursor.reset()\n",
    "cursor.execute(\"SHOW TABLES\")\n",
    "\n",
    "# Fetch all results\n",
    "tables = cursor.fetchall()\n",
    "for table in tables:\n",
    "    print(table)"
   ]
  },
  {
   "cell_type": "markdown",
   "id": "46253676",
   "metadata": {},
   "source": [
    "# DDL\n",
    "- CREATE\n",
    "- DROP\n",
    "- ALTER\n",
    "- TRUNCATE"
   ]
  },
  {
   "cell_type": "code",
   "execution_count": 5,
   "id": "13739ce6",
   "metadata": {},
   "outputs": [],
   "source": [
    "cursor.execute(\"CREATE DATABASE IF NOT EXISTS debi3\")"
   ]
  },
  {
   "cell_type": "code",
   "execution_count": 6,
   "id": "c8dfa54c",
   "metadata": {},
   "outputs": [
    {
     "name": "stdout",
     "output_type": "stream",
     "text": [
      "[('debi',), ('debi3',), ('debi_2',), ('information_schema',), ('mydatabase',), ('mysql',), ('performance_schema',), ('sys',)]\n"
     ]
    }
   ],
   "source": [
    "cursor.execute(\"SHOW DATABASES\")\n",
    "print(cursor.fetchall())"
   ]
  },
  {
   "cell_type": "code",
   "execution_count": 7,
   "id": "740d9d5f",
   "metadata": {},
   "outputs": [],
   "source": [
    "cursor.execute(\"USE debi3\")"
   ]
  },
  {
   "cell_type": "code",
   "execution_count": 8,
   "id": "6efcac16",
   "metadata": {},
   "outputs": [],
   "source": [
    "# create a new table\n",
    "cursor.execute(\"CREATE TABLE IF NOT EXISTS Employee (id INT, name VARCHAR(255), age INT)\")"
   ]
  },
  {
   "cell_type": "code",
   "execution_count": 10,
   "id": "d2c28d0c",
   "metadata": {},
   "outputs": [
    {
     "name": "stdout",
     "output_type": "stream",
     "text": [
      "('employee',)\n"
     ]
    }
   ],
   "source": [
    "cursor.execute(\"SHOW TABLES\")\n",
    "# Fetch all results\n",
    "tables = cursor.fetchall()\n",
    "for table in tables:\n",
    "    print(table)"
   ]
  },
  {
   "cell_type": "code",
   "execution_count": 11,
   "id": "099fa284",
   "metadata": {},
   "outputs": [
    {
     "name": "stdout",
     "output_type": "stream",
     "text": [
      "('id', 'int', 'YES', '', None, '')\n",
      "('name', 'varchar(255)', 'YES', '', None, '')\n",
      "('age', 'int', 'YES', '', None, '')\n"
     ]
    }
   ],
   "source": [
    "# check the table schema\n",
    "cursor.execute(\"DESCRIBE Employee\")\n",
    "schema = cursor.fetchall()\n",
    "for column in schema:\n",
    "    print(column)"
   ]
  },
  {
   "cell_type": "code",
   "execution_count": 12,
   "id": "059ecf9b",
   "metadata": {},
   "outputs": [],
   "source": [
    "# Drop the table if needed\n",
    "cursor.execute(\"DROP TABLE IF EXISTS Employee\")\n",
    "cursor.execute(\"SHOW TABLES\")\n",
    "tables = cursor.fetchall()\n",
    "for table in tables:\n",
    "    print(table)"
   ]
  },
  {
   "cell_type": "code",
   "execution_count": 13,
   "id": "f7bb387e",
   "metadata": {},
   "outputs": [],
   "source": [
    "# create a new table\n",
    "cursor.execute(\"CREATE TABLE IF NOT EXISTS Employee (id INT, name VARCHAR(255), age INT)\")"
   ]
  },
  {
   "cell_type": "code",
   "execution_count": 14,
   "id": "b585e7fe",
   "metadata": {},
   "outputs": [
    {
     "name": "stdout",
     "output_type": "stream",
     "text": [
      "('id', 'int', 'YES', '', None, '')\n",
      "('name', 'varchar(255)', 'YES', '', None, '')\n",
      "('age', 'int', 'YES', '', None, '')\n"
     ]
    }
   ],
   "source": [
    "cursor.execute(\"DESCRIBE Employee\")\n",
    "schema = cursor.fetchall()\n",
    "for column in schema:\n",
    "    print(column)"
   ]
  },
  {
   "cell_type": "code",
   "execution_count": 15,
   "id": "ff166671",
   "metadata": {},
   "outputs": [
    {
     "name": "stdout",
     "output_type": "stream",
     "text": [
      "('id', 'int', 'YES', '', None, '')\n",
      "('name', 'varchar(100)', 'NO', '', None, '')\n",
      "('age', 'int', 'YES', '', None, '')\n",
      "('salary', 'decimal(10,2)', 'YES', '', None, '')\n"
     ]
    }
   ],
   "source": [
    "# Alter some columns\n",
    "cursor.execute(\"ALTER TABLE Employee MODIFY COLUMN name varchar(100) NOT NULL\")\n",
    "cursor.execute(\"ALTER TABLE Employee ADD COLUMN salary DECIMAL(10, 2)\")\n",
    "\n",
    "# Check the schema again\n",
    "cursor.execute(\"DESCRIBE Employee\")\n",
    "schema = cursor.fetchall()\n",
    "for column in schema:\n",
    "    print(column)"
   ]
  },
  {
   "cell_type": "code",
   "execution_count": 16,
   "id": "b7feacaf",
   "metadata": {},
   "outputs": [],
   "source": [
    "# Truncate the table\n",
    "cursor.execute(\"TRUNCATE TABLE Employee\")\n"
   ]
  },
  {
   "cell_type": "markdown",
   "id": "c74c7b42",
   "metadata": {},
   "source": [
    "# DML \n",
    "- INSERT\n",
    "- UPDATE\n",
    "- DELETE"
   ]
  },
  {
   "cell_type": "code",
   "execution_count": 17,
   "id": "5362c49a",
   "metadata": {},
   "outputs": [
    {
     "name": "stdout",
     "output_type": "stream",
     "text": [
      "(1, 'John Doe', 30, None)\n"
     ]
    }
   ],
   "source": [
    "cursor.execute(\"INSERT INTO Employee (id, name, age) VALUES (1, 'John Doe', 30)\")\n",
    "\n",
    "# check the inserted data\n",
    "cursor.execute(\"SELECT * FROM Employee\")\n",
    "rows = cursor.fetchall()\n",
    "for row in rows:\n",
    "    print(row)"
   ]
  },
  {
   "cell_type": "code",
   "execution_count": 19,
   "id": "0b4273c2",
   "metadata": {},
   "outputs": [
    {
     "name": "stdout",
     "output_type": "stream",
     "text": [
      "(1, 'John Doe', 30, None)\n",
      "(2, 'Jane Smith', 25, None)\n",
      "(3, 'Alice Johnson', 28, None)\n",
      "(4, 'Bob Brown', 35, None)\n"
     ]
    }
   ],
   "source": [
    "# insert multiple rows\n",
    "data = [\n",
    "    (2, 'Jane Smith', 25),\n",
    "    (3, 'Alice Johnson', 28),\n",
    "    (4, 'Bob Brown', 35)\n",
    "]\n",
    "\n",
    "cursor.executemany(\"INSERT INTO Employee (id, name, age) VALUES (%s, %s, %s)\", data)\n",
    "\n",
    "# check the inserted data\n",
    "cursor.execute(\"SELECT * FROM Employee\")\n",
    "rows = cursor.fetchall()\n",
    "for row in rows:\n",
    "    print(row)"
   ]
  },
  {
   "cell_type": "code",
   "execution_count": 20,
   "id": "06c39ebf",
   "metadata": {},
   "outputs": [
    {
     "name": "stdout",
     "output_type": "stream",
     "text": [
      "(1, 'John Doe', 30, Decimal('5000.00'))\n",
      "(2, 'Jane Smith', 25, None)\n",
      "(3, 'Alice Johnson', 28, None)\n",
      "(4, 'Bob Brown', 35, None)\n"
     ]
    }
   ],
   "source": [
    "# UPDATE some records\n",
    "cursor.execute(\"UPDATE Employee SET salary = 5000 WHERE id = 1\")\n",
    "\n",
    "# check the updated data\n",
    "cursor.execute(\"SELECT * FROM Employee\")\n",
    "rows = cursor.fetchall()\n",
    "for row in rows:\n",
    "    print(row) "
   ]
  },
  {
   "cell_type": "code",
   "execution_count": 21,
   "id": "f9ce3c98",
   "metadata": {},
   "outputs": [
    {
     "name": "stdout",
     "output_type": "stream",
     "text": [
      "(1, 'John Doe', 30, Decimal('5000.00'))\n",
      "(2, 'Jane Smith', 25, Decimal('3000.00'))\n",
      "(3, 'Alice Johnson', 28, Decimal('3000.00'))\n",
      "(4, 'Bob Brown', 35, None)\n"
     ]
    }
   ],
   "source": [
    "# UPDATE some records\n",
    "cursor.execute(\"UPDATE Employee SET salary = 3000 WHERE age < 30\")\n",
    "\n",
    "# check the updated data\n",
    "cursor.execute(\"SELECT * FROM Employee\")\n",
    "rows = cursor.fetchall()\n",
    "for row in rows:\n",
    "    print(row) "
   ]
  },
  {
   "cell_type": "code",
   "execution_count": 22,
   "id": "a1185f06",
   "metadata": {},
   "outputs": [
    {
     "name": "stdout",
     "output_type": "stream",
     "text": [
      "(2, 'Jane Smith', 25, Decimal('3000.00'))\n",
      "(3, 'Alice Johnson', 28, Decimal('3000.00'))\n",
      "(4, 'Bob Brown', 35, None)\n"
     ]
    }
   ],
   "source": [
    "# Delete some records\n",
    "cursor.execute(\"DELETE FROM Employee WHERE id = 1\")\n",
    "# check the remaining data\n",
    "cursor.execute(\"SELECT * FROM Employee\")\n",
    "rows = cursor.fetchall()\n",
    "for row in rows:\n",
    "    print(row)"
   ]
  },
  {
   "cell_type": "code",
   "execution_count": null,
   "id": "6d71e3ae",
   "metadata": {},
   "outputs": [],
   "source": []
  }
 ],
 "metadata": {
  "kernelspec": {
   "display_name": "base",
   "language": "python",
   "name": "python3"
  },
  "language_info": {
   "codemirror_mode": {
    "name": "ipython",
    "version": 3
   },
   "file_extension": ".py",
   "mimetype": "text/x-python",
   "name": "python",
   "nbconvert_exporter": "python",
   "pygments_lexer": "ipython3",
   "version": "3.12.3"
  }
 },
 "nbformat": 4,
 "nbformat_minor": 5
}
