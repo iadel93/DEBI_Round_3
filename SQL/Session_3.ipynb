{
 "cells": [
  {
   "cell_type": "markdown",
   "id": "65e76462",
   "metadata": {},
   "source": [
    "# SQL Aggregation"
   ]
  },
  {
   "cell_type": "code",
   "execution_count": 4,
   "id": "e6ea6398",
   "metadata": {},
   "outputs": [],
   "source": [
    "from mysql.connector import connect\n",
    "\n",
    "connection = connect(\n",
    "    host=\"localhost\",\n",
    "    user=\"root\",\n",
    "    password=\"root\",\n",
    "    database=\"debi3\"\n",
    ")\n",
    "\n",
    "cursor = connection.cursor()"
   ]
  },
  {
   "cell_type": "code",
   "execution_count": 5,
   "id": "b613fc4b",
   "metadata": {},
   "outputs": [
    {
     "name": "stdout",
     "output_type": "stream",
     "text": [
      "Tables created successfully!\n"
     ]
    }
   ],
   "source": [
    "# Create tables for JOIN demonstration\n",
    "\n",
    "# Create departments table\n",
    "cursor.execute(\"\"\"\n",
    "CREATE TABLE IF NOT EXISTS departments (\n",
    "    dept_id INT PRIMARY KEY,\n",
    "    dept_name VARCHAR(50),\n",
    "    location VARCHAR(50)\n",
    ")\n",
    "\"\"\")\n",
    "\n",
    "# Create employees table with department reference\n",
    "cursor.execute(\"\"\"\n",
    "CREATE TABLE IF NOT EXISTS employees (\n",
    "    emp_id INT PRIMARY KEY,\n",
    "    emp_name VARCHAR(50),\n",
    "    salary DECIMAL(10,2),\n",
    "    dept_id INT,\n",
    "    hire_date DATE\n",
    ")\n",
    "\"\"\")\n",
    "\n",
    "# Create projects table\n",
    "cursor.execute(\"\"\"\n",
    "CREATE TABLE IF NOT EXISTS projects (\n",
    "    project_id INT PRIMARY KEY,\n",
    "    project_name VARCHAR(100),\n",
    "    budget DECIMAL(12,2),\n",
    "    dept_id INT\n",
    ")\n",
    "\"\"\")\n",
    "\n",
    "# Create employee_projects table (many-to-many relationship)\n",
    "cursor.execute(\"\"\"\n",
    "CREATE TABLE IF NOT EXISTS employee_projects (\n",
    "    emp_id INT,\n",
    "    project_id INT,\n",
    "    role VARCHAR(50),\n",
    "    PRIMARY KEY (emp_id, project_id)\n",
    ")\n",
    "\"\"\")\n",
    "\n",
    "connection.commit()\n",
    "print(\"Tables created successfully!\")"
   ]
  },
  {
   "cell_type": "code",
   "execution_count": 6,
   "id": "c7fc9dc4",
   "metadata": {},
   "outputs": [
    {
     "name": "stdout",
     "output_type": "stream",
     "text": [
      "Departments data inserted!\n"
     ]
    }
   ],
   "source": [
    "# Insert sample data into departments table\n",
    "departments_data = [\n",
    "    (1, 'Human Resources', 'New York'),\n",
    "    (2, 'Engineering', 'San Francisco'),\n",
    "    (3, 'Marketing', 'Chicago'),\n",
    "    (4, 'Finance', 'New York'),\n",
    "    (5, 'Research', 'Boston')\n",
    "]\n",
    "\n",
    "cursor.executemany(\"INSERT IGNORE INTO departments (dept_id, dept_name, location) VALUES (%s, %s, %s)\", departments_data)\n",
    "connection.commit()\n",
    "print(\"Departments data inserted!\")"
   ]
  },
  {
   "cell_type": "code",
   "execution_count": 7,
   "id": "73158e97",
   "metadata": {},
   "outputs": [
    {
     "name": "stdout",
     "output_type": "stream",
     "text": [
      "Employees data inserted!\n"
     ]
    }
   ],
   "source": [
    "# Insert sample data into employees table\n",
    "employees_data = [\n",
    "    (101, 'Alice Johnson', 75000.00, 1, '2022-01-15'),\n",
    "    (102, 'Bob Smith', 85000.00, 2, '2021-06-10'),\n",
    "    (103, 'Charlie Brown', 65000.00, 3, '2023-03-20'),\n",
    "    (104, 'Diana Prince', 90000.00, 2, '2020-09-05'),\n",
    "    (105, 'Eve Adams', 70000.00, 4, '2022-11-12'),\n",
    "    (106, 'Frank Miller', 95000.00, 2, '2019-04-18'),\n",
    "    (107, 'Grace Lee', 60000.00, 3, '2023-07-01'),\n",
    "    (108, 'Henry Wilson', 80000.00, 1, '2021-12-03'),\n",
    "    (109, 'Ivy Chen', 120000.00, None, '2023-01-10')  # Employee without department\n",
    "]\n",
    "\n",
    "cursor.executemany(\"INSERT IGNORE INTO employees (emp_id, emp_name, salary, dept_id, hire_date) VALUES (%s, %s, %s, %s, %s)\", employees_data)\n",
    "connection.commit()\n",
    "print(\"Employees data inserted!\")"
   ]
  },
  {
   "cell_type": "code",
   "execution_count": 8,
   "id": "f09869fb",
   "metadata": {},
   "outputs": [
    {
     "name": "stdout",
     "output_type": "stream",
     "text": [
      "Projects data inserted!\n"
     ]
    }
   ],
   "source": [
    "# Insert sample data into projects table\n",
    "projects_data = [\n",
    "    (201, 'Website Redesign', 150000.00, 2),\n",
    "    (202, 'HR System Upgrade', 80000.00, 1),\n",
    "    (203, 'Marketing Campaign', 120000.00, 3),\n",
    "    (204, 'Budget Analysis Tool', 95000.00, 4),\n",
    "    (205, 'Mobile App Development', 200000.00, 2),\n",
    "    (206, 'Data Analytics Platform', 250000.00, 5),\n",
    "    (207, 'Social Media Strategy', 75000.00, 3),\n",
    "    (208, 'Legacy System Migration', 300000.00, None)  # Project without assigned department\n",
    "]\n",
    "\n",
    "cursor.executemany(\"INSERT IGNORE INTO projects (project_id, project_name, budget, dept_id) VALUES (%s, %s, %s, %s)\", projects_data)\n",
    "connection.commit()\n",
    "print(\"Projects data inserted!\")"
   ]
  },
  {
   "cell_type": "code",
   "execution_count": 9,
   "id": "c35cf41d",
   "metadata": {},
   "outputs": [
    {
     "name": "stdout",
     "output_type": "stream",
     "text": [
      "Employee-Projects relationships inserted!\n"
     ]
    }
   ],
   "source": [
    "# Insert sample data into employee_projects table\n",
    "employee_projects_data = [\n",
    "    (102, 201, 'Lead Developer'),\n",
    "    (104, 201, 'Senior Developer'),\n",
    "    (106, 201, 'Technical Lead'),\n",
    "    (101, 202, 'Project Manager'),\n",
    "    (108, 202, 'Business Analyst'),\n",
    "    (103, 203, 'Marketing Specialist'),\n",
    "    (107, 203, 'Content Creator'),\n",
    "    (105, 204, 'Financial Analyst'),\n",
    "    (102, 205, 'Mobile Developer'),\n",
    "    (104, 205, 'Backend Developer'),\n",
    "    (109, 206, 'Data Scientist'),\n",
    "    (103, 207, 'Social Media Manager')\n",
    "]\n",
    "\n",
    "cursor.executemany(\"INSERT IGNORE INTO employee_projects (emp_id, project_id, role) VALUES (%s, %s, %s)\", employee_projects_data)\n",
    "connection.commit()\n",
    "print(\"Employee-Projects relationships inserted!\")"
   ]
  },
  {
   "cell_type": "code",
   "execution_count": 12,
   "id": "14f5f3e3",
   "metadata": {},
   "outputs": [
    {
     "name": "stdout",
     "output_type": "stream",
     "text": [
      "['SUM(e.salary)', 'MAX(e.salary)', 'MIN(e.salary)', 'AVG(e.salary)']\n",
      "[(Decimal('740000.00'), Decimal('120000.00'), Decimal('60000.00'), Decimal('82222.222222'))]\n"
     ]
    }
   ],
   "source": [
    "# SUM , MAX, MIN\n",
    "cursor.execute(\"\"\" \n",
    "SELECT \n",
    "    SUM(e.salary),\n",
    "    MAX(e.salary),\n",
    "    MIN(e.salary),\n",
    "    AVG(e.salary)     \n",
    "FROM \n",
    "    employees e\n",
    "\"\"\")\n",
    "columns = [column[0] for column in cursor.description]\n",
    "print(columns)\n",
    "data = cursor.fetchall()\n",
    "print(data)"
   ]
  },
  {
   "cell_type": "code",
   "execution_count": 14,
   "id": "d7ac3506",
   "metadata": {},
   "outputs": [
    {
     "name": "stdout",
     "output_type": "stream",
     "text": [
      "['COUNT(e.emp_id)']\n",
      "[(9,)]\n"
     ]
    }
   ],
   "source": [
    "# COUNT\n",
    "cursor.execute(\"\"\" \n",
    "SELECT \n",
    "    COUNT(e.emp_id)     \n",
    "FROM \n",
    "    employees e\n",
    "\"\"\")\n",
    "columns = [column[0] for column in cursor.description]\n",
    "print(columns)\n",
    "data = cursor.fetchall()\n",
    "print(data)"
   ]
  },
  {
   "cell_type": "code",
   "execution_count": 29,
   "id": "12c8f3ea",
   "metadata": {},
   "outputs": [
    {
     "name": "stdout",
     "output_type": "stream",
     "text": [
      "['COUNT(e.emp_id)']\n",
      "[(3,)]\n"
     ]
    }
   ],
   "source": [
    "# COUNT in certain department \"Engineeering Department\"\n",
    "cursor.execute(\"\"\" \n",
    "SELECT \n",
    "    COUNT(e.emp_id)     \n",
    "FROM \n",
    "    employees e\n",
    "WHERE\n",
    "    e.dept_id = 2\n",
    "\"\"\")\n",
    "columns = [column[0] for column in cursor.description]\n",
    "print(columns)\n",
    "data = cursor.fetchall()\n",
    "print(data)"
   ]
  },
  {
   "cell_type": "markdown",
   "id": "719ddbd7",
   "metadata": {},
   "source": [
    "# Group By"
   ]
  },
  {
   "cell_type": "code",
   "execution_count": null,
   "id": "6e7121b7",
   "metadata": {},
   "outputs": [
    {
     "name": "stdout",
     "output_type": "stream",
     "text": [
      "['dept_id', 'COUNT(e.emp_id)', 'AVG (e.salary)']\n",
      "(1, 2, Decimal('77500.000000'))\n",
      "(2, 3, Decimal('90000.000000'))\n",
      "(3, 2, Decimal('62500.000000'))\n",
      "(4, 1, Decimal('70000.000000'))\n"
     ]
    }
   ],
   "source": [
    "cursor.execute(\"\"\" \n",
    "SELECT \n",
    "    e.dept_id,\n",
    "    COUNT(e.emp_id),\n",
    "    AVG (e.salary)   \n",
    "FROM \n",
    "    employees e\n",
    "WHERE \n",
    "    e.dept_id IS NOT NULL\n",
    "GROUP BY\n",
    "    e.dept_id\n",
    "\"\"\")\n",
    "columns = [column[0] for column in cursor.description]\n",
    "print(columns)\n",
    "data = cursor.fetchall()\n",
    "for row in data:\n",
    "    print(row)"
   ]
  },
  {
   "cell_type": "code",
   "execution_count": 32,
   "id": "25cbc495",
   "metadata": {},
   "outputs": [
    {
     "name": "stdout",
     "output_type": "stream",
     "text": [
      "['dept_id', 'COUNT(e.emp_id)', 'AVG (e.salary)']\n",
      "(2, 3, Decimal('90000.000000'))\n"
     ]
    }
   ],
   "source": [
    "cursor.execute(\"\"\" \n",
    "SELECT \n",
    "    e.dept_id,\n",
    "    COUNT(e.emp_id),\n",
    "    AVG (e.salary)   \n",
    "FROM \n",
    "    employees e\n",
    "WHERE \n",
    "    e.dept_id IS NOT NULL\n",
    "GROUP BY\n",
    "    e.dept_id\n",
    "HAVING\n",
    "    COUNT(e.emp_id) > 2 AND AVG(e.salary) > 50000\n",
    "\"\"\")\n",
    "columns = [column[0] for column in cursor.description]\n",
    "print(columns)\n",
    "data = cursor.fetchall()\n",
    "for row in data:\n",
    "    print(row)"
   ]
  },
  {
   "cell_type": "markdown",
   "id": "2d5d1304",
   "metadata": {},
   "source": [
    "# Views"
   ]
  },
  {
   "cell_type": "code",
   "execution_count": 37,
   "id": "a1254b28",
   "metadata": {},
   "outputs": [],
   "source": [
    "cursor.execute(\"\"\" \n",
    "CREATE VIEW dept_summary_view AS\n",
    "SELECT \n",
    "    e.dept_id,\n",
    "    d.dept_name,\n",
    "    COUNT(e.emp_id),\n",
    "    AVG (e.salary)   \n",
    "FROM \n",
    "    employees e JOIN departments d ON e.dept_id = d.dept_id\n",
    "WHERE \n",
    "    e.dept_id IS NOT NULL\n",
    "GROUP BY\n",
    "    e.dept_id\n",
    "\"\"\")"
   ]
  },
  {
   "cell_type": "code",
   "execution_count": 38,
   "id": "0c452003",
   "metadata": {},
   "outputs": [
    {
     "name": "stdout",
     "output_type": "stream",
     "text": [
      "('dept_summary', 'VIEW')\n",
      "('dept_summary_view', 'VIEW')\n"
     ]
    }
   ],
   "source": [
    "# List the views\n",
    "cursor.execute(\"SHOW FULL TABLES WHERE TABLE_TYPE LIKE 'VIEW'\")\n",
    "views = cursor.fetchall()\n",
    "for view in views:\n",
    "    print(view)"
   ]
  },
  {
   "cell_type": "code",
   "execution_count": 35,
   "id": "8e461d17",
   "metadata": {},
   "outputs": [
    {
     "name": "stdout",
     "output_type": "stream",
     "text": [
      "['dept_id', 'COUNT(e.emp_id)', 'AVG (e.salary)']\n",
      "(1, 2, Decimal('77500.000000'))\n",
      "(2, 3, Decimal('90000.000000'))\n",
      "(3, 2, Decimal('62500.000000'))\n",
      "(4, 1, Decimal('70000.000000'))\n"
     ]
    }
   ],
   "source": [
    "# List data from the view\n",
    "cursor.execute(\"SELECT * FROM dept_summary\")\n",
    "columns = [column[0] for column in cursor.description]\n",
    "print(columns)\n",
    "data = cursor.fetchall()\n",
    "for row in data:\n",
    "    print(row)\n"
   ]
  },
  {
   "cell_type": "code",
   "execution_count": 39,
   "id": "ef8f5e39",
   "metadata": {},
   "outputs": [
    {
     "name": "stdout",
     "output_type": "stream",
     "text": [
      "['dept_id', 'dept_name', 'COUNT(e.emp_id)', 'AVG (e.salary)']\n",
      "(1, 'Human Resources', 2, Decimal('77500.000000'))\n",
      "(2, 'Engineering', 3, Decimal('90000.000000'))\n",
      "(3, 'Marketing', 2, Decimal('62500.000000'))\n",
      "(4, 'Finance', 1, Decimal('70000.000000'))\n"
     ]
    }
   ],
   "source": [
    "# List data from the view\n",
    "cursor.execute(\"SELECT * FROM dept_summary_view\")\n",
    "columns = [column[0] for column in cursor.description]\n",
    "print(columns)\n",
    "data = cursor.fetchall()\n",
    "for row in data:\n",
    "    print(row)"
   ]
  },
  {
   "cell_type": "code",
   "execution_count": 40,
   "id": "3922e77f",
   "metadata": {},
   "outputs": [],
   "source": [
    "cursor.execute(\"\"\" \n",
    "CREATE OR REPLACE VIEW dept_summary_view AS\n",
    "SELECT \n",
    "    e.dept_id,\n",
    "    d.dept_name,\n",
    "    COUNT(e.emp_id),\n",
    "    AVG (e.salary),\n",
    "    MIN(e.salary),\n",
    "    MAX(e.salary)\n",
    "FROM \n",
    "    employees e JOIN departments d ON e.dept_id = d.dept_id\n",
    "WHERE \n",
    "    e.dept_id IS NOT NULL\n",
    "GROUP BY\n",
    "    e.dept_id\n",
    "\"\"\")"
   ]
  },
  {
   "cell_type": "code",
   "execution_count": 41,
   "id": "2c4d583b",
   "metadata": {},
   "outputs": [
    {
     "name": "stdout",
     "output_type": "stream",
     "text": [
      "['dept_id', 'dept_name', 'COUNT(e.emp_id)', 'AVG (e.salary)', 'MIN(e.salary)', 'MAX(e.salary)']\n",
      "(1, 'Human Resources', 2, Decimal('77500.000000'), Decimal('75000.00'), Decimal('80000.00'))\n",
      "(2, 'Engineering', 3, Decimal('90000.000000'), Decimal('85000.00'), Decimal('95000.00'))\n",
      "(3, 'Marketing', 2, Decimal('62500.000000'), Decimal('60000.00'), Decimal('65000.00'))\n",
      "(4, 'Finance', 1, Decimal('70000.000000'), Decimal('70000.00'), Decimal('70000.00'))\n"
     ]
    }
   ],
   "source": [
    "# List data from the view\n",
    "cursor.execute(\"SELECT * FROM dept_summary_view\")\n",
    "columns = [column[0] for column in cursor.description]\n",
    "print(columns)\n",
    "data = cursor.fetchall()\n",
    "for row in data:\n",
    "    print(row)"
   ]
  },
  {
   "cell_type": "code",
   "execution_count": 42,
   "id": "1412dbcd",
   "metadata": {},
   "outputs": [
    {
     "name": "stdout",
     "output_type": "stream",
     "text": [
      "Views after deletion:\n",
      "('dept_summary', 'VIEW')\n"
     ]
    }
   ],
   "source": [
    "cursor.execute(\"\"\"\n",
    "    DROP VIEW IF EXISTS dept_summary_view\n",
    "\"\"\")\n",
    "\n",
    "cursor.execute(\"\"\"\n",
    "    SHOW FULL TABLES WHERE TABLE_TYPE LIKE 'VIEW'\n",
    "\"\"\")\n",
    "\n",
    "print(\"Views after deletion:\")\n",
    "data = cursor.fetchall()\n",
    "for row in data:\n",
    "    print(row)\n"
   ]
  },
  {
   "cell_type": "markdown",
   "id": "1bb9beb5",
   "metadata": {},
   "source": [
    "# SQL over cloud"
   ]
  },
  {
   "cell_type": "code",
   "execution_count": null,
   "id": "d0827c8c",
   "metadata": {},
   "outputs": [],
   "source": [
    "!pip install \"cloud-sql-python-connector[pymysql]\""
   ]
  },
  {
   "cell_type": "code",
   "execution_count": 4,
   "id": "6300a67a",
   "metadata": {},
   "outputs": [
    {
     "name": "stdout",
     "output_type": "stream",
     "text": [
      "[(1, 'Ahmed'), (2, 'Islam')]\n"
     ]
    }
   ],
   "source": [
    "from google.cloud.sql.connector import Connector\n",
    "import sqlalchemy\n",
    "\n",
    "# Initialize Connector object\n",
    "connector = Connector()\n",
    "\n",
    "# Initialize SQLAlchemy connection pool with Connector\n",
    "pool = sqlalchemy.create_engine(\n",
    "    \"mysql+pymysql://\",\n",
    "    creator=lambda: connector.connect(\n",
    "        \"graphite-hook-438709-m2:europe-west1:debisql\",  # Your Cloud SQL instance connection name\n",
    "        \"pymysql\",\n",
    "        user=\"iadel\",\n",
    "        password=\"root\",\n",
    "        db=\"debi3\"\n",
    "    ),\n",
    ")\n",
    "\n",
    "# Example usage (e.g., with SQLAlchemy)\n",
    "with pool.connect() as conn:\n",
    "    result = conn.execute(sqlalchemy.text(\"SELECT * FROM users\"))\n",
    "    print(result.fetchall())\n",
    "\n",
    "# Close the connector when done\n",
    "# connector.close()"
   ]
  },
  {
   "cell_type": "code",
   "execution_count": 16,
   "id": "f7e361ab",
   "metadata": {},
   "outputs": [
    {
     "name": "stdout",
     "output_type": "stream",
     "text": [
      "Tables created successfully!\n",
      "Employees data inserted!\n",
      "Employees data inserted!\n"
     ]
    }
   ],
   "source": [
    "# Create tables over the cloud SQL instance\n",
    "\n",
    "with pool.connect() as conn:\n",
    "    # Create employees table with department reference\n",
    "    conn.execute(sqlalchemy.text(\"\"\"\n",
    "    CREATE TABLE IF NOT EXISTS employees (\n",
    "        emp_id INT PRIMARY KEY,\n",
    "        emp_name VARCHAR(50),\n",
    "        salary DECIMAL(10,2),\n",
    "        dept_id INT,\n",
    "        hire_date DATE\n",
    "    )\n",
    "    \"\"\"))\n",
    "\n",
    "print(\"Tables created successfully!\")\n",
    "\n",
    "# Insert sample data into employees table using SQLAlchemy style parameters\n",
    "employees_data = [\n",
    "    {'emp_id': 101, 'emp_name': 'Alice Johnson', 'salary': 75000.00, 'dept_id': 1, 'hire_date': '2022-01-15'},\n",
    "    {'emp_id': 102, 'emp_name': 'Bob Smith', 'salary': 85000.00, 'dept_id': 2, 'hire_date': '2021-06-10'},\n",
    "    {'emp_id': 103, 'emp_name': 'Charlie Brown', 'salary': 65000.00, 'dept_id': 3, 'hire_date': '2023-03-20'},\n",
    "    {'emp_id': 104, 'emp_name': 'Diana Prince', 'salary': 90000.00, 'dept_id': 2, 'hire_date': '2020-09-05'},\n",
    "    {'emp_id': 105, 'emp_name': 'Eve Adams', 'salary': 70000.00, 'dept_id': 4, 'hire_date': '2022-11-12'},\n",
    "    {'emp_id': 106, 'emp_name': 'Frank Miller', 'salary': 95000.00, 'dept_id': 2, 'hire_date': '2019-04-18'},\n",
    "    {'emp_id': 107, 'emp_name': 'Grace Lee', 'salary': 60000.00, 'dept_id': 3, 'hire_date': '2023-07-01'},\n",
    "    {'emp_id': 108, 'emp_name': 'Henry Wilson', 'salary': 80000.00, 'dept_id': 1, 'hire_date': '2021-12-03'},\n",
    "    {'emp_id': 109, 'emp_name': 'Ivy Chen', 'salary': 120000.00, 'dept_id': None, 'hire_date': '2023-01-10'}  # Employee without department\n",
    "]\n",
    "\n",
    "with pool.connect() as conn:\n",
    "    conn.execute(\n",
    "        sqlalchemy.text(\"\"\"\n",
    "            INSERT IGNORE INTO employees (emp_id, emp_name, salary, dept_id, hire_date)\n",
    "            VALUES (:emp_id, :emp_name, :salary, :dept_id, :hire_date)\n",
    "        \"\"\"), employees_data\n",
    "    )\n",
    "    conn.commit()\n",
    "\n",
    "print(\"Employees data inserted!\")\n",
    "\n",
    "# connector.close()"
   ]
  },
  {
   "cell_type": "code",
   "execution_count": null,
   "id": "552fe0f3",
   "metadata": {},
   "outputs": [],
   "source": []
  }
 ],
 "metadata": {
  "kernelspec": {
   "display_name": "base",
   "language": "python",
   "name": "python3"
  },
  "language_info": {
   "codemirror_mode": {
    "name": "ipython",
    "version": 3
   },
   "file_extension": ".py",
   "mimetype": "text/x-python",
   "name": "python",
   "nbconvert_exporter": "python",
   "pygments_lexer": "ipython3",
   "version": "3.12.3"
  }
 },
 "nbformat": 4,
 "nbformat_minor": 5
}
