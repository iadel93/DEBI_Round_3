{
 "cells": [
  {
   "cell_type": "code",
   "execution_count": 1,
   "id": "844df604",
   "metadata": {},
   "outputs": [],
   "source": [
    "import mysql.connector\n",
    "\n",
    "connection = mysql.connector.connect(\n",
    "    host=\"localhost\",\n",
    "    user=\"root\",\n",
    "    password=\"root\",\n",
    "    database=\"debi3\"\n",
    ")\n",
    "\n",
    "cursor = connection.cursor()\n"
   ]
  },
  {
   "cell_type": "code",
   "execution_count": 2,
   "id": "35094de0",
   "metadata": {},
   "outputs": [
    {
     "name": "stdout",
     "output_type": "stream",
     "text": [
      "('employee',)\n"
     ]
    }
   ],
   "source": [
    "cursor.execute(\"SHOW TABLES\")\n",
    "tables = cursor.fetchall()\n",
    "for table in tables:\n",
    "    print(table)"
   ]
  },
  {
   "cell_type": "code",
   "execution_count": 5,
   "id": "f8ed62e8",
   "metadata": {},
   "outputs": [],
   "source": [
    "# Insert multiple rows\n",
    "employees = [\n",
    "    (1, 'John Doe', 50000),\n",
    "    (2, 'Jane Smith', 60000),\n",
    "    (3, 'Mike Johnson', 70000)\n",
    "]\n",
    "cursor.executemany(\"INSERT INTO employee (id, name, salary) VALUES (%s, %s, %s)\", employees)"
   ]
  },
  {
   "cell_type": "code",
   "execution_count": 6,
   "id": "953d52e0",
   "metadata": {},
   "outputs": [
    {
     "name": "stdout",
     "output_type": "stream",
     "text": [
      "(1, 'John Doe', None, Decimal('50000.00'))\n",
      "(2, 'Jane Smith', None, Decimal('60000.00'))\n",
      "(3, 'Mike Johnson', None, Decimal('70000.00'))\n"
     ]
    }
   ],
   "source": [
    "# Select all records from a table\n",
    "cursor.execute(\"SELECT * FROM employee\")\n",
    "records = cursor.fetchall()\n",
    "for record in records:\n",
    "    print(record)"
   ]
  },
  {
   "cell_type": "code",
   "execution_count": 8,
   "id": "a242750e",
   "metadata": {},
   "outputs": [
    {
     "name": "stdout",
     "output_type": "stream",
     "text": [
      "[(2, 'Jane Smith', None, Decimal('60000.00')), (3, 'Mike Johnson', None, Decimal('70000.00'))]\n"
     ]
    }
   ],
   "source": [
    "cursor.execute(\"SELECT * FROM employee WHERE salary >= 60000\")\n",
    "records = cursor.fetchall()\n",
    "print(records)"
   ]
  },
  {
   "cell_type": "markdown",
   "id": "ec202c99",
   "metadata": {},
   "source": [
    "# Comparison Operators\n",
    "- = , <>"
   ]
  },
  {
   "cell_type": "code",
   "execution_count": 9,
   "id": "7b9d88be",
   "metadata": {},
   "outputs": [
    {
     "name": "stdout",
     "output_type": "stream",
     "text": [
      "[(1, 'John Doe', None, Decimal('50000.00')), (3, 'Mike Johnson', None, Decimal('70000.00'))]\n"
     ]
    }
   ],
   "source": [
    "cursor.execute(\"SELECT * FROM employee WHERE salary <> 60000\")\n",
    "records = cursor.fetchall()\n",
    "print(records)"
   ]
  },
  {
   "cell_type": "code",
   "execution_count": 10,
   "id": "9def98d2",
   "metadata": {},
   "outputs": [
    {
     "name": "stdout",
     "output_type": "stream",
     "text": [
      "[(1, 'John Doe', None, Decimal('50000.00')), (2, 'Jane Smith', None, Decimal('60000.00')), (3, 'Mike Johnson', None, Decimal('70000.00'))]\n"
     ]
    }
   ],
   "source": [
    "cursor.execute(\"SELECT * FROM employee WHERE salary BETWEEN 50000 AND 70000\")\n",
    "records = cursor.fetchall()\n",
    "print(records)"
   ]
  },
  {
   "cell_type": "code",
   "execution_count": 11,
   "id": "e5997f2c",
   "metadata": {},
   "outputs": [
    {
     "name": "stdout",
     "output_type": "stream",
     "text": [
      "[(1, 'John Doe', None, Decimal('50000.00')), (2, 'Jane Smith', None, Decimal('60000.00'))]\n"
     ]
    }
   ],
   "source": [
    "cursor.execute(\"SELECT * FROM employee WHERE salary IN (50000, 60000)\")\n",
    "records = cursor.fetchall()\n",
    "print(records)"
   ]
  },
  {
   "cell_type": "code",
   "execution_count": 15,
   "id": "c9721f39",
   "metadata": {},
   "outputs": [
    {
     "name": "stdout",
     "output_type": "stream",
     "text": [
      "[(Decimal('60000.00'),)]\n"
     ]
    }
   ],
   "source": [
    "# select using ALL\n",
    "cursor.execute(\"SELECT salary FROM employee WHERE salary = ALL (SELECT salary FROM employee WHERE name = 'Jane Smith')\")\n",
    "records = cursor.fetchall()\n",
    "print(records)"
   ]
  },
  {
   "cell_type": "code",
   "execution_count": 16,
   "id": "8090a969",
   "metadata": {},
   "outputs": [
    {
     "name": "stdout",
     "output_type": "stream",
     "text": [
      "[(1, 'John Doe', None, Decimal('50000.00')), (2, 'Jane Smith', None, Decimal('60000.00'))]\n"
     ]
    }
   ],
   "source": [
    "# using LIKE\n",
    "cursor.execute(\"SELECT * FROM employee WHERE name LIKE 'J%'\")\n",
    "records = cursor.fetchall()\n",
    "print(records)"
   ]
  },
  {
   "cell_type": "code",
   "execution_count": 17,
   "id": "1edb7b60",
   "metadata": {},
   "outputs": [
    {
     "name": "stdout",
     "output_type": "stream",
     "text": [
      "[(3, 'Mike Johnson', None, Decimal('70000.00'))]\n"
     ]
    }
   ],
   "source": [
    "# using LIKE\n",
    "cursor.execute(\"SELECT * FROM employee WHERE name LIKE '_i%'\")\n",
    "records = cursor.fetchall()\n",
    "print(records)"
   ]
  },
  {
   "cell_type": "markdown",
   "id": "70abcaae",
   "metadata": {},
   "source": [
    "Logical operators\n",
    "- AND OR , NOT"
   ]
  },
  {
   "cell_type": "code",
   "execution_count": 18,
   "id": "20d336d2",
   "metadata": {},
   "outputs": [
    {
     "name": "stdout",
     "output_type": "stream",
     "text": [
      "[(2, 'Jane Smith', None, Decimal('60000.00'))]\n"
     ]
    }
   ],
   "source": [
    "cursor.execute(\"SELECT * FROM employee WHERE salary >= 60000 AND name LIKE 'J%'\")\n",
    "records = cursor.fetchall()\n",
    "print(records)"
   ]
  },
  {
   "cell_type": "markdown",
   "id": "4edd0867",
   "metadata": {},
   "source": [
    "Arithmetic Oprerations\n",
    "- + , - , * , /"
   ]
  },
  {
   "cell_type": "code",
   "execution_count": 21,
   "id": "b8703e39",
   "metadata": {},
   "outputs": [],
   "source": [
    "cursor.reset()"
   ]
  },
  {
   "cell_type": "code",
   "execution_count": 22,
   "id": "edf66b50",
   "metadata": {},
   "outputs": [
    {
     "name": "stdout",
     "output_type": "stream",
     "text": [
      "[(3, 'Mike Johnson', None, Decimal('70000.00'))]\n"
     ]
    }
   ],
   "source": [
    "cursor.execute(\"SELECT * FROM employee WHERE salary >= 60000+1000\")\n",
    "records = cursor.fetchall()\n",
    "print(records)"
   ]
  },
  {
   "cell_type": "markdown",
   "id": "8e54d2de",
   "metadata": {},
   "source": [
    "# ORDER BY\n",
    "- ASC\n",
    "- DESC"
   ]
  },
  {
   "cell_type": "code",
   "execution_count": 23,
   "id": "0692496d",
   "metadata": {},
   "outputs": [
    {
     "name": "stdout",
     "output_type": "stream",
     "text": [
      "[(3, 'Mike Johnson', None, Decimal('70000.00')), (2, 'Jane Smith', None, Decimal('60000.00')), (1, 'John Doe', None, Decimal('50000.00'))]\n"
     ]
    }
   ],
   "source": [
    "cursor.execute(\"SELECT * FROM employee ORDER BY salary DESC\")\n",
    "records = cursor.fetchall()\n",
    "print(records)"
   ]
  },
  {
   "cell_type": "code",
   "execution_count": 24,
   "id": "da8e330f",
   "metadata": {},
   "outputs": [
    {
     "name": "stdout",
     "output_type": "stream",
     "text": [
      "[(2, 'Jane Smith', None, Decimal('60000.00')), (1, 'John Doe', None, Decimal('50000.00')), (3, 'Mike Johnson', None, Decimal('70000.00'))]\n"
     ]
    }
   ],
   "source": [
    "cursor.execute(\"SELECT * FROM employee ORDER BY name ASC\")\n",
    "records = cursor.fetchall()\n",
    "print(records)"
   ]
  },
  {
   "cell_type": "markdown",
   "id": "ccc23189",
   "metadata": {},
   "source": [
    "# Join"
   ]
  },
  {
   "cell_type": "code",
   "execution_count": 25,
   "id": "ad64e72a",
   "metadata": {},
   "outputs": [
    {
     "name": "stdout",
     "output_type": "stream",
     "text": [
      "Tables created successfully!\n"
     ]
    }
   ],
   "source": [
    "# Create tables for JOIN demonstration\n",
    "\n",
    "# Create departments table\n",
    "cursor.execute(\"\"\"\n",
    "CREATE TABLE IF NOT EXISTS departments (\n",
    "    dept_id INT PRIMARY KEY,\n",
    "    dept_name VARCHAR(50),\n",
    "    location VARCHAR(50)\n",
    ")\n",
    "\"\"\")\n",
    "\n",
    "# Create employees table with department reference\n",
    "cursor.execute(\"\"\"\n",
    "CREATE TABLE IF NOT EXISTS employees (\n",
    "    emp_id INT PRIMARY KEY,\n",
    "    emp_name VARCHAR(50),\n",
    "    salary DECIMAL(10,2),\n",
    "    dept_id INT,\n",
    "    hire_date DATE\n",
    ")\n",
    "\"\"\")\n",
    "\n",
    "# Create projects table\n",
    "cursor.execute(\"\"\"\n",
    "CREATE TABLE IF NOT EXISTS projects (\n",
    "    project_id INT PRIMARY KEY,\n",
    "    project_name VARCHAR(100),\n",
    "    budget DECIMAL(12,2),\n",
    "    dept_id INT\n",
    ")\n",
    "\"\"\")\n",
    "\n",
    "# Create employee_projects table (many-to-many relationship)\n",
    "cursor.execute(\"\"\"\n",
    "CREATE TABLE IF NOT EXISTS employee_projects (\n",
    "    emp_id INT,\n",
    "    project_id INT,\n",
    "    role VARCHAR(50),\n",
    "    PRIMARY KEY (emp_id, project_id)\n",
    ")\n",
    "\"\"\")\n",
    "\n",
    "connection.commit()\n",
    "print(\"Tables created successfully!\")"
   ]
  },
  {
   "cell_type": "code",
   "execution_count": 26,
   "id": "7069852a",
   "metadata": {},
   "outputs": [
    {
     "name": "stdout",
     "output_type": "stream",
     "text": [
      "Departments data inserted!\n"
     ]
    }
   ],
   "source": [
    "# Insert sample data into departments table\n",
    "departments_data = [\n",
    "    (1, 'Human Resources', 'New York'),\n",
    "    (2, 'Engineering', 'San Francisco'),\n",
    "    (3, 'Marketing', 'Chicago'),\n",
    "    (4, 'Finance', 'New York'),\n",
    "    (5, 'Research', 'Boston')\n",
    "]\n",
    "\n",
    "cursor.executemany(\"INSERT IGNORE INTO departments (dept_id, dept_name, location) VALUES (%s, %s, %s)\", departments_data)\n",
    "connection.commit()\n",
    "print(\"Departments data inserted!\")"
   ]
  },
  {
   "cell_type": "code",
   "execution_count": 27,
   "id": "c916c2d2",
   "metadata": {},
   "outputs": [
    {
     "name": "stdout",
     "output_type": "stream",
     "text": [
      "Employees data inserted!\n"
     ]
    }
   ],
   "source": [
    "# Insert sample data into employees table\n",
    "employees_data = [\n",
    "    (101, 'Alice Johnson', 75000.00, 1, '2022-01-15'),\n",
    "    (102, 'Bob Smith', 85000.00, 2, '2021-06-10'),\n",
    "    (103, 'Charlie Brown', 65000.00, 3, '2023-03-20'),\n",
    "    (104, 'Diana Prince', 90000.00, 2, '2020-09-05'),\n",
    "    (105, 'Eve Adams', 70000.00, 4, '2022-11-12'),\n",
    "    (106, 'Frank Miller', 95000.00, 2, '2019-04-18'),\n",
    "    (107, 'Grace Lee', 60000.00, 3, '2023-07-01'),\n",
    "    (108, 'Henry Wilson', 80000.00, 1, '2021-12-03'),\n",
    "    (109, 'Ivy Chen', 120000.00, None, '2023-01-10')  # Employee without department\n",
    "]\n",
    "\n",
    "cursor.executemany(\"INSERT IGNORE INTO employees (emp_id, emp_name, salary, dept_id, hire_date) VALUES (%s, %s, %s, %s, %s)\", employees_data)\n",
    "connection.commit()\n",
    "print(\"Employees data inserted!\")"
   ]
  },
  {
   "cell_type": "code",
   "execution_count": 28,
   "id": "52978070",
   "metadata": {},
   "outputs": [
    {
     "name": "stdout",
     "output_type": "stream",
     "text": [
      "Projects data inserted!\n"
     ]
    }
   ],
   "source": [
    "# Insert sample data into projects table\n",
    "projects_data = [\n",
    "    (201, 'Website Redesign', 150000.00, 2),\n",
    "    (202, 'HR System Upgrade', 80000.00, 1),\n",
    "    (203, 'Marketing Campaign', 120000.00, 3),\n",
    "    (204, 'Budget Analysis Tool', 95000.00, 4),\n",
    "    (205, 'Mobile App Development', 200000.00, 2),\n",
    "    (206, 'Data Analytics Platform', 250000.00, 5),\n",
    "    (207, 'Social Media Strategy', 75000.00, 3),\n",
    "    (208, 'Legacy System Migration', 300000.00, None)  # Project without assigned department\n",
    "]\n",
    "\n",
    "cursor.executemany(\"INSERT IGNORE INTO projects (project_id, project_name, budget, dept_id) VALUES (%s, %s, %s, %s)\", projects_data)\n",
    "connection.commit()\n",
    "print(\"Projects data inserted!\")"
   ]
  },
  {
   "cell_type": "code",
   "execution_count": 29,
   "id": "604f3967",
   "metadata": {},
   "outputs": [
    {
     "name": "stdout",
     "output_type": "stream",
     "text": [
      "Employee-Projects relationships inserted!\n"
     ]
    }
   ],
   "source": [
    "# Insert sample data into employee_projects table\n",
    "employee_projects_data = [\n",
    "    (102, 201, 'Lead Developer'),\n",
    "    (104, 201, 'Senior Developer'),\n",
    "    (106, 201, 'Technical Lead'),\n",
    "    (101, 202, 'Project Manager'),\n",
    "    (108, 202, 'Business Analyst'),\n",
    "    (103, 203, 'Marketing Specialist'),\n",
    "    (107, 203, 'Content Creator'),\n",
    "    (105, 204, 'Financial Analyst'),\n",
    "    (102, 205, 'Mobile Developer'),\n",
    "    (104, 205, 'Backend Developer'),\n",
    "    (109, 206, 'Data Scientist'),\n",
    "    (103, 207, 'Social Media Manager')\n",
    "]\n",
    "\n",
    "cursor.executemany(\"INSERT IGNORE INTO employee_projects (emp_id, project_id, role) VALUES (%s, %s, %s)\", employee_projects_data)\n",
    "connection.commit()\n",
    "print(\"Employee-Projects relationships inserted!\")"
   ]
  },
  {
   "cell_type": "code",
   "execution_count": 30,
   "id": "e9b4a7da",
   "metadata": {},
   "outputs": [
    {
     "name": "stdout",
     "output_type": "stream",
     "text": [
      "=== DEPARTMENTS ===\n",
      "(1, 'Human Resources', 'New York')\n",
      "(2, 'Engineering', 'San Francisco')\n",
      "(3, 'Marketing', 'Chicago')\n",
      "(4, 'Finance', 'New York')\n",
      "(5, 'Research', 'Boston')\n",
      "\n",
      "=== EMPLOYEES ===\n",
      "(101, 'Alice Johnson', Decimal('75000.00'), 1, datetime.date(2022, 1, 15))\n",
      "(102, 'Bob Smith', Decimal('85000.00'), 2, datetime.date(2021, 6, 10))\n",
      "(103, 'Charlie Brown', Decimal('65000.00'), 3, datetime.date(2023, 3, 20))\n",
      "(104, 'Diana Prince', Decimal('90000.00'), 2, datetime.date(2020, 9, 5))\n",
      "(105, 'Eve Adams', Decimal('70000.00'), 4, datetime.date(2022, 11, 12))\n",
      "(106, 'Frank Miller', Decimal('95000.00'), 2, datetime.date(2019, 4, 18))\n",
      "(107, 'Grace Lee', Decimal('60000.00'), 3, datetime.date(2023, 7, 1))\n",
      "(108, 'Henry Wilson', Decimal('80000.00'), 1, datetime.date(2021, 12, 3))\n",
      "(109, 'Ivy Chen', Decimal('120000.00'), None, datetime.date(2023, 1, 10))\n",
      "\n",
      "=== PROJECTS ===\n",
      "(201, 'Website Redesign', Decimal('150000.00'), 2)\n",
      "(202, 'HR System Upgrade', Decimal('80000.00'), 1)\n",
      "(203, 'Marketing Campaign', Decimal('120000.00'), 3)\n",
      "(204, 'Budget Analysis Tool', Decimal('95000.00'), 4)\n",
      "(205, 'Mobile App Development', Decimal('200000.00'), 2)\n",
      "(206, 'Data Analytics Platform', Decimal('250000.00'), 5)\n",
      "(207, 'Social Media Strategy', Decimal('75000.00'), 3)\n",
      "(208, 'Legacy System Migration', Decimal('300000.00'), None)\n",
      "\n",
      "=== EMPLOYEE_PROJECTS ===\n",
      "(101, 202, 'Project Manager')\n",
      "(102, 201, 'Lead Developer')\n",
      "(102, 205, 'Mobile Developer')\n",
      "(103, 203, 'Marketing Specialist')\n",
      "(103, 207, 'Social Media Manager')\n",
      "(104, 201, 'Senior Developer')\n",
      "(104, 205, 'Backend Developer')\n",
      "(105, 204, 'Financial Analyst')\n",
      "(106, 201, 'Technical Lead')\n",
      "(107, 203, 'Content Creator')\n",
      "(108, 202, 'Business Analyst')\n",
      "(109, 206, 'Data Scientist')\n"
     ]
    }
   ],
   "source": [
    "# Verify the created tables and data\n",
    "print(\"=== DEPARTMENTS ===\")\n",
    "cursor.execute(\"SELECT * FROM departments\")\n",
    "departments = cursor.fetchall()\n",
    "for dept in departments:\n",
    "    print(dept)\n",
    "\n",
    "print(\"\\n=== EMPLOYEES ===\")\n",
    "cursor.execute(\"SELECT * FROM employees\")\n",
    "employees = cursor.fetchall()\n",
    "for emp in employees:\n",
    "    print(emp)\n",
    "\n",
    "print(\"\\n=== PROJECTS ===\")\n",
    "cursor.execute(\"SELECT * FROM projects\")\n",
    "projects = cursor.fetchall()\n",
    "for project in projects:\n",
    "    print(project)\n",
    "\n",
    "print(\"\\n=== EMPLOYEE_PROJECTS ===\")\n",
    "cursor.execute(\"SELECT * FROM employee_projects\")\n",
    "emp_projects = cursor.fetchall()\n",
    "for ep in emp_projects:\n",
    "    print(ep)"
   ]
  },
  {
   "cell_type": "markdown",
   "id": "3d8b152e",
   "metadata": {},
   "source": [
    "Inner Join"
   ]
  },
  {
   "cell_type": "code",
   "execution_count": 34,
   "id": "1070ea73",
   "metadata": {},
   "outputs": [
    {
     "name": "stdout",
     "output_type": "stream",
     "text": [
      "(101, 'Alice Johnson', Decimal('75000.00'), 1, datetime.date(2022, 1, 15), 202, 'HR System Upgrade', Decimal('80000.00'), 1)\n",
      "(102, 'Bob Smith', Decimal('85000.00'), 2, datetime.date(2021, 6, 10), 205, 'Mobile App Development', Decimal('200000.00'), 2)\n",
      "(102, 'Bob Smith', Decimal('85000.00'), 2, datetime.date(2021, 6, 10), 201, 'Website Redesign', Decimal('150000.00'), 2)\n",
      "(103, 'Charlie Brown', Decimal('65000.00'), 3, datetime.date(2023, 3, 20), 207, 'Social Media Strategy', Decimal('75000.00'), 3)\n",
      "(103, 'Charlie Brown', Decimal('65000.00'), 3, datetime.date(2023, 3, 20), 203, 'Marketing Campaign', Decimal('120000.00'), 3)\n",
      "(104, 'Diana Prince', Decimal('90000.00'), 2, datetime.date(2020, 9, 5), 205, 'Mobile App Development', Decimal('200000.00'), 2)\n",
      "(104, 'Diana Prince', Decimal('90000.00'), 2, datetime.date(2020, 9, 5), 201, 'Website Redesign', Decimal('150000.00'), 2)\n",
      "(105, 'Eve Adams', Decimal('70000.00'), 4, datetime.date(2022, 11, 12), 204, 'Budget Analysis Tool', Decimal('95000.00'), 4)\n",
      "(106, 'Frank Miller', Decimal('95000.00'), 2, datetime.date(2019, 4, 18), 205, 'Mobile App Development', Decimal('200000.00'), 2)\n",
      "(106, 'Frank Miller', Decimal('95000.00'), 2, datetime.date(2019, 4, 18), 201, 'Website Redesign', Decimal('150000.00'), 2)\n",
      "(107, 'Grace Lee', Decimal('60000.00'), 3, datetime.date(2023, 7, 1), 207, 'Social Media Strategy', Decimal('75000.00'), 3)\n",
      "(107, 'Grace Lee', Decimal('60000.00'), 3, datetime.date(2023, 7, 1), 203, 'Marketing Campaign', Decimal('120000.00'), 3)\n",
      "(108, 'Henry Wilson', Decimal('80000.00'), 1, datetime.date(2021, 12, 3), 202, 'HR System Upgrade', Decimal('80000.00'), 1)\n"
     ]
    }
   ],
   "source": [
    "cursor.execute(\"SELECT * FROM employees, projects WHERE employees.dept_id = projects.dept_id\")\n",
    "records = cursor.fetchall()\n",
    "for record in records:\n",
    "    print(record)"
   ]
  },
  {
   "cell_type": "code",
   "execution_count": 36,
   "id": "b48c9fcd",
   "metadata": {},
   "outputs": [
    {
     "name": "stdout",
     "output_type": "stream",
     "text": [
      "['emp_id', 'emp_name', 'salary', 'dept_id', 'hire_date', 'dept_id', 'dept_name', 'location']\n",
      "(101, 'Alice Johnson', Decimal('75000.00'), 1, datetime.date(2022, 1, 15), 1, 'Human Resources', 'New York')\n",
      "(102, 'Bob Smith', Decimal('85000.00'), 2, datetime.date(2021, 6, 10), 2, 'Engineering', 'San Francisco')\n",
      "(103, 'Charlie Brown', Decimal('65000.00'), 3, datetime.date(2023, 3, 20), 3, 'Marketing', 'Chicago')\n",
      "(104, 'Diana Prince', Decimal('90000.00'), 2, datetime.date(2020, 9, 5), 2, 'Engineering', 'San Francisco')\n",
      "(105, 'Eve Adams', Decimal('70000.00'), 4, datetime.date(2022, 11, 12), 4, 'Finance', 'New York')\n",
      "(106, 'Frank Miller', Decimal('95000.00'), 2, datetime.date(2019, 4, 18), 2, 'Engineering', 'San Francisco')\n",
      "(107, 'Grace Lee', Decimal('60000.00'), 3, datetime.date(2023, 7, 1), 3, 'Marketing', 'Chicago')\n",
      "(108, 'Henry Wilson', Decimal('80000.00'), 1, datetime.date(2021, 12, 3), 1, 'Human Resources', 'New York')\n"
     ]
    }
   ],
   "source": [
    "cursor.execute(\"SELECT * FROM employees, departments WHERE employees.dept_id = departments.dept_id\")\n",
    "#  list columns names\n",
    "columns = [column[0] for column in cursor.description]\n",
    "print(columns)\n",
    "records = cursor.fetchall()\n",
    "for record in records:\n",
    "    print(record)"
   ]
  },
  {
   "cell_type": "code",
   "execution_count": 37,
   "id": "702e5f9a",
   "metadata": {},
   "outputs": [
    {
     "name": "stdout",
     "output_type": "stream",
     "text": [
      "['emp_id', 'emp_name', 'dept_name']\n",
      "(101, 'Alice Johnson', 'Human Resources')\n",
      "(102, 'Bob Smith', 'Engineering')\n",
      "(103, 'Charlie Brown', 'Marketing')\n",
      "(104, 'Diana Prince', 'Engineering')\n",
      "(105, 'Eve Adams', 'Finance')\n",
      "(106, 'Frank Miller', 'Engineering')\n",
      "(107, 'Grace Lee', 'Marketing')\n",
      "(108, 'Henry Wilson', 'Human Resources')\n"
     ]
    }
   ],
   "source": [
    "cursor.execute(\"\"\"\n",
    "SELECT employees.emp_id, employees.emp_name, departments.dept_name FROM employees, departments WHERE employees.dept_id = departments.dept_id\n",
    "\"\"\")\n",
    "#  list columns names\n",
    "columns = [column[0] for column in cursor.description]\n",
    "print(columns)\n",
    "records = cursor.fetchall()\n",
    "for record in records:\n",
    "    print(record)"
   ]
  },
  {
   "cell_type": "markdown",
   "id": "e2fc5d8a",
   "metadata": {},
   "source": [
    "Table Alias"
   ]
  },
  {
   "cell_type": "code",
   "execution_count": 39,
   "id": "077a5a15",
   "metadata": {},
   "outputs": [
    {
     "name": "stdout",
     "output_type": "stream",
     "text": [
      "['emp_id', 'emp_name', 'dept_name']\n",
      "(102, 'Bob Smith', 'Engineering')\n",
      "(104, 'Diana Prince', 'Engineering')\n",
      "(106, 'Frank Miller', 'Engineering')\n",
      "(105, 'Eve Adams', 'Finance')\n",
      "(101, 'Alice Johnson', 'Human Resources')\n",
      "(108, 'Henry Wilson', 'Human Resources')\n",
      "(103, 'Charlie Brown', 'Marketing')\n",
      "(107, 'Grace Lee', 'Marketing')\n"
     ]
    }
   ],
   "source": [
    "cursor.execute(\"\"\"\n",
    "            SELECT e.emp_id, e.emp_name, d.dept_name \n",
    "            FROM employees e, departments d\n",
    "            WHERE e.dept_id = d.dept_id\n",
    "            ORDER BY d.dept_name\n",
    "\"\"\")\n",
    "#  list columns names\n",
    "columns = [column[0] for column in cursor.description]\n",
    "print(columns)\n",
    "records = cursor.fetchall()\n",
    "for record in records:\n",
    "    print(record)"
   ]
  },
  {
   "cell_type": "markdown",
   "id": "ef7962ca",
   "metadata": {},
   "source": [
    "# Outer join\n",
    "- left join\n",
    "- right join\n",
    "- full join"
   ]
  },
  {
   "cell_type": "code",
   "execution_count": 42,
   "id": "00d75364",
   "metadata": {},
   "outputs": [
    {
     "name": "stdout",
     "output_type": "stream",
     "text": [
      "['emp_id', 'emp_name', 'role']\n",
      "(101, 'Alice Johnson', 'Project Manager')\n",
      "(102, 'Bob Smith', 'Lead Developer')\n",
      "(102, 'Bob Smith', 'Mobile Developer')\n",
      "(103, 'Charlie Brown', 'Marketing Specialist')\n",
      "(103, 'Charlie Brown', 'Social Media Manager')\n",
      "(104, 'Diana Prince', 'Senior Developer')\n",
      "(104, 'Diana Prince', 'Backend Developer')\n",
      "(105, 'Eve Adams', 'Financial Analyst')\n",
      "(106, 'Frank Miller', 'Technical Lead')\n",
      "(107, 'Grace Lee', 'Content Creator')\n",
      "(108, 'Henry Wilson', 'Business Analyst')\n",
      "(109, 'Ivy Chen', 'Data Scientist')\n"
     ]
    }
   ],
   "source": [
    "cursor.execute(\"\"\"\n",
    "            SELECT e.emp_id, e.emp_name, ep.role\n",
    "            FROM employees e RIGHT OUTER JOIN employee_projects ep\n",
    "            ON e.emp_id = ep.emp_id\n",
    "\"\"\")\n",
    "#  list columns names\n",
    "columns = [column[0] for column in cursor.description]\n",
    "print(columns)\n",
    "records = cursor.fetchall()\n",
    "for record in records:\n",
    "    print(record)"
   ]
  },
  {
   "cell_type": "code",
   "execution_count": 44,
   "id": "a8cfed1f",
   "metadata": {},
   "outputs": [
    {
     "name": "stdout",
     "output_type": "stream",
     "text": [
      "['emp_id', 'emp_name', 'role', 'project_name']\n",
      "(None, None, None, 'Legacy System Migration')\n",
      "(101, 'Alice Johnson', 'Project Manager', 'HR System Upgrade')\n",
      "(102, 'Bob Smith', 'Lead Developer', 'Website Redesign')\n",
      "(102, 'Bob Smith', 'Mobile Developer', 'Mobile App Development')\n",
      "(103, 'Charlie Brown', 'Marketing Specialist', 'Marketing Campaign')\n",
      "(103, 'Charlie Brown', 'Social Media Manager', 'Social Media Strategy')\n",
      "(104, 'Diana Prince', 'Senior Developer', 'Website Redesign')\n",
      "(104, 'Diana Prince', 'Backend Developer', 'Mobile App Development')\n",
      "(105, 'Eve Adams', 'Financial Analyst', 'Budget Analysis Tool')\n",
      "(106, 'Frank Miller', 'Technical Lead', 'Website Redesign')\n",
      "(107, 'Grace Lee', 'Content Creator', 'Marketing Campaign')\n",
      "(108, 'Henry Wilson', 'Business Analyst', 'HR System Upgrade')\n",
      "(109, 'Ivy Chen', 'Data Scientist', 'Data Analytics Platform')\n"
     ]
    }
   ],
   "source": [
    "cursor.execute(\"\"\"\n",
    "            SELECT e.emp_id, e.emp_name, ep.role, p.project_name\n",
    "            FROM employees e RIGHT OUTER JOIN employee_projects ep\n",
    "            ON e.emp_id = ep.emp_id\n",
    "            RIGHT OUTER JOIN projects p\n",
    "            ON ep.project_id = p.project_id\n",
    "            ORDER BY e.emp_id ASC\n",
    "\"\"\")\n",
    "#  list columns names\n",
    "columns = [column[0] for column in cursor.description]\n",
    "print(columns)\n",
    "records = cursor.fetchall()\n",
    "for record in records:\n",
    "    print(record)"
   ]
  },
  {
   "cell_type": "code",
   "execution_count": 46,
   "id": "69318c09",
   "metadata": {},
   "outputs": [
    {
     "name": "stdout",
     "output_type": "stream",
     "text": [
      "['emp_id', 'emp_name', 'role', 'project_name']\n",
      "(102, 'Bob Smith', 'Lead Developer', 'Website Redesign')\n",
      "(104, 'Diana Prince', 'Senior Developer', 'Website Redesign')\n",
      "(106, 'Frank Miller', 'Technical Lead', 'Website Redesign')\n"
     ]
    }
   ],
   "source": [
    "cursor.execute(\"\"\"\n",
    "            SELECT e.emp_id, e.emp_name, ep.role, p.project_name\n",
    "            FROM employees e RIGHT OUTER JOIN employee_projects ep\n",
    "            ON e.emp_id = ep.emp_id\n",
    "            RIGHT OUTER JOIN projects p\n",
    "            ON ep.project_id = p.project_id\n",
    "            WHERE p.project_name = 'Website Redesign'\n",
    "            ORDER BY e.emp_id ASC\n",
    "\"\"\")\n",
    "#  list columns names\n",
    "columns = [column[0] for column in cursor.description]\n",
    "print(columns)\n",
    "records = cursor.fetchall()\n",
    "for record in records:\n",
    "    print(record)"
   ]
  },
  {
   "cell_type": "code",
   "execution_count": null,
   "id": "63eb86c0",
   "metadata": {},
   "outputs": [],
   "source": []
  }
 ],
 "metadata": {
  "kernelspec": {
   "display_name": "base",
   "language": "python",
   "name": "python3"
  },
  "language_info": {
   "codemirror_mode": {
    "name": "ipython",
    "version": 3
   },
   "file_extension": ".py",
   "mimetype": "text/x-python",
   "name": "python",
   "nbconvert_exporter": "python",
   "pygments_lexer": "ipython3",
   "version": "3.12.3"
  }
 },
 "nbformat": 4,
 "nbformat_minor": 5
}
