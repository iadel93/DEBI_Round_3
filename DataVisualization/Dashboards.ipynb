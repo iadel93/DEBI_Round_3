{
 "cells": [
  {
   "cell_type": "markdown",
   "id": "aa9c165d",
   "metadata": {},
   "source": [
    "# Using Dash"
   ]
  },
  {
   "cell_type": "code",
   "execution_count": null,
   "id": "93c57e85",
   "metadata": {},
   "outputs": [
    {
     "name": "stdout",
     "output_type": "stream",
     "text": [
      "<class 'pandas.core.frame.DataFrame'>\n",
      "RangeIndex: 150 entries, 0 to 149\n",
      "Data columns (total 6 columns):\n",
      " #   Column        Non-Null Count  Dtype  \n",
      "---  ------        --------------  -----  \n",
      " 0   sepal_length  150 non-null    float64\n",
      " 1   sepal_width   150 non-null    float64\n",
      " 2   petal_length  150 non-null    float64\n",
      " 3   petal_width   150 non-null    float64\n",
      " 4   species       150 non-null    object \n",
      " 5   species_id    150 non-null    int64  \n",
      "dtypes: float64(4), int64(1), object(1)\n",
      "memory usage: 7.2+ KB\n",
      "None\n"
     ]
    }
   ],
   "source": [
    "import dash\n",
    "from dash import html, dcc\n",
    "import plotly.express as px\n",
    "\n",
    "app = dash.Dash(__name__)\n",
    "\n",
    "# Sample data\n",
    "df = px.data.iris()\n",
    "# print(df.info())\n",
    "\n",
    "app.layout = html.Div([\n",
    "    dcc.Dropdown(\n",
    "        id='species-dropdown',\n",
    "        options=[{'label': species, 'value': species} for species in df['species'].unique()],\n",
    "        value=df['species'].unique()[0]\n",
    "    ),\n",
    "    dcc.Graph(\n",
    "        id='scatter-plot',\n",
    "        figure=px.scatter(df, x='sepal_width', y='sepal_length', color='species')\n",
    "    )\n",
    "])\n",
    "\n",
    "@app.callback(\n",
    "    dash.dependencies.Output('scatter-plot', 'figure'),\n",
    "    [dash.dependencies.Input('species-dropdown', 'value')]\n",
    ")\n",
    "def update_scatter_plot(selected_species):\n",
    "    filtered_df = df[df['species'] == selected_species]\n",
    "    return px.scatter(filtered_df, x='sepal_width', y='sepal_length', color='species')\n",
    "\n",
    "if __name__ == '__main__':\n",
    "    app.run_server(debug=True)\n"
   ]
  },
  {
   "cell_type": "code",
   "execution_count": null,
   "id": "96e19116",
   "metadata": {},
   "outputs": [],
   "source": [
    "import dash\n",
    "from dash import html, dcc\n",
    "import plotly.express as px\n",
    "\n",
    "app = dash.Dash(__name__)\n",
    "\n",
    "# Sample data\n",
    "df = px.data.iris()\n",
    "# print(df.info())\n",
    "\n",
    "app.layout = html.Div([\n",
    "    dcc.Dropdown(\n",
    "        id='species-dropdown',\n",
    "        options=[{'label': species, 'value': species} for species in df['species'].unique()],\n",
    "        value=[df['species'].unique()[0]],\n",
    "        multi=True\n",
    "    ),\n",
    "    dcc.Graph(\n",
    "        id='scatter-plot',\n",
    "        figure=px.scatter(df, x='sepal_width', y='sepal_length', color='species')\n",
    "    )\n",
    "])\n",
    "\n",
    "@app.callback(\n",
    "    dash.dependencies.Output('scatter-plot', 'figure'),\n",
    "    [dash.dependencies.Input('species-dropdown', 'value')]\n",
    ")\n",
    "def update_scatter_plot(selected_species):\n",
    "    filtered_df = df[df['species'] == selected_species]\n",
    "    return px.scatter(filtered_df, x='sepal_width', y='sepal_length', color='species')\n",
    "\n",
    "if __name__ == '__main__':\n",
    "    app.run_server(debug=True)"
   ]
  },
  {
   "cell_type": "code",
   "execution_count": null,
   "id": "524198d5",
   "metadata": {},
   "outputs": [],
   "source": [
    "import dash\n",
    "from dash import html, dcc\n",
    "import plotly.express as px\n",
    "\n",
    "app = dash.Dash(__name__)\n",
    "\n",
    "# Sample data\n",
    "df = px.data.iris()\n",
    "# print(df.info())\n",
    "\n",
    "app.layout = html.Div([\n",
    "    dcc.Dropdown(\n",
    "        id='species-dropdown',\n",
    "        options=[{'label': species, 'value': species} for species in df['species'].unique()],\n",
    "        value=[df['species'].unique()[0]],\n",
    "        multi=True\n",
    "    ),\n",
    "    dcc.RadioItems(\n",
    "        id='sepal-radio',\n",
    "        options=[\n",
    "            {'label': 'Sepal Width', 'value': 'sepal_width'},\n",
    "            {'label': 'Sepal Length', 'value': 'sepal_length'}\n",
    "        ],\n",
    "        value='sepal_width'\n",
    "    ),\n",
    "    dcc.RadioItems(\n",
    "        id='petal-radio',\n",
    "        options=[\n",
    "            {'label': 'Petal Width', 'value': 'petal_width'},\n",
    "            {'label': 'Petal Length', 'value': 'petal_length'}\n",
    "        ],\n",
    "        value='petal_width'\n",
    "    ),\n",
    "    dcc.Graph(\n",
    "        id='scatter-plot',\n",
    "        figure=px.scatter(df, x='sepal_width', y='sepal_length', color='species')\n",
    "    )\n",
    "])\n",
    "\n",
    "@app.callback(\n",
    "    dash.dependencies.Output('scatter-plot', 'figure'),\n",
    "    [dash.dependencies.Input('species-dropdown', 'value'), \n",
    "     dash.dependencies.Input('sepal-radio', 'value'),\n",
    "     dash.dependencies.Input('petal-radio', 'value')]\n",
    ")\n",
    "def update_scatter_plot(selected_species, sepal_dimension, petal_dimension):\n",
    "    filtered_df = df[df['species'].isin(selected_species)]\n",
    "    return px.scatter(filtered_df, x=sepal_dimension, y=petal_dimension, color='species')\n",
    "\n",
    "if __name__ == '__main__':\n",
    "    app.run_server(debug=True)"
   ]
  },
  {
   "cell_type": "markdown",
   "id": "fe3c0b62",
   "metadata": {},
   "source": [
    "# Streamlit"
   ]
  },
  {
   "cell_type": "code",
   "execution_count": null,
   "id": "11a0618b",
   "metadata": {},
   "outputs": [],
   "source": [
    "import streamlit as st\n",
    "\n",
    "st.title(\"Iris Dataset Visualization\")\n"
   ]
  }
 ],
 "metadata": {
  "kernelspec": {
   "display_name": "base",
   "language": "python",
   "name": "python3"
  },
  "language_info": {
   "codemirror_mode": {
    "name": "ipython",
    "version": 3
   },
   "file_extension": ".py",
   "mimetype": "text/x-python",
   "name": "python",
   "nbconvert_exporter": "python",
   "pygments_lexer": "ipython3",
   "version": "3.12.3"
  }
 },
 "nbformat": 4,
 "nbformat_minor": 5
}
